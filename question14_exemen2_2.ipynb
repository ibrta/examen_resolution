{
  "nbformat": 4,
  "nbformat_minor": 0,
  "metadata": {
    "colab": {
      "provenance": [],
      "authorship_tag": "ABX9TyPWp/FxgIg1xNb4h3y0DgvN",
      "include_colab_link": true
    },
    "kernelspec": {
      "name": "python3",
      "display_name": "Python 3"
    },
    "language_info": {
      "name": "python"
    }
  },
  "cells": [
    {
      "cell_type": "markdown",
      "metadata": {
        "id": "view-in-github",
        "colab_type": "text"
      },
      "source": [
        "<a href=\"https://colab.research.google.com/github/ibrta/examen_resolution/blob/main/question14_exemen2_2.ipynb\" target=\"_parent\"><img src=\"https://colab.research.google.com/assets/colab-badge.svg\" alt=\"Open In Colab\"/></a>"
      ]
    },
    {
      "cell_type": "code",
      "source": [
        "from sklearn.preprocessing import LabelEncoder\n",
        "\n",
        "# Exemple de labels\n",
        "labels = ['chat', 'chien', 'cheval', 'chat', 'chien']\n",
        "\n",
        "# Encoder les labels\n",
        "encoder = LabelEncoder()\n",
        "labels_encoded = encoder.fit_transform(labels)\n",
        "# labels_encoded contient maintenant [0, 1, 2, 0, 1]"
      ],
      "metadata": {
        "id": "1AIo4ro1bNer"
      },
      "execution_count": 1,
      "outputs": []
    },
    {
      "cell_type": "code",
      "source": [
        "from tensorflow.keras.utils import to_categorical\n",
        "\n",
        "# Créer les vecteurs one-hot\n",
        "labels_one_hot = to_categorical(labels_encoded)"
      ],
      "metadata": {
        "id": "xfnroLvjbaIF"
      },
      "execution_count": 2,
      "outputs": []
    },
    {
      "cell_type": "code",
      "source": [
        "model.compile(optimizer='adam',\n",
        "              loss='categorical_crossentropy',\n",
        "              metrics=['accuracy'])\n",
        "\n",
        "model.fit(data_x, labels_one_hot, epochs=10, batch_size=32)"
      ],
      "metadata": {
        "id": "sUoSxSe8bjEM"
      },
      "execution_count": null,
      "outputs": []
    }
  ]
}