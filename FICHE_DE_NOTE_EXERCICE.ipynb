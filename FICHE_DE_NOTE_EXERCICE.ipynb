{
  "nbformat": 4,
  "nbformat_minor": 0,
  "metadata": {
    "colab": {
      "provenance": [],
      "authorship_tag": "ABX9TyPDZ4mgq9UssAiGbzsygzli",
      "include_colab_link": true
    },
    "kernelspec": {
      "name": "python3",
      "display_name": "Python 3"
    },
    "language_info": {
      "name": "python"
    }
  },
  "cells": [
    {
      "cell_type": "markdown",
      "metadata": {
        "id": "view-in-github",
        "colab_type": "text"
      },
      "source": [
        "<a href=\"https://colab.research.google.com/github/ibrta/examen_resolution/blob/EXAMENS-PRATIQUES-EN-CLASSES/FICHE_DE_NOTE_EXERCICE.ipynb\" target=\"_parent\"><img src=\"https://colab.research.google.com/assets/colab-badge.svg\" alt=\"Open In Colab\"/></a>"
      ]
    },
    {
      "cell_type": "markdown",
      "source": [
        "index.html"
      ],
      "metadata": {
        "id": "Xr4Xfw-LgiL4"
      }
    },
    {
      "cell_type": "code",
      "execution_count": null,
      "metadata": {
        "id": "HEJA5EyMf_ul"
      },
      "outputs": [],
      "source": [
        "<!DOCTYPE html>\n",
        "<html lang=\"fr\">\n",
        "<head>\n",
        "    <meta charset=\"UTF-8\">\n",
        "    <meta name=\"viewport\" content=\"width=device-width, initial-scale=1.0\">\n",
        "    <title>Fiche de note</title>\n",
        "    <style>\n",
        "        table {\n",
        "            width: 100%;\n",
        "            border-collapse: collapse;\n",
        "        }\n",
        "        th, td {\n",
        "            border: 1px solid black;\n",
        "            padding: 8px;\n",
        "            text-align: left;\n",
        "        }\n",
        "        input[type=\"number\"] {\n",
        "            width: 50px;\n",
        "        }\n",
        "        legend {\n",
        "            color: rgb(225, 70, 96);\n",
        "            font-size: 1.2em;\n",
        "            font-weight: bold;\n",
        "        }\n",
        "    </style>\n",
        "    <script src=\"Fiche de note.js\"></script>\n",
        "</head>\n",
        "<body>\n",
        "    <fieldset>\n",
        "        <legend>Fiche de note</legend>\n",
        "        <form id=\"noteForm\">\n",
        "            <table>\n",
        "                <tr>\n",
        "                    <th>Module</th>\n",
        "                    <th>Moyenne</th>\n",
        "                    <th>Coefficient</th>\n",
        "                </tr>\n",
        "                <tr>\n",
        "                    <td>Technologie Web</td>\n",
        "                    <td><input type=\"number\" id=\"note1\" min=\"0\" max=\"20\" step=\"0.1\"></td>\n",
        "                    <td>\n",
        "                        <input type=\"radio\" name=\"coef1\" value=\"1\" id=\"coef1_1\" checked>\n",
        "                        <label for=\"coef1_1\">1</label>\n",
        "                        <input type=\"radio\" name=\"coef1\" value=\"2\" id=\"coef1_2\">\n",
        "                        <label for=\"coef1_2\">2</label>\n",
        "                        <input type=\"radio\" name=\"coef1\" value=\"3\" id=\"coef1_3\">\n",
        "                        <label for=\"coef1_3\">3</label>\n",
        "                    </td>\n",
        "                </tr>\n",
        "                <tr>\n",
        "                    <td>Système logique</td>\n",
        "                    <td><input type=\"number\" id=\"note2\" min=\"0\" max=\"20\" step=\"0.1\"></td>\n",
        "                    <td>\n",
        "                        <input type=\"radio\" name=\"coef2\" value=\"1\" id=\"coef2_1\" checked>\n",
        "                        <label for=\"coef2_1\">1</label>\n",
        "                        <input type=\"radio\" name=\"coef2\" value=\"2\" id=\"coef2_2\">\n",
        "                        <label for=\"coef2_2\">2</label>\n",
        "                        <input type=\"radio\" name=\"coef2\" value=\"3\" id=\"coef2_3\">\n",
        "                        <label for=\"coef2_3\">3</label>\n",
        "                    </td>\n",
        "                </tr>\n",
        "                <tr>\n",
        "                    <td colspan=\"3\">&nbsp;</td>\n",
        "                </tr>\n",
        "                <tr>\n",
        "                    <td colspan=\"3\">&nbsp;</td>\n",
        "                </tr>\n",
        "                <tr>\n",
        "                    <td>\n",
        "                        <button type=\"button\" id=\"calculButton\">Moyenne générale</button>\n",
        "                    </td>\n",
        "                    <td colspan=\"2\">\n",
        "                        <input type=\"text\" id=\"moyenneGenerale\" readonly>\n",
        "                    </td>\n",
        "                </tr>\n",
        "            </table>\n",
        "        </form>\n",
        "        <div id=\"mention\"></div>\n",
        "    </fieldset>\n",
        "</body>\n",
        "</html>\n",
        "\n",
        "\n"
      ]
    },
    {
      "cell_type": "markdown",
      "source": [
        "document fiche de note .js"
      ],
      "metadata": {
        "id": "22ACv8I7gdeg"
      }
    },
    {
      "cell_type": "code",
      "source": [
        "document.addEventListener('DOMContentLoaded', function() {\n",
        "    document.getElementById('calculButton').addEventListener('click', calcul);\n",
        "});\n",
        "\n",
        "function calcul() {\n",
        "    const note1 = parseFloat(document.getElementById('note1').value);\n",
        "    const note2 = parseFloat(document.getElementById('note2').value);\n",
        "\n",
        "    // Vérification des données saisies\n",
        "    if (isNaN(note1) || note1 < 0 || note1 > 20 || isNaN(note2) || note2 < 0 || note2 > 20) {\n",
        "        alert(\"Les moyennes doivent être comprises entre 0 et 20.\");\n",
        "        return;\n",
        "    }\n",
        "\n",
        "    const coef1 = parseInt(document.querySelector('input[name=\"coef1\"]:checked').value);\n",
        "    const coef2 = parseInt(document.querySelector('input[name=\"coef2\"]:checked').value);\n",
        "\n",
        "    const T1 = note1 * coef1;\n",
        "    const T2 = note2 * coef2;\n",
        "\n",
        "    const T = (T1 + T2) / (coef1 + coef2);\n",
        "\n",
        "    document.getElementById('moyenneGenerale').value = T.toFixed(2);\n",
        "\n",
        "    // Affichage de la mention\n",
        "    let mention;\n",
        "    if (T < 10) {\n",
        "        mention = \"Mauvais\";\n",
        "    } else if (T < 12) {\n",
        "        mention = \"Moyenne\";\n",
        "    } else if (T < 15) {\n",
        "        mention = \"Bien\";\n",
        "    } else {\n",
        "        mention = \"T.Bien\";\n",
        "    }\n",
        "\n",
        "    document.getElementById('mention').textContent = `Mention : ${mention}`;\n",
        "}"
      ],
      "metadata": {
        "id": "ThWYKP8hgG0R"
      },
      "execution_count": null,
      "outputs": []
    }
  ]
}