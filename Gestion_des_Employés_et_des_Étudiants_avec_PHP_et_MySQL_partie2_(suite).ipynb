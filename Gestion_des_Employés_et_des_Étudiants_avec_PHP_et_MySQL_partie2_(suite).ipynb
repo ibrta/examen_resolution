{
  "nbformat": 4,
  "nbformat_minor": 0,
  "metadata": {
    "colab": {
      "provenance": [],
      "authorship_tag": "ABX9TyO0InvSGTKW+nmRzq7q7JSh",
      "include_colab_link": true
    },
    "kernelspec": {
      "name": "python3",
      "display_name": "Python 3"
    },
    "language_info": {
      "name": "python"
    }
  },
  "cells": [
    {
      "cell_type": "markdown",
      "metadata": {
        "id": "view-in-github",
        "colab_type": "text"
      },
      "source": [
        "<a href=\"https://colab.research.google.com/github/ibrta/examen_resolution/blob/EXAMENS-PRATIQUES-EN-CLASSES/Gestion_des_Employ%C3%A9s_et_des_%C3%89tudiants_avec_PHP_et_MySQL_partie2_(suite).ipynb\" target=\"_parent\"><img src=\"https://colab.research.google.com/assets/colab-badge.svg\" alt=\"Open In Colab\"/></a>"
      ]
    },
    {
      "cell_type": "markdown",
      "source": [
        "(3%) Qu'est-ce que PDO et quels sont ses avantages par rapport à MySQLi ?\n",
        "\n",
        "PDO, ou PHP Data Objects, est une interface d'abstraction qui permet d'accéder à différentes bases de données en utilisant PHP. Ses principaux avantages par rapport à MySQLi incluent :\n",
        "\n",
        "Portabilité : PDO permet de travailler avec plusieurs types de bases de données (MySQL, PostgreSQL, SQLite, etc.) sans changer le code.\n",
        "\n",
        "Interface uniforme : Il offre une interface cohérente pour interagir avec différentes bases de données, facilitant ainsi la migration entre elles.\n",
        "\n",
        "Support des requêtes préparées : Cela améliore la sécurité contre les injections SQL et optimise les performances en précompilant les requêtes.\n",
        "\n"
      ],
      "metadata": {
        "id": "d_zFZfF2HsRn"
      }
    },
    {
      "cell_type": "markdown",
      "source": [
        "(3%) Énumérez et expliquez les paramètres nécessaires pour établir une connexion PDO.\n",
        "Pour établir une connexion PDO, trois paramètres principaux sont nécessaires :\n",
        "\n",
        "DSN (Data Source Name) : Indique le type de base de données et les informations de connexion. Par exemple, pour MySQL :\n",
        "\n",
        "mysql:host=localhost;dbname=database.\n",
        "\n",
        "Nom d'utilisateur : Le nom d'utilisateur pour se connecter à la base de données.\n",
        "\n",
        "Mot de passe : Le mot de passe associé à l'utilisateur."
      ],
      "metadata": {
        "id": "ZKN04aXhHv5e"
      }
    },
    {
      "cell_type": "markdown",
      "source": [
        "(3%) Écrivez une ligne de code PHP pour établir une connexion PDO à une base de données MySQL."
      ],
      "metadata": {
        "id": "VguMbNgOIpTv"
      }
    },
    {
      "cell_type": "code",
      "source": [
        "$pdo = new PDO(\"mysql:host=localhost;dbname=database\", \"user\", \"1234\");"
      ],
      "metadata": {
        "id": "pYtcvIQ-JEjB"
      },
      "execution_count": null,
      "outputs": []
    },
    {
      "cell_type": "markdown",
      "source": [
        "(3%) Comment préparez-vous et exécutez-vous une requête d'insertion avec PDO ? Donnez un exemple de code.\n",
        "\n"
      ],
      "metadata": {
        "id": "R2th6mZNI_mb"
      }
    },
    {
      "cell_type": "code",
      "source": [
        "$stmt = $pdo->prepare(\"INSERT INTO utilisateurs (nom, email) VALUES (:nom, :email)\");\n",
        "$stmt->execute([':nom' => 'tarek', ':email' => 'tarekibrahim99@hotmail.com']);"
      ],
      "metadata": {
        "id": "X30leVQDJdYt"
      },
      "execution_count": null,
      "outputs": []
    },
    {
      "cell_type": "markdown",
      "source": [
        "(3%) Expliquez ce qu'est une requête préparée et pourquoi elle est importante pour la sécurité."
      ],
      "metadata": {
        "id": "Zuz1sRjtJpRO"
      }
    },
    {
      "cell_type": "markdown",
      "source": [
        "Une requête préparée est une instruction SQL qui est précompilée et peut être exécutée plusieurs fois avec différents paramètres. Elle est importante pour la sécurité car elle protège contre les attaques par injection SQL. En séparant les instructions SQL des données, elle garantit que les données fournies ne sont pas interprétées comme du code SQL."
      ],
      "metadata": {
        "id": "VcA2CAzkKYPe"
      }
    },
    {
      "cell_type": "markdown",
      "source": [
        "(3%) Comment récupérez-vous les résultats d'une requête SELECT avec PDO ? Fournissez un exemple de code."
      ],
      "metadata": {
        "id": "lKVmRtW-LRPi"
      }
    },
    {
      "cell_type": "code",
      "source": [
        "\n",
        "            try {\n",
        "                $conn = new PDO(\"mysql:host=\" . $serveur . \";dbname=\" . $bd, $utilisateur, $pwd);\n",
        "                $conn->setAttribute(PDO::ATTR_ERRMODE, PDO::ERRMODE_EXCEPTION);\n",
        "\n",
        "                $query = \"SELECT * FROM boutique\";\n",
        "                $stmt = $conn->query($query);\n",
        "\n",
        "                if ($stmt->rowCount() > 0) {\n",
        "                    while($row = $stmt->fetch(PDO::FETCH_ASSOC)) {\n",
        "                        echo '<input type=\"radio\" id=\"' . $row['libelle'] . '\" name=\"boutiqueF\" value=\"' . $row['libelle'] . '\" required>';\n",
        "                        echo '<label for=\"' . $row['libelle'] . '\">' . $row['libelle'] . '</label><br>';\n",
        "                    }\n",
        "                }"
      ],
      "metadata": {
        "id": "8522uD7vJtig"
      },
      "execution_count": null,
      "outputs": []
    },
    {
      "cell_type": "markdown",
      "source": [
        "(3%) Quelle est la différence entre bindParam() et bindValue() en PDO ? Quand utiliseriez-vous l'un plutôt que l'autre ?"
      ],
      "metadata": {
        "id": "k7UmXyUJLVpO"
      }
    },
    {
      "cell_type": "markdown",
      "source": [
        "bindParam() : Cette méthode lie une variable à un paramètre de la requête. Elle est liée par référence, ce qui signifie que si la valeur de la variable change avant l'exécution de la requête, la nouvelle valeur sera utilisée. Cela est particulièrement utile dans les boucles ou l'ont exécute plusieurs fois la même requête avec des valeurs différentes.\n",
        "\n",
        "bindValue() : Cette méthode lie une valeur à un paramètre. Elle est liée par valeur, ce qui signifie que la valeur est copiée au moment de l'appel. Toute modification ultérieure de la variable n'affectera pas le paramètre lié. Cela est utile lorsque vous avez des valeurs constantes ou lorsque vous ne prévoyez pas de modifier la variable après l'appel."
      ],
      "metadata": {
        "id": "yFYm2MkQLijz"
      }
    },
    {
      "cell_type": "markdown",
      "source": [
        "(3%) Expliquez le rôle du fichier ValiderAjoutEmployee.php dans le projet PDO. Que fait-il et comment interagit-il avec la base de données ?"
      ],
      "metadata": {
        "id": "yPBqI3VNLo1I"
      }
    },
    {
      "cell_type": "markdown",
      "source": [
        "Le fichier ValiderAjoutEmployee.php joue un rôle crucial dans la gestion des données des employés dans un projet utilisant PDO. Voici ses principales fonctions :\n",
        "Validation des données : Ce fichier est responsable de vérifier que les données soumises via un formulaire d'ajout d'employé sont complètes et conformes aux attentes (par exemple, vérifier que tous les champs obligatoires sont remplis).\n",
        "\n",
        "Préparation de la requête d'insertion : Une fois les données validées, il prépare une requête SQL pour insérer un nouvel employé dans la base de données. Cela se fait en utilisant PDO pour garantir la sécurité contre les injections SQL.\n",
        "\n",
        "Exécution de la requête : Après avoir préparé la requête, le fichier exécute celle-ci en liant les valeurs des champs du formulaire aux paramètres de la requête préparée.\n",
        "\n",
        "Gestion des erreurs : En cas d'erreur lors de l'insertion dans la base de données, le fichier peut gérer ces exceptions et retourner un message d'erreur approprié à l'utilisateur."
      ],
      "metadata": {
        "id": "gpODN9WgMqwK"
      }
    },
    {
      "cell_type": "markdown",
      "source": [
        "(3%) Comment gérez-vous les exceptions avec PDO ? Donnez un exemple de code."
      ],
      "metadata": {
        "id": "eQTYyTksNzmV"
      }
    },
    {
      "cell_type": "code",
      "source": [
        "try {\n",
        "    // Établir la connexion à la base de données\n",
        "    $pdo = new PDO(\"mysql:host=localhost;dbname=mabase\", \"user\", \"1234\");\n",
        "    // Définir le mode d'erreur pour lancer des exceptions\n",
        "    $pdo->setAttribute(PDO::ATTR_ERRMODE, PDO::ERRMODE_EXCEPTION);\n",
        "\n",
        "    // Exécuter une requête\n",
        "    $stmt = $pdo->query(\"SELECT * FROM utilisateurs\");\n",
        "    $utilisateurs = $stmt->fetchAll(PDO::FETCH_ASSOC);\n",
        "\n",
        "} catch (PDOException $e) {\n",
        "    // Gérer l'exception en affichant un message d'erreur\n",
        "    echo \"Erreur : \" . $e->getMessage();\n",
        "}"
      ],
      "metadata": {
        "id": "eIX7u79kM9am"
      },
      "execution_count": null,
      "outputs": []
    }
  ]
}