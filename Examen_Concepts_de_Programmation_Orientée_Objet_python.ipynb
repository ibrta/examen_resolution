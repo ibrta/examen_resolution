{
  "nbformat": 4,
  "nbformat_minor": 0,
  "metadata": {
    "colab": {
      "provenance": [],
      "authorship_tag": "ABX9TyMc6Y4ACB2QIzGJxrQQ+SOC",
      "include_colab_link": true
    },
    "kernelspec": {
      "name": "python3",
      "display_name": "Python 3"
    },
    "language_info": {
      "name": "python"
    }
  },
  "cells": [
    {
      "cell_type": "markdown",
      "metadata": {
        "id": "view-in-github",
        "colab_type": "text"
      },
      "source": [
        "<a href=\"https://colab.research.google.com/github/ibrta/examen_resolution/blob/EXAMENS-PRATIQUES-EN-CLASSES/Examen_Concepts_de_Programmation_Orient%C3%A9e_Objet_python.ipynb\" target=\"_parent\"><img src=\"https://colab.research.google.com/assets/colab-badge.svg\" alt=\"Open In Colab\"/></a>"
      ]
    },
    {
      "cell_type": "code",
      "execution_count": 2,
      "metadata": {
        "colab": {
          "base_uri": "https://localhost:8080/"
        },
        "id": "uK1denl6FdGF",
        "outputId": "fe0ebcd1-4040-40e2-e36b-0c49fb8c4f82"
      },
      "outputs": [
        {
          "output_type": "stream",
          "name": "stdout",
          "text": [
            "Bonjour, je m'appelle Tarek !\n",
            "Person(name='Tarek', age=40)\n"
          ]
        }
      ],
      "source": [
        "class Person:\n",
        "    def __init__(self, name, age):\n",
        "        self.name = name\n",
        "        self.age = age\n",
        "\n",
        "    def greet(self):\n",
        "        print(f\"Bonjour, je m'appelle {self.name} !\")\n",
        "\n",
        "    def __str__(self):\n",
        "        return f\"Person(name='{self.name}', age={self.age})\"\n",
        "\n",
        "# Instanciation d'un objet Person\n",
        "person = Person(\"Tarek\", 40)\n",
        "\n",
        "# Appel de la méthode greet\n",
        "person.greet()\n",
        "\n",
        "# Affichage de l'objet (appel implicite de __str__)\n",
        "print(person)"
      ]
    }
  ]
}