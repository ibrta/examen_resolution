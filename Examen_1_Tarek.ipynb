{
  "cells": [
    {
      "cell_type": "markdown",
      "metadata": {
        "id": "view-in-github",
        "colab_type": "text"
      },
      "source": [
        "<a href=\"https://colab.research.google.com/github/ibrta/examen_resolution/blob/main/Examen_1_Tarek.ipynb\" target=\"_parent\"><img src=\"https://colab.research.google.com/assets/colab-badge.svg\" alt=\"Open In Colab\"/></a>"
      ]
    },
    {
      "cell_type": "markdown",
      "metadata": {
        "id": "pimhdnTl_mJM"
      },
      "source": [
        "![Rhyme](https://rhyme.com/assets/img/logo-dark.png)"
      ]
    },
    {
      "cell_type": "markdown",
      "metadata": {
        "id": "pGoEDUDc_mJO"
      },
      "source": [
        "# Task 1: Introduction\n",
        "\n",
        "Welcome to Basic Image Classification with TensorFlow.\n",
        "\n",
        "This graph describes the problem that we are trying to solve visually. We want to create and train a model that takes an image of a hand written digit as input and predicts the class of that digit, that is, it predicts the digit or it predicts the class of the input image.\n",
        "\n",
        "![Hand Written Digits Classification](https://drive.google.com/uc?export=view&id=1OZMTtcN1l-xVu8YXtU9qAUUHBs6ZmYzt)"
      ]
    },
    {
      "cell_type": "code",
      "source": [],
      "metadata": {
        "id": "RcPjvPgkBzGH"
      },
      "execution_count": null,
      "outputs": []
    },
    {
      "cell_type": "markdown",
      "source": [],
      "metadata": {
        "id": "imjhKttNBt91"
      }
    },
    {
      "cell_type": "markdown",
      "metadata": {
        "id": "Dwd0Oxhk_mJO"
      },
      "source": [
        "### Import TensorFlow"
      ]
    },
    {
      "cell_type": "code",
      "execution_count": 1,
      "metadata": {
        "id": "0GFCIVOr_mJP",
        "colab": {
          "base_uri": "https://localhost:8080/"
        },
        "outputId": "b3f84e55-3dd3-4a1c-a75f-e3f0f4fbdede"
      },
      "outputs": [
        {
          "output_type": "stream",
          "name": "stdout",
          "text": [
            "Using TensorFlow version 2.15.0\n"
          ]
        }
      ],
      "source": [
        "import tensorflow as tf\n",
        "import os\n",
        "#tf.logging.set_verbosity(tf.logging.ERROR)\n",
        "os.environ['TF_CPP_MIN_LOG_LEVEL'] = '4'\n",
        "print('Using TensorFlow version', tf.__version__)\n",
        "\n",
        "## Importation de TensorFlow et os, configuration du niveau de journalisation pour afficher uniquement les erreurs, et affichage de la version TensorFlow installée."
      ]
    },
    {
      "cell_type": "markdown",
      "metadata": {
        "id": "b7ldSJzz_mJP"
      },
      "source": [
        "# Task 2: The Dataset\n",
        "### Import MNIST"
      ]
    },
    {
      "cell_type": "code",
      "execution_count": 2,
      "metadata": {
        "id": "JpXxMrDj_mJP",
        "colab": {
          "base_uri": "https://localhost:8080/"
        },
        "outputId": "f532b634-ab69-4670-fb06-62b4ffae9dc0"
      },
      "outputs": [
        {
          "output_type": "stream",
          "name": "stdout",
          "text": [
            "Downloading data from https://storage.googleapis.com/tensorflow/tf-keras-datasets/mnist.npz\n",
            "11490434/11490434 [==============================] - 0s 0us/step\n"
          ]
        }
      ],
      "source": [
        "from tensorflow.keras.datasets import mnist\n",
        "(x_train, y_train), (x_test, y_test)= mnist.load_data()\n",
        "\n",
        "## Importe le jeu de données MNIST depuis TensorFlow.keras et charge les données d'entraînement et de test dans les variables x_train, y_train, x_test, y_test."
      ]
    },
    {
      "cell_type": "markdown",
      "metadata": {
        "id": "NmB6kMsq_mJP"
      },
      "source": [
        "### Shapes of Imported Arrays"
      ]
    },
    {
      "cell_type": "code",
      "execution_count": 3,
      "metadata": {
        "id": "nXBkfM0m_mJP",
        "colab": {
          "base_uri": "https://localhost:8080/"
        },
        "outputId": "1223d957-d458-45c2-e711-2ba942248d92"
      },
      "outputs": [
        {
          "output_type": "stream",
          "name": "stdout",
          "text": [
            "x_train shape: (60000, 28, 28)\n",
            "y_train shape: (60000,)\n",
            "x_test shape: (10000, 28, 28)\n",
            "y_test shape: (10000,)\n"
          ]
        }
      ],
      "source": [
        "print('x_train shape:', x_train.shape)\n",
        "print('y_train shape:', y_train.shape)\n",
        "print('x_test shape:', x_test.shape)\n",
        "print('y_test shape:', y_test.shape)\n",
        "\n",
        "## Affiche les formes (dimensions) des données d'entraînement et de test pour les images et les étiquettes du jeu de données MNIST."
      ]
    },
    {
      "cell_type": "markdown",
      "metadata": {
        "id": "_B9GMASJ_mJP"
      },
      "source": [
        "### Plot an Image Example"
      ]
    },
    {
      "cell_type": "code",
      "execution_count": 5,
      "metadata": {
        "id": "HY5joLYI_mJP",
        "colab": {
          "base_uri": "https://localhost:8080/",
          "height": 430
        },
        "outputId": "f229e4da-0076-4dd6-9d41-053854ff2a5b"
      },
      "outputs": [
        {
          "output_type": "display_data",
          "data": {
            "text/plain": [
              "<Figure size 640x480 with 1 Axes>"
            ],
            "image/png": "[encoded data removed]"
          },
          "metadata": {}
        }
      ],
      "source": [
        "from matplotlib import pyplot as plt\n",
        "\n",
        "%matplotlib inline\n",
        "\n",
        "plt.imshow(x_train[0], cmap='binary')\n",
        "plt.show()\n",
        "\n",
        "\n",
        "## Importe la bibliothèque matplotlib.pyplot, configure l'affichage inline, puis affiche la première image du jeu d'entraînement MNIST en utilisant une carte de couleurs binaire."
      ]
    },
    {
      "cell_type": "markdown",
      "metadata": {
        "id": "vvMzLNcd_mJP"
      },
      "source": [
        "### Display Labels"
      ]
    },
    {
      "cell_type": "code",
      "execution_count": 6,
      "metadata": {
        "id": "Qd1aonQu_mJQ",
        "colab": {
          "base_uri": "https://localhost:8080/"
        },
        "outputId": "0428aff9-ec2f-458e-f78c-8e4c886c7bd2"
      },
      "outputs": [
        {
          "output_type": "execute_result",
          "data": {
            "text/plain": [
              "5"
            ]
          },
          "metadata": {},
          "execution_count": 6
        }
      ],
      "source": [
        "y_train[0]\n",
        "\n",
        "## Affiche l'étiquette (label) pour la première image du jeu d'entraînement."
      ]
    },
    {
      "cell_type": "code",
      "execution_count": 7,
      "metadata": {
        "id": "gBKvodH0_mJQ",
        "colab": {
          "base_uri": "https://localhost:8080/"
        },
        "outputId": "ed691b6a-7d1d-4dd9-ccbe-1f8731d6c651"
      },
      "outputs": [
        {
          "output_type": "stream",
          "name": "stdout",
          "text": [
            "{0, 1, 2, 3, 4, 5, 6, 7, 8, 9}\n"
          ]
        }
      ],
      "source": [
        "print(set(y_train))\n",
        "\n",
        "## Affiche l'ensemble unique des étiquettes présentes dans les données d'entraînement y_train."
      ]
    },
    {
      "cell_type": "markdown",
      "metadata": {
        "id": "zbKGG1ih_mJQ"
      },
      "source": [
        "# Task 3: One Hot Encoding\n",
        "After this encoding, every label will be converted to a list with 10 elements and the element at index to the corresponding class will be set to 1, rest will be set to 0:\n",
        "\n",
        "| original label | one-hot encoded label |\n",
        "|------|------|\n",
        "| 5 | [0, 0, 0, 0, 0, 1, 0, 0, 0, 0] |\n",
        "| 7 | [0, 0, 0, 0, 0, 0, 0, 1, 0, 0] |\n",
        "| 1 | [0, 1, 0, 0, 0, 0, 0, 0, 0, 0] |\n",
        "\n",
        "### Encoding Labels"
      ]
    },
    {
      "cell_type": "code",
      "execution_count": 8,
      "metadata": {
        "id": "qKQZBlZx_mJQ"
      },
      "outputs": [],
      "source": [
        "from tensorflow.keras.utils import to_categorical\n",
        "y_train_encoded = to_categorical(y_train)\n",
        "y_test_encoded = to_categorical(y_test)\n",
        "\n",
        "## Encode les étiquettes y_train et y_test en représentation catégorique à l'aide de to_categorical de Keras."
      ]
    },
    {
      "cell_type": "markdown",
      "metadata": {
        "id": "oOHZwDMY_mJQ"
      },
      "source": [
        "### Validated Shapes"
      ]
    },
    {
      "cell_type": "code",
      "execution_count": 10,
      "metadata": {
        "id": "Hn6XNeFg_mJQ",
        "colab": {
          "base_uri": "https://localhost:8080/"
        },
        "outputId": "f7c92811-47a4-493d-fbca-5aa4a0275328"
      },
      "outputs": [
        {
          "output_type": "stream",
          "name": "stdout",
          "text": [
            "y_train_encoded shape: (60000, 10)\n",
            "y_test_encoded shape: (10000, 10)\n"
          ]
        }
      ],
      "source": [
        "print('y_train_encoded shape:', y_train_encoded.shape)\n",
        "print('y_test_encoded shape:', y_test_encoded.shape)\n",
        "\n",
        "## Affiche les formes (dimensions) des données y_train_encoded et y_test_encoded après l'encodage catégorique."
      ]
    },
    {
      "cell_type": "markdown",
      "metadata": {
        "id": "POcRFkxq_mJQ"
      },
      "source": [
        "### Display Encoded Labels"
      ]
    },
    {
      "cell_type": "code",
      "execution_count": 11,
      "metadata": {
        "id": "JNqLV1d2_mJQ",
        "colab": {
          "base_uri": "https://localhost:8080/"
        },
        "outputId": "74607678-0ad0-4837-d048-59a1ac89ff11"
      },
      "outputs": [
        {
          "output_type": "execute_result",
          "data": {
            "text/plain": [
              "array([0., 0., 0., 0., 0., 1., 0., 0., 0., 0.], dtype=float32)"
            ]
          },
          "metadata": {},
          "execution_count": 11
        }
      ],
      "source": [
        "y_train_encoded[0]\n",
        "\n",
        "## Affiche le vecteur one-hot encodé pour la première image d'entraînement."
      ]
    },
    {
      "cell_type": "markdown",
      "source": [
        "\n",
        "\n",
        "## Explique les équations linéaires et les réseaux de neurones, y compris les poids, les biais et les couches cachées, pour résoudre des problèmes de classification d'images."
      ],
      "metadata": {
        "id": "Ih748maKzjGn"
      }
    },
    {
      "cell_type": "markdown",
      "metadata": {
        "id": "Ho4mZelW_mJQ"
      },
      "source": [
        "# Task 4: Neural Networks\n",
        "\n",
        "### Linear Equations\n",
        "\n",
        "![Single Neuron](https://drive.google.com/uc?export=view&id=1X53G3QBhSBZsCHchyvgOsRrczmh0IoXY)\n",
        "\n",
        "The above graph simply represents the equation:\n",
        "\n",
        "\\begin{equation}\n",
        "y = w1 * x1 + w2 * x2 + w3 * x3 + b\n",
        "\\end{equation}\n",
        "\n",
        "Where the `w1, w2, w3` are called the weights and `b` is an intercept term called bias. The equation can also be *vectorised* like this:\n",
        "\n",
        "\\begin{equation}\n",
        "y = W . X + b\n",
        "\\end{equation}\n",
        "\n",
        "Where `X = [x1, x2, x3]` and `W = [w1, w2, w3].T`. The .T means *transpose*. This is because we want the dot product to give us the result we want i.e. `w1 * x1 + w2 * x2 + w3 * x3`. This gives us the vectorised version of our linear equation.\n",
        "\n",
        "A simple, linear approach to solving hand-written image classification problem - could it work?\n",
        "\n",
        "![Single Neuron with 784 features](https://drive.google.com/uc?export=view&id=1usn-vb6FOIOkDuKOimQuFDgGwVSckG5W)\n",
        "\n",
        "### Neural Networks\n",
        "\n",
        "![Neural Network with 2 hidden layers](https://drive.google.com/uc?export=view&id=1-P9jSpGodu2fl-cvEXun3_zQytJDH5Yn)\n",
        "\n",
        "This model is much more likely to solve the problem as it can learn more complex function mapping for the inputs and outputs in our dataset."
      ]
    },
    {
      "cell_type": "markdown",
      "metadata": {
        "id": "jOthLwxP_mJR"
      },
      "source": [
        "# Task 5: Preprocessing the Examples\n",
        "\n",
        "### Unrolling N-dimensional Arrays to Vectors"
      ]
    },
    {
      "cell_type": "code",
      "execution_count": 31,
      "metadata": {
        "id": "Bs9NwOzF_mJR",
        "colab": {
          "base_uri": "https://localhost:8080/"
        },
        "outputId": "e5e873ef-11a0-4754-ddab-2b2a694b7b42"
      },
      "outputs": [
        {
          "output_type": "stream",
          "name": "stdout",
          "text": [
            "x_train_reshaped shape: (60000, 784)\n",
            "x_test_reshaped shape: (10000, 784)\n"
          ]
        }
      ],
      "source": [
        "import numpy as np\n",
        "x_train_reshaped = np.reshape(x_train, (60000,784))\n",
        "x_test_reshaped = np.reshape(x_test, (10000,784))\n",
        "\n",
        "print('x_train_reshaped shape:', x_train_reshaped.shape)\n",
        "print('x_test_reshaped shape:', x_test_reshaped.shape)\n",
        "\n",
        "## Redimensionne les données d'images x_train et x_test en matrices 2D, affiche leurs nouvelles formes pour un traitement par réseau de neurones."
      ]
    },
    {
      "cell_type": "markdown",
      "metadata": {
        "id": "bWcohuae_mJR"
      },
      "source": [
        "### Display Pixel Values"
      ]
    },
    {
      "cell_type": "code",
      "execution_count": 14,
      "metadata": {
        "id": "ONHwy_BF_mJR",
        "colab": {
          "base_uri": "https://localhost:8080/"
        },
        "outputId": "eec1f1a3-e77b-432a-99aa-60dae48f141a"
      },
      "outputs": [
        {
          "output_type": "stream",
          "name": "stdout",
          "text": [
            "{0, 1, 2, 3, 9, 11, 14, 16, 18, 23, 24, 25, 26, 27, 30, 35, 36, 39, 43, 45, 46, 49, 55, 56, 64, 66, 70, 78, 80, 81, 82, 90, 93, 94, 107, 108, 114, 119, 126, 127, 130, 132, 133, 135, 136, 139, 148, 150, 154, 156, 160, 166, 170, 171, 172, 175, 182, 183, 186, 187, 190, 195, 198, 201, 205, 207, 212, 213, 219, 221, 225, 226, 229, 238, 240, 241, 242, 244, 247, 249, 250, 251, 252, 253, 255}\n"
          ]
        }
      ],
      "source": [
        "print(set(x_train_reshaped[0]))\n",
        "\n",
        "\n",
        "## Affiche l'ensemble unique des valeurs de pixels pour la première image redimensionnée du jeu d'entraînement.\n",
        "## Les 38 valeurs uniques représentent les différents niveaux de gris présents dans les pixels de la première image MNIST, allant des tons clairs aux blancs."
      ]
    },
    {
      "cell_type": "markdown",
      "metadata": {
        "id": "cffH596l_mJR"
      },
      "source": [
        "### Data Normalization"
      ]
    },
    {
      "cell_type": "code",
      "source": [
        "x_mean = np.mean(x_train_reshaped)\n",
        "x_std = np.std(x_train_reshaped)\n",
        "\n",
        "epsilon = 1e-10\n",
        "\n",
        "x_train_norm = (x_train_reshaped -x_mean)/(x_std + epsilon)\n",
        "x_test_norm = (x_test_reshaped -x_mean)/ (x_std + epsilon)\n",
        "\n",
        "## Calcule la moyenne et l'écart-type des données d'entraînement, normalise les données d'entraînement et de test en soustrayant la moyenne et divisant par l'écart-type.\n",
        "## Epsilon est une petite constante ajoutée au dénominateur pour éviter les divisions par zéro lors de la normalisation, assurant ainsi la stabilité numérique."
      ],
      "metadata": {
        "id": "6YXnLsiYQbwv"
      },
      "execution_count": 28,
      "outputs": []
    },
    {
      "cell_type": "code",
      "execution_count": null,
      "metadata": {
        "id": "fLlk0SYs_mJR"
      },
      "outputs": [],
      "source": []
    },
    {
      "cell_type": "markdown",
      "metadata": {
        "id": "3YbmLqRB_mJR"
      },
      "source": [
        "### Display Normalized Pixel Values"
      ]
    },
    {
      "cell_type": "code",
      "execution_count": 21,
      "metadata": {
        "id": "wVpnqZ-t_mJR",
        "colab": {
          "base_uri": "https://localhost:8080/"
        },
        "outputId": "2ef59b8a-cb84-4a82-d90a-529763b487d4"
      },
      "outputs": [
        {
          "output_type": "stream",
          "name": "stdout",
          "text": [
            "{-0.38589016215482896, 1.306921966983251, 1.17964285952926, 1.803310486053816, 1.6887592893452241, 2.8215433456857437, 2.719720059722551, 1.1923707702746593, 1.7396709323268205, 2.057868700961798, 2.3633385588513764, 2.096052433197995, 1.7651267538176187, 2.7960875241949457, 2.7451758812133495, 2.45243393406917, 0.02140298169794222, -0.22042732246464067, 1.2305545025108566, 0.2759611966059242, 2.210603629906587, 2.6560805059955555, 2.6051688630139593, -0.4240738943910262, 0.4668798577869107, 0.1486820891519332, 0.3905123933145161, 1.0905474843114664, -0.09314821501064967, 1.4851127174188385, 2.7579037919587486, 1.5360243604004349, 0.07231462467953861, -0.13133194724684696, 1.294194056237852, 0.03413089244334132, 1.3451056992194483, 2.274243183633583, -0.24588314395543887, 0.772349715676489, 0.75962180493109, 0.7214380726948927, 0.1995937321335296, -0.41134598364562713, 0.5687031437501034, 0.5941589652409017, 0.9378125553666773, 0.9505404661120763, 0.6068868759863008, 0.4159682148053143, -0.042236572029053274, 2.7706317027041476, 2.1342361654341926, 0.12322626766113501, -0.08042030426525057, 0.16140999989733232, 1.8924058612716097, 1.2560103240016547, 2.185147808415789, 0.6196147867316999, 1.943317504253206, -0.11860403650144787, -0.30952269768243434, 1.9942291472348024, -0.2840668761916362, 2.6306246845047574, 2.286971094378982, -0.19497150097384247, -0.39861807290022805, 0.2886891073513233, 1.7523988430722195, 2.3887943803421745, 2.681536327486354, 1.4596568959280403, 2.439706023323771, 2.7833596134495466, 2.490617666305367, -0.10587612575604877, 1.5614801818912332, 1.9051337720170087, 1.6123918248728295, 1.268738234747054, 1.9560454149986053, 2.6433525952501564, 1.026907930584471}\n"
          ]
        }
      ],
      "source": [
        "print(set(x_train_norm[0]))\n",
        "\n",
        "## Affiche l'ensemble unique des valeurs de pixels normalisées pour la première image d'entraînement."
      ]
    },
    {
      "cell_type": "markdown",
      "metadata": {
        "id": "jy5sBZpK_mJR"
      },
      "source": [
        "# Task 6: Creating a Model\n",
        "### Creating the Model"
      ]
    },
    {
      "cell_type": "code",
      "execution_count": 25,
      "metadata": {
        "id": "dXhfCr2-_mJR"
      },
      "outputs": [],
      "source": [
        "from keras.models import Sequential\n",
        "from keras.layers import Dense\n",
        "\n",
        "model = Sequential([\n",
        "    Dense(128, activation='relu', input_shape=(784,)),\n",
        "    Dense(128, activation='relu'),\n",
        "    Dense(10, activation='softmax')\n",
        "])\n",
        "## Crée un modèle séquentiel de réseau de neurones avec Keras, comprenant deux couches cachées de 128 neurones avec activation ReLU et une couche de sortie de 10 neurones avec softmax.\n",
        "## ReLU (Rectified Linear Unit) est une fonction d'activation qui introduit de la non-linéarité. Softmax produit une distribution de probabilités sur les sorties pour la classification."
      ]
    },
    {
      "cell_type": "markdown",
      "metadata": {
        "id": "hZU1e17O_mJR"
      },
      "source": [
        "### Activation Functions\n",
        "\n",
        "The first step in the node is the linear sum of the inputs:\n",
        "\\begin{equation}\n",
        "Z = W . X + b\n",
        "\\end{equation}\n",
        "\n",
        "The second step in the node is the activation function output:\n",
        "\n",
        "\\begin{equation}\n",
        "A = f(Z)\n",
        "\\end{equation}\n",
        "\n",
        "Graphical representation of a node where the two operations are performed:\n",
        "\n",
        "![ReLU](https://drive.google.com/uc?export=view&id=1QYbrKPd5_4Lz89q3faOn0ZE-JPbAljV4)\n",
        "\n",
        "### Compiling the Model"
      ]
    },
    {
      "cell_type": "markdown",
      "source": [
        "\n",
        "\n",
        "SGD est l'algorithme qui met à jour les poids du réseau de neurones, tandis que categorical_crossentropy est la fonction qui évalue à quel point les prédictions du modèle diffèrent des vraies étiquettes, afin que SGD puisse ajuster les poids pour réduire cette erreur.\n",
        "\n"
      ],
      "metadata": {
        "id": "mFgMSDbx1Xoo"
      }
    },
    {
      "cell_type": "code",
      "execution_count": 26,
      "metadata": {
        "id": "1Jw-UY_p_mJR",
        "colab": {
          "base_uri": "https://localhost:8080/"
        },
        "outputId": "944e6987-6591-49d8-aacc-37d0f627b0f0"
      },
      "outputs": [
        {
          "output_type": "stream",
          "name": "stdout",
          "text": [
            "Model: \"sequential_1\"\n",
            "_________________________________________________________________\n",
            " Layer (type)                Output Shape              Param #   \n",
            "=================================================================\n",
            " dense (Dense)               (None, 128)               100480    \n",
            "                                                                 \n",
            " dense_1 (Dense)             (None, 128)               16512     \n",
            "                                                                 \n",
            " dense_2 (Dense)             (None, 10)                1290      \n",
            "                                                                 \n",
            "=================================================================\n",
            "Total params: 118282 (462.04 KB)\n",
            "Trainable params: 118282 (462.04 KB)\n",
            "Non-trainable params: 0 (0.00 Byte)\n",
            "_________________________________________________________________\n"
          ]
        }
      ],
      "source": [
        "model.compile(\n",
        "    optimizer='sgd',\n",
        "    loss='categorical_crossentropy',\n",
        "    metrics= ['accuracy']\n",
        ")\n",
        "\n",
        "model.summary()\n",
        "## Compile le modèle avec l'optimiseur SGD, la fonction de perte categorical_crossentropy et la métrique accuracy. Affiche un résumé de l'architecture du modèle."
      ]
    },
    {
      "cell_type": "markdown",
      "metadata": {
        "id": "gcyQzJKD_mJR"
      },
      "source": [
        "# Task 7: Training the Model\n",
        "\n",
        "### Training the Model"
      ]
    },
    {
      "cell_type": "code",
      "execution_count": 44,
      "metadata": {
        "id": "bJea7G5t_mJS",
        "colab": {
          "base_uri": "https://localhost:8080/"
        },
        "outputId": "726934ae-a587-4094-c0a4-3930a167577e"
      },
      "outputs": [
        {
          "output_type": "stream",
          "name": "stdout",
          "text": [
            "Epoch 1/3\n",
            "469/469 [==============================] - 4s 8ms/step - loss: 0.0639 - accuracy: 0.9811\n",
            "Epoch 2/3\n",
            "469/469 [==============================] - 4s 8ms/step - loss: 0.0617 - accuracy: 0.9815\n",
            "Epoch 3/3\n",
            "469/469 [==============================] - 3s 6ms/step - loss: 0.0597 - accuracy: 0.9822\n"
          ]
        },
        {
          "output_type": "execute_result",
          "data": {
            "text/plain": [
              "<keras.src.callbacks.History at 0x7bbcfff7d480>"
            ]
          },
          "metadata": {},
          "execution_count": 44
        }
      ],
      "source": [
        "\n",
        "model.fit(x_train_norm, y_train_encoded, batch_size=128, epochs=3)\n",
        "## Ce code entraîne le modèle de réseau de neurones sur les données d'entraînement normalisées (x_train_norm) et les étiquettes one-hot encodées (y_train_encoded).\n",
        "## Il utilise une taille de batch de 128 et effectue 3 époques d'entraînement.\n",
        "## Pendant l'entraînement, le modèle ajuste ses poids pour minimiser la fonction de perte et améliorer ses performances de classification."
      ]
    },
    {
      "cell_type": "markdown",
      "metadata": {
        "id": "Ij35BWf1_mJS"
      },
      "source": [
        "### Evaluating the Model"
      ]
    },
    {
      "cell_type": "code",
      "execution_count": 46,
      "metadata": {
        "id": "GLDXq6QN_mJS",
        "colab": {
          "base_uri": "https://localhost:8080/"
        },
        "outputId": "033d2b70-b2e3-494b-a46b-478b0c113b86"
      },
      "outputs": [
        {
          "output_type": "stream",
          "name": "stdout",
          "text": [
            "1875/1875 [==============================] - 4s 2ms/step - loss: 0.0580 - accuracy: 0.9827\n",
            "test set accuracy: 98.27333092689514\n"
          ]
        }
      ],
      "source": [
        "loss, accuracy = model.evaluate(x_train_norm, y_train_encoded,\n",
        "                              )\n",
        "print('test set accuracy:', accuracy * 100)\n",
        "\n",
        "# Ce code évalue les performances du modèle entraîné sur les données d'entraînement normalisées et encodées. Il calcule la perte et l'accuracy, puis affiche l'accuracy en pourcentage."
      ]
    },
    {
      "cell_type": "markdown",
      "metadata": {
        "id": "UESmqzBM_mJS"
      },
      "source": [
        "# Task 8: Predictions\n",
        "\n",
        "### Predictions on Test Set"
      ]
    },
    {
      "cell_type": "code",
      "execution_count": 47,
      "metadata": {
        "id": "GfOAjX7x_mJS",
        "colab": {
          "base_uri": "https://localhost:8080/"
        },
        "outputId": "92e8a277-90dc-4dab-cce0-a0046e6eb2ee"
      },
      "outputs": [
        {
          "output_type": "stream",
          "name": "stdout",
          "text": [
            "313/313 [==============================] - 1s 2ms/step\n",
            "shape of preds: (10000, 10)\n"
          ]
        }
      ],
      "source": [
        "preds = model.predict(x_test_norm)\n",
        "print('shape of preds:', preds.shape)\n",
        "\n",
        "# Ce code effectue des prédictions sur les données de test normalisées (x_test_norm) à l'aide du modèle entraîné.\n",
        "# Il stocke les prédictions dans la variable preds, puis affiche la forme(shape) du tenseur de prédictions."
      ]
    },
    {
      "cell_type": "markdown",
      "metadata": {
        "id": "rUMQUJWz_mJS"
      },
      "source": [
        "### Plotting the Results"
      ]
    },
    {
      "cell_type": "markdown",
      "source": [],
      "metadata": {
        "id": "L9Hg-sde79re"
      }
    },
    {
      "cell_type": "code",
      "execution_count": 67,
      "metadata": {
        "colab": {
          "base_uri": "https://localhost:8080/",
          "height": 980
        },
        "outputId": "03555079-1c96-484b-a523-03c3072b65af",
        "id": "_WIi4YX57-O1"
      },
      "outputs": [
        {
          "output_type": "display_data",
          "data": {
            "text/plain": [
              "<Figure size 1200x1200 with 25 Axes>"
            ],
            "image/png": "[encoded data removed]"
          },
          "metadata": {}
        }
      ],
      "source": [
        "import matplotlib.pyplot as plt #import des librairies\n",
        "import numpy as np\n",
        "\n",
        "plt.figure(figsize=(12, 12)) # crée une figure 12 pouces par 12 pouces\n",
        "\n",
        "start_index = 0 # défini l'index de départ pour les images\n",
        "\n",
        "for i in range(25):    # boucle sur 25 images\n",
        "    plt.subplot(5, 5, i+1)\n",
        "    plt.grid(False)\n",
        "    plt.xticks([])\n",
        "    plt.yticks([])\n",
        "\n",
        "    pred = np.argmax(preds[start_index+i]) #Obtient la prédiction et l'étiquette réelle\n",
        "    gt = y_test[start_index+i]\n",
        "\n",
        "    col = 'g' #Définit la couleur du texte en fonction de la prédiction\n",
        "    if pred != gt:\n",
        "        col = 'r'\n",
        "\n",
        "    plt.xlabel('i={}, pred={}, gt={}'.format(start_index+i, pred, gt), color=col) #Ajoute un titre avec l'index, la prédiction et l'étiquette réelle\n",
        "    plt.imshow(x_test[start_index+i], cmap='binary')\n",
        "\n",
        "plt.show() # Affiche l'image en noir et blanc"
      ]
    }
  ],
  "metadata": {
    "kernelspec": {
      "display_name": "Python 3",
      "language": "python",
      "name": "python3"
    },
    "language_info": {
      "codemirror_mode": {
        "name": "ipython",
        "version": 3
      },
      "file_extension": ".py",
      "mimetype": "text/x-python",
      "name": "python",
      "nbconvert_exporter": "python",
      "pygments_lexer": "ipython3",
      "version": "3.7.3"
    },
    "colab": {
      "provenance": [],
      "include_colab_link": true
    }
  },
  "nbformat": 4,
  "nbformat_minor": 0
}