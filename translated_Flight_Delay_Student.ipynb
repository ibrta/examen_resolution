{
  "cells": [
    {
      "cell_type": "markdown",
      "metadata": {
        "id": "view-in-github",
        "colab_type": "text"
      },
      "source": [
        "<a href=\"https://colab.research.google.com/github/ibrta/examen_resolution/blob/main/translated_Flight_Delay_Student.ipynb\" target=\"_parent\"><img src=\"https://colab.research.google.com/assets/colab-badge.svg\" alt=\"Open In Colab\"/></a>"
      ]
    },
    {
      "cell_type": "markdown",
      "metadata": {
        "id": "uZkSE76Rb_8E"
      },
      "source": [
        "# Problème : Prédire les retards d'avion\n",
        "\n",
        "Les objectifs de ce bloc-notes sont :\n",
        "- Traiter et créer un ensemble de données à partir de fichiers .zip téléchargés\n",
        "- Effectuer une analyse exploratoire des données (EDA)\n",
        "- Établir un modèle de base\n",
        "- Passer d'un modèle simple à un modèle d'ensemble\n",
        "- Effectuer une optimisation des hyperparamètres\n",
        "- Vérifier l'importance des fonctionnalités\n",
        "\n",
        "## Introduction au scénario commercial\n",
        "\n",
        "Vous travaillez pour un site Web de réservation de voyages qui souhaite améliorer l'expérience client pour les vols retardés. L'entreprise souhaite créer une fonctionnalité permettant aux clients de savoir si le vol sera retardé en raison des conditions météorologiques lorsqu'ils réservent un vol à destination ou en provenance des aéroports les plus fréquentés pour les voyages intérieurs aux États-Unis.\n",
        "\n",
        "Vous êtes chargé de résoudre une partie de ce problème en utilisant l'apprentissage automatique (ML) pour identifier si le vol sera retardé en raison des conditions météorologiques. Vous avez eu accès à un ensemble de données sur les performances ponctuelles des vols intérieurs opérés par de grandes compagnies aériennes. Vous pouvez utiliser ces données pour former un modèle ML afin de prédire si le vol va être retardé pour les aéroports les plus fréquentés.\n",
        "\n",
        "## À propos de cet ensemble de données\n",
        "\n",
        "Cet ensemble de données contient les heures de départ et d'arrivée prévues et réelles signalées par les transporteurs aériens américains certifiés qui représentent au moins 1 % des revenus du trafic intérieur régulier de passagers. Les données ont été collectées par l'Office of Airline Information, Bureau of Transportation Statistics (BTS) des États-Unis. L'ensemble de données contient la date, l'heure, l'origine, la destination, la compagnie aérienne, la distance et l'état de retard des vols entre 2013 et 2018.\n",
        "\n",
        "### Fonctionnalités\n",
        "\n",
        "Pour plus d'informations sur les fonctionnalités de l'ensemble de données, consultez [Fonctionnalités de l'ensemble de données sur les retards à l'heure](https://www.transtats.bts.gov/Fields.asp).\n",
        "\n",
        "### Attributions des ensembles de données\n",
        "Site Web : https://www.transtats.bts.gov/\n",
        "\n",
        "Les ensembles de données utilisés dans ce laboratoire ont été compilés par l'Office of Airline Information des États-Unis, Bureau of Transportation Statistics (BTS), Airline On-Time Performance Data, disponibles à l'adresse https://www.transtats.bts.gov/DatabaseInfo.asp?DB_ID=120&DB_URL=Mode_ID=1&Mode_Desc=Aviation&Subject_ID2=0."
      ]
    },
    {
      "cell_type": "markdown",
      "metadata": {
        "id": "iElpQwfEb_8F"
      },
      "source": [
        "# Étape 1 : formulation du problème et collecte de données\n",
        "\n",
        "Commencez ce projet en écrivant quelques phrases qui résument le problème commercial et l'objectif commercial que vous souhaitez atteindre dans ce scénario. Vous pouvez écrire vos idées dans les sections suivantes. Incluez une mesure commerciale à laquelle vous souhaitez que votre équipe aspire. Après avoir défini ces informations, rédigez l'énoncé du problème de ML. Enfin, ajoutez un ou deux commentaires sur le type de ML que cette activité représente.\n",
        "\n",
        "#### <span style=\"color: blue;\">Présentation du projet : incluez un résumé de ces détails dans votre présentation du projet.</span>\n",
        "\n",
        "### 1. Déterminez si et pourquoi le ML est une solution appropriée à déployer pour ce scénario."
      ]
    },
    {
      "cell_type": "code",
      "execution_count": null,
      "metadata": {
        "id": "pTNmFqxNb_8G"
      },
      "outputs": [],
      "source": [
        "# Écrivez votre réponse ici"
      ]
    },
    {
      "cell_type": "markdown",
      "metadata": {
        "id": "eiX3v8jZb_8H"
      },
      "source": [
        "### 2. Formulez le problème commercial, les indicateurs de réussite et le résultat ML souhaité."
      ]
    },
    {
      "cell_type": "code",
      "execution_count": null,
      "metadata": {
        "id": "SoutZm57b_8H"
      },
      "outputs": [],
      "source": [
        "# Écrivez votre réponse ici"
      ]
    },
    {
      "cell_type": "markdown",
      "metadata": {
        "id": "4Taa8Rh2b_8H"
      },
      "source": [
        "### 3. Identifiez le type de problème ML sur lequel vous travaillez."
      ]
    },
    {
      "cell_type": "code",
      "execution_count": null,
      "metadata": {
        "id": "AwGsN7Ghb_8H"
      },
      "outputs": [],
      "source": [
        "# Écrivez votre réponse ici"
      ]
    },
    {
      "cell_type": "markdown",
      "metadata": {
        "id": "GUEKgYhwb_8I"
      },
      "source": [
        "### 4. Analysez la pertinence des données avec lesquelles vous travaillez."
      ]
    },
    {
      "cell_type": "code",
      "execution_count": null,
      "metadata": {
        "id": "8HFjGN8Yb_8I"
      },
      "outputs": [],
      "source": [
        "# Écrivez votre réponse ici"
      ]
    },
    {
      "cell_type": "markdown",
      "metadata": {
        "id": "x4HjXC4db_8I"
      },
      "source": [
        "### Configuration\n",
        "\n",
        "Maintenant que vous avez décidé où vous souhaitez concentrer votre attention, vous allez configurer ce laboratoire afin de pouvoir commencer à résoudre le problème.\n",
        "\n",
        "**Remarque :** ce bloc-notes a été créé et testé sur une instance de bloc-notes « ml.m4.xlarge » avec 25 Go de stockage."
      ]
    },
    {
      "cell_type": "code",
      "execution_count": null,
      "metadata": {
        "id": "h7I3sTp9b_8J"
      },
      "outputs": [],
      "source": [
        "import os\n",
        "from pathlib2 import Path\n",
        "from zipfile import ZipFile\n",
        "import time\n",
        "\n",
        "import pandas as pd\n",
        "import numpy as np\n",
        "import subprocess\n",
        "\n",
        "import matplotlib.pyplot as plt\n",
        "import seaborn as sns\n",
        "\n",
        "sns.set()\n",
        "instance_type='ml.m4.xlarge'\n",
        "\n",
        "import warnings\n",
        "warnings.filterwarnings('ignore')\n",
        "\n",
        "%matplotlib inline"
      ]
    },
    {
      "cell_type": "markdown",
      "metadata": {
        "id": "XffqSM6Lb_8J"
      },
      "source": [
        "# Étape 2 : Prétraitement et visualisation des données\n",
        "\n",
        "Dans cette phase de prétraitement des données, vous explorez et visualisez vos données pour mieux les comprendre. Tout d'abord, importez les bibliothèques nécessaires et lisez les données dans un DataFrame pandas. Après avoir importé les données, explorez l'ensemble de données. Recherchez la forme de l'ensemble de données et explorez vos colonnes et les types de colonnes avec lesquels vous travaillerez (numériques, catégorielles). Pensez à effectuer des statistiques de base sur les entités pour avoir une idée des moyennes et des plages des entités. Examinez attentivement votre colonne cible et déterminez sa distribution.\n",
        "\n",
        "### Questions spécifiques à prendre en compte\n",
        "\n",
        "Tout au long de cette section du laboratoire, réfléchissez aux questions suivantes :\n",
        "\n",
        "1. Que pouvez-vous déduire des statistiques de base que vous avez exécutées sur les entités ?\n",
        "\n",
        "2. Que pouvez-vous déduire des distributions des classes cibles ?\n",
        "\n",
        "3. Pouvez-vous déduire autre chose en explorant les données ?\n",
        "\n",
        "#### <span style=\"color: blue;\">Présentation du projet : incluez un résumé de vos réponses à ces questions (et à d’autres questions similaires) dans votre présentation de projet.</span>"
      ]
    },
    {
      "cell_type": "markdown",
      "metadata": {
        "id": "OSx8oV4Xb_8J"
      },
      "source": [
        "Commencez par importer l’ensemble de données d’un bucket Amazon Simple Storage Service (Amazon S3) public dans cet environnement de bloc-notes."
      ]
    },
    {
      "cell_type": "code",
      "execution_count": null,
      "metadata": {
        "id": "oVLFkBoJb_8J"
      },
      "outputs": [],
      "source": [
        "# télécharger les fichiers\n",
        "\n",
        "zip_path = '/home/ec2-user/SageMaker/project/data/FlightDelays/'\n",
        "base_path = '/home/ec2-user/SageMaker/project/data/FlightDelays/'\n",
        "csv_base_path = '/home/ec2-user/SageMaker/project/data/csvFlightDelays/'\n",
        "\n",
        "!mkdir -p {zip_path}\n",
        "!mkdir -p {csv_base_path}\n",
        "!aws s3 cp s3://aws-tc-largeobjects/CUR-TF-200-ACMLFO-1/flight_delay_project/data/ {zip_path} --recursive\n"
      ]
    },
    {
      "cell_type": "code",
      "execution_count": null,
      "metadata": {
        "id": "9qe_opi9b_8J"
      },
      "outputs": [],
      "source": [
        "zip_files = [str(file) for file in list(Path(base_path).iterdir()) if '.zip' in str(file)]\n",
        "len(zip_files)"
      ]
    },
    {
      "cell_type": "markdown",
      "metadata": {
        "id": "ZLNfiAwyb_8J"
      },
      "source": [
        "Extraire les fichiers de valeurs séparées par des virgules (CSV) des fichiers .zip."
      ]
    },
    {
      "cell_type": "code",
      "execution_count": null,
      "metadata": {
        "id": "6S6mcfvub_8J"
      },
      "outputs": [],
      "source": [
        "def zip2csv(zipFile_name , file_path):\n",
        "    \"\"\"\n",
        "    Extract csv from zip files\n",
        "    zipFile_name: name of the zip file\n",
        "    file_path : name of the folder to store csv\n",
        "    \"\"\"\n",
        "\n",
        "    try:\n",
        "        with ZipFile(zipFile_name, 'r') as z:\n",
        "            print(f'Extracting {zipFile_name} ')\n",
        "            z.extractall(path=file_path)\n",
        "    except:\n",
        "        print(f'zip2csv failed for {zipFile_name}')\n",
        "\n",
        "for file in zip_files:\n",
        "    zip2csv(file, csv_base_path)\n",
        "\n",
        "print(\"Files Extracted\")"
      ]
    },
    {
      "cell_type": "code",
      "execution_count": null,
      "metadata": {
        "id": "LDWeOL5Pb_8K"
      },
      "outputs": [],
      "source": [
        "csv_files = [str(file) for file in list(Path(csv_base_path).iterdir()) if '.csv' in str(file)]\n",
        "len(csv_files)"
      ]
    },
    {
      "cell_type": "markdown",
      "metadata": {
        "id": "R3RQ_M1Mb_8K"
      },
      "source": [
        "Avant de charger le fichier CSV, lisez le fichier HTML du dossier extrait. Ce fichier HTML inclut le contexte et des informations supplémentaires sur les entités incluses dans l'ensemble de données."
      ]
    },
    {
      "cell_type": "code",
      "execution_count": null,
      "metadata": {
        "id": "TO7LZLFmb_8K"
      },
      "outputs": [],
      "source": [
        "from IPython.display import IFrame\n",
        "\n",
        "IFrame(src=os.path.relpath(f\"{csv_base_path}readme.html\"), width=1000, height=600)"
      ]
    },
    {
      "cell_type": "markdown",
      "metadata": {
        "id": "JqlpdXFVb_8K"
      },
      "source": [
        "#### Charger un exemple de fichier CSV\n",
        "\n",
        "Avant de combiner tous les fichiers CSV, examinez les données d'un seul fichier CSV. En utilisant pandas, lisez d'abord le fichier `On_Time_Reporting_Carrier_On_Time_Performance_(1987_present)_2018_9.csv`. Vous pouvez utiliser la fonction `read_csv` intégrée dans Python ([documentation pandas.read_csv](https://pandas.pydata.org/pandas-docs/stable/reference/api/pandas.read_csv.html))."
      ]
    },
    {
      "cell_type": "code",
      "execution_count": null,
      "metadata": {
        "id": "G8QzY7VIb_8K"
      },
      "outputs": [],
      "source": [
        "df_temp = pd.read_csv(f\"{csv_base_path}On_Time_Reporting_Carrier_On_Time_Performance_(1987_present)_2018_9.csv\")"
      ]
    },
    {
      "cell_type": "markdown",
      "metadata": {
        "id": "cDYVkQ4jb_8K"
      },
      "source": [
        "**Question** : Imprimez la longueur des lignes et des colonnes dans l'ensemble de données, ainsi que les noms des colonnes.\n",
        "\n",
        "**Astuce** : Pour afficher les lignes et les colonnes d'un DataFrame, utilisez la fonction `<DataFrame>.shape`. Pour afficher les noms des colonnes, utilisez la fonction `<DataFrame>.columns`."
      ]
    },
    {
      "cell_type": "code",
      "execution_count": null,
      "metadata": {
        "id": "qk6tC5MFb_8K"
      },
      "outputs": [],
      "source": [
        "df_shape = # **ENTER YOUR CODE HERE**\n",
        "print(f'Rows and columns in one CSV file is {df_shape}')"
      ]
    },
    {
      "cell_type": "markdown",
      "metadata": {
        "id": "xTbhmwgMb_8K"
      },
      "source": [
        "**Question** : Imprimez les 10 premières lignes de l'ensemble de données.\n",
        "\n",
        "**Astuce** : Pour imprimer un nombre « x » de lignes, utilisez la fonction intégrée « head(x) » dans pandas."
      ]
    },
    {
      "cell_type": "code",
      "execution_count": null,
      "metadata": {
        "id": "5RFvCjilb_8K"
      },
      "outputs": [],
      "source": [
        "# Entrez votre code ici"
      ]
    },
    {
      "cell_type": "markdown",
      "metadata": {
        "id": "KPs2nUxEb_8K"
      },
      "source": [
        "**Question** : Imprimez toutes les colonnes de l'ensemble de données. Pour afficher les noms des colonnes, utilisez `<DataFrame>.columns`."
      ]
    },
    {
      "cell_type": "code",
      "execution_count": null,
      "metadata": {
        "id": "f3Vt5Lz3b_8L"
      },
      "outputs": [],
      "source": [
        "print(f'The column names are :')\n",
        "print('#########')\n",
        "for col in <CODE>:# **ENTER YOUR CODE HERE**\n",
        "    print(col)"
      ]
    },
    {
      "cell_type": "markdown",
      "metadata": {
        "id": "zdfRW0FCb_8L"
      },
      "source": [
        "**Question** : Imprimez toutes les colonnes de l'ensemble de données qui contiennent le mot *Del*. Cela vous aidera à voir combien de colonnes contiennent des *données de retard*.\n",
        "\n",
        "**Astuce** : Pour inclure des valeurs qui répondent à certains critères d'instruction `if`, vous pouvez utiliser une compréhension de liste Python.\n",
        "\n",
        "Par exemple : `[x for x in [1,2,3,4,5] if x > 2]`\n",
        "\n",
        "**Astuce** : Pour vérifier si la valeur est dans une liste, vous pouvez utiliser le mot-clé `in` ([Documentation Python in Keyword](https://www.w3schools.com/python/ref_keyword_in.asp)).\n",
        "\n",
        "Par exemple : `5 in [1,2,3,4,5]`"
      ]
    },
    {
      "cell_type": "code",
      "execution_count": null,
      "metadata": {
        "id": "g3ILfD0jb_8L"
      },
      "outputs": [],
      "source": [
        "# Entrez votre code ici"
      ]
    },
    {
      "cell_type": "markdown",
      "metadata": {
        "id": "txdeEeQMb_8L"
      },
      "source": [
        "Voici quelques questions supplémentaires pour vous aider à en savoir plus sur votre ensemble de données.\n",
        "\n",
        "**Questions**\n",
        "\n",
        "1. Combien de lignes et de colonnes l'ensemble de données comporte-t-il ?\n",
        "2. Combien d'années sont incluses dans l'ensemble de données ?\n",
        "3. Quelle est la plage de dates de l'ensemble de données ?\n",
        "4. Quelles compagnies aériennes sont incluses dans l'ensemble de données ?\n",
        "5. Quels aéroports d'origine et de destination sont couverts ?\n",
        "\n",
        "**Conseils**\n",
        "- Pour afficher les dimensions du DataFrame, utilisez `df_temp.shape`.\n",
        "- Pour faire référence à une colonne spécifique, utilisez `df_temp.columnName` (par exemple, `df_temp.CarrierDelay`).\n",
        "- Pour obtenir des valeurs uniques pour une colonne, utilisez `df_temp.column.unique()` (par exemple, `df_temp.Year.unique()`)."
      ]
    },
    {
      "cell_type": "code",
      "execution_count": null,
      "metadata": {
        "id": "7djTlxGDb_8L"
      },
      "outputs": [],
      "source": [
        "print(\"The #rows and #columns are \", <CODE> , \" and \", <CODE>)\n",
        "print(\"The years in this dataset are: \", <CODE>)\n",
        "print(\"The months covered in this dataset are: \", <CODE>)\n",
        "print(\"The date range for data is :\" , min(<CODE>), \" to \", max(<CODE>))\n",
        "print(\"The airlines covered in this dataset are: \", list(<CODE>))\n",
        "print(\"The Origin airports covered are: \", list(<CODE>))\n",
        "print(\"The Destination airports covered are: \", list(<CODE>))"
      ]
    },
    {
      "cell_type": "markdown",
      "metadata": {
        "id": "DtEGke7Db_8L"
      },
      "source": [
        "**Question** : Quel est le nombre total d'aéroports d'origine et de destination ?\n",
        "\n",
        "**Astuce** : Pour trouver les valeurs de chaque aéroport en utilisant les colonnes **Origin** et **Dest**, vous pouvez utiliser la fonction `values_count` dans pandas ([documentation pandas.Series.value_counts](https://pandas.pydata.org/pandas-docs/stable/reference/api/pandas.Series.value_counts.html))."
      ]
    },
    {
      "cell_type": "code",
      "execution_count": null,
      "metadata": {
        "id": "m9Tm6XVOb_8L"
      },
      "outputs": [],
      "source": [
        "counts = pd.DataFrame({'Origin':<CODE>, 'Destination':<CODE>})\n",
        "counts"
      ]
    },
    {
      "cell_type": "markdown",
      "metadata": {
        "id": "9MAk2RLfb_8L"
      },
      "source": [
        "**Question** : Imprimez les 15 principaux aéroports d'origine et de destination en fonction du nombre de vols dans l'ensemble de données.\n",
        "\n",
        "**Astuce** : Vous pouvez utiliser la fonction `sort_values` dans pandas ([documentation pandas.DataFrame.sort_values](https://pandas.pydata.org/pandas-docs/stable/reference/api/pandas.DataFrame.sort_values.html))."
      ]
    },
    {
      "cell_type": "code",
      "execution_count": null,
      "metadata": {
        "id": "wQ8GTdGKb_8L"
      },
      "outputs": [],
      "source": [
        "counts.sort_values(by=<CODE>,ascending=False).head(15) # Enter your code here"
      ]
    },
    {
      "cell_type": "markdown",
      "metadata": {
        "id": "rEVKLPp7b_8L"
      },
      "source": [
        "**Compte tenu de toutes les informations sur un voyage en avion, pouvez-vous prédire s'il sera retardé ?**"
      ]
    },
    {
      "cell_type": "markdown",
      "metadata": {
        "id": "Enc2_o7Wb_8L"
      },
      "source": [
        "La colonne **ArrDel15** est une variable indicatrice qui prend la valeur *1* lorsque le retard est supérieur à 15 minutes. Sinon, elle prend la valeur *0*.\n",
        "\n",
        "Vous pouvez l'utiliser comme colonne cible pour le problème de classification."
      ]
    },
    {
      "cell_type": "markdown",
      "metadata": {
        "id": "czaE4HHvb_8L"
      },
      "source": [
        "Supposons maintenant que vous voyagez de San Francisco à Los Angeles pour un voyage d'affaires. Vous souhaitez mieux gérer vos réservations à Los Angeles. Vous souhaitez donc avoir une idée du retard éventuel de votre vol, compte tenu d'un ensemble de caractéristiques. Combien de caractéristiques de cet ensemble de données devez-vous connaître avant votre vol ?\n",
        "\n",
        "Des colonnes telles que « DepDelay », « ArrDelay », « CarrierDelay », « WeatherDelay », « NASDelay », « SecurityDelay », « LateAircraftDelay » et « DivArrDelay » contiennent des informations sur un retard. Mais ce retard peut avoir eu lieu à l'origine ou à la destination. S'il y avait un retard soudain dû aux conditions météorologiques 10 minutes avant l'atterrissage, ces données ne seraient pas utiles pour gérer vos réservations à Los Angeles.\n",
        "\n",
        "Ainsi, pour simplifier l'énoncé du problème, considérez les colonnes suivantes pour prédire un retard d'arrivée : <br>\n",
        "\n",
        "`Year`, `Quarter`, `Month`, `DayofMonth`, `DayOfWeek`, `FlightDate`, `Reporting_Airline`, `Origin`, `OriginState`, `Dest`, `DestState`, `CRSDepTime`, `DepDelayMinutes`, `DepartureDelayGroups`, `Cancelled`, `Diverted`, `Distance`, `DistanceGroup`, `ArrDelay`, `ArrDelayMinutes`, `ArrDel15`, `AirTime`\n",
        "\n",
        "Vous filtrerez également les aéroports source et de destination comme suit :\n",
        "- Principaux aéroports : ATL, ORD, DFW, DEN, CLT, LAX, IAH, PHX, SFO\n",
        "- Principaux cinq compagnies aériennes : UA, OO, WN, AA, DL\n",
        "\n",
        "Ces informations devraient permettre de réduire la taille des données dans les fichiers CSV qui seront combinés."
      ]
    },
    {
      "cell_type": "markdown",
      "metadata": {
        "id": "jO0fD946b_8P"
      },
      "source": [
        "#### Combiner tous les fichiers CSV\n",
        "\n",
        "Tout d'abord, créez un DataFrame vide que vous utiliserez pour copier vos DataFrames individuels à partir de chaque fichier. Ensuite, pour chaque fichier de la liste `csv_files` :\n",
        "\n",
        "1. Lisez le fichier CSV dans un dataframe\n",
        "2. Filtrez les colonnes en fonction de la variable `filter_cols`\n",
        "\n",
        "```\n",
        "columns = ['col1', 'col2']\n",
        "df_filter = df[columns]\n",
        "```\n",
        "\n",
        "3. Ne conservez que les `subset_vals` dans chacun des `subset_cols`. Pour vérifier si le `val` se trouve dans la colonne DataFrame, utilisez la fonction `isin` dans pandas ([documentation pandas.DataFram.isin](https://pandas.pydata.org/pandas-docs/stable/reference/api/pandas.DataFrame.isin.html)). Ensuite, choisissez les lignes qui l'incluent.\n",
        "\n",
        "```\n",
        "df_eg[df_eg['col1'].isin('5')]\n",
        "```\n",
        "\n",
        "4. Concaténez le DataFrame avec le DataFrame vide"
      ]
    },
    {
      "cell_type": "code",
      "execution_count": null,
      "metadata": {
        "id": "fqh62wpcb_8P"
      },
      "outputs": [],
      "source": [
        "def combine_csv(csv_files, filter_cols, subset_cols, subset_vals, file_name):\n",
        "\n",
        "    \"\"\"\n",
        "    Combine csv files into one Data Frame\n",
        "    csv_files: list of csv file paths\n",
        "    filter_cols: list of columns to filter\n",
        "    subset_cols: list of columns to subset rows\n",
        "    subset_vals: list of list of values to subset rows\n",
        "    \"\"\"\n",
        "\n",
        "    df = pd.DataFrame()\n",
        "\n",
        "    for file in csv_files:\n",
        "        df_temp = pd.read_csv(file)\n",
        "        df_temp = df_temp[filter_cols]\n",
        "        for col, val in zip(subset_cols,subset_vals):\n",
        "            df_temp = df_temp[df_temp[col].isin(val)]\n",
        "\n",
        "        df = pd.concat([df, df_temp], axis=0)\n",
        "\n",
        "    df.to_csv(file_name, index=False)\n",
        "    print(f'Combined csv stored at {file_name}')"
      ]
    },
    {
      "cell_type": "code",
      "execution_count": null,
      "metadata": {
        "id": "Ea2xOREZb_8P"
      },
      "outputs": [],
      "source": [
        "# cols est la liste des colonnes pour prédire le retard d'arrivée\n",
        "cols = ['Year','Quarter','Month','DayofMonth','DayOfWeek','FlightDate',\n",
        "        'Reporting_Airline','Origin','OriginState','Dest','DestState',\n",
        "        'CRSDepTime','Cancelled','Diverted','Distance','DistanceGroup',\n",
        "        'ArrDelay','ArrDelayMinutes','ArrDel15','AirTime']\n",
        "\n",
        "subset_cols = ['Origin', 'Dest', 'Reporting_Airline']\n",
        "\n",
        "# subset_vals est une collection de listes des principaux aéroports d'origine et de destination et des 5 principales compagnies aériennes\n",
        "subset_vals = [['ATL', 'ORD', 'DFW', 'DEN', 'CLT', 'LAX', 'IAH', 'PHX', 'SFO'],\n",
        "               ['ATL', 'ORD', 'DFW', 'DEN', 'CLT', 'LAX', 'IAH', 'PHX', 'SFO'],\n",
        "               ['UA', 'OO', 'WN', 'AA', 'DL']]"
      ]
    },
    {
      "cell_type": "markdown",
      "metadata": {
        "id": "IetuDhX-b_8P"
      },
      "source": [
        "Utilisez la fonction précédente pour fusionner tous les différents fichiers en un seul fichier que vous pouvez lire facilement.\n",
        "\n",
        "**Remarque** : ce processus prendra 5 à 7 minutes."
      ]
    },
    {
      "cell_type": "code",
      "execution_count": null,
      "metadata": {
        "id": "HvJj0_izb_8P"
      },
      "outputs": [],
      "source": [
        "start = time.time()\n",
        "combined_csv_filename = f\"{base_path}combined_files.csv\"\n",
        "combine_csv(csv_files, cols, subset_cols, subset_vals, combined_csv_filename)\n",
        "print(f'CSVs merged in {round((time.time() - start)/60,2)} minutes')"
      ]
    },
    {
      "cell_type": "markdown",
      "metadata": {
        "id": "9XIGOI6jb_8P"
      },
      "source": [
        "#### Charger l'ensemble de données\n",
        "\n",
        "Charger l'ensemble de données combiné."
      ]
    },
    {
      "cell_type": "code",
      "execution_count": null,
      "metadata": {
        "id": "orvh2y2gb_8P"
      },
      "outputs": [],
      "source": [
        "data = pd.read_csv(combined_csv_filename)"
      ]
    },
    {
      "cell_type": "markdown",
      "metadata": {
        "id": "kFvrHfhxb_8P"
      },
      "source": [
        "Imprimez les cinq premiers enregistrements."
      ]
    },
    {
      "cell_type": "code",
      "execution_count": null,
      "metadata": {
        "id": "GLhiBzhlb_8P"
      },
      "outputs": [],
      "source": [
        "# Entrez votre code ici"
      ]
    },
    {
      "cell_type": "markdown",
      "metadata": {
        "id": "3_x97QeBb_8P"
      },
      "source": [
        "Voici quelques questions supplémentaires pour vous aider à en savoir plus sur votre ensemble de données.\n",
        "\n",
        "**Questions**\n",
        "\n",
        "1. Combien de lignes et de colonnes l'ensemble de données comporte-t-il ?\n",
        "2. Combien d'années sont incluses dans l'ensemble de données ?\n",
        "3. Quelle est la plage de dates de l'ensemble de données ?\n",
        "4. Quelles compagnies aériennes sont incluses dans l'ensemble de données ?\n",
        "5. Quels aéroports d'origine et de destination sont couverts ?"
      ]
    },
    {
      "cell_type": "code",
      "execution_count": null,
      "metadata": {
        "id": "XtEhYeM0b_8P"
      },
      "outputs": [],
      "source": [
        "print(\"The #rows and #columns are \", <CODE> , \" and \", <CODE>)\n",
        "print(\"The years in this dataset are: \", list(<CODE>))\n",
        "print(\"The months covered in this dataset are: \", sorted(list(<CODE>)))\n",
        "print(\"The date range for data is :\" , min(<CODE>), \" to \", max(<CODE>))\n",
        "print(\"The airlines covered in this dataset are: \", list(<CODE>))\n",
        "print(\"The Origin airports covered are: \", list(<CODE>))\n",
        "print(\"The Destination airports covered are: \", list(<CODE>))"
      ]
    },
    {
      "cell_type": "markdown",
      "metadata": {
        "id": "r9KWHHAfb_8P"
      },
      "source": [
        "Définissez votre colonne cible : **is_delay** (*1* signifie que l'heure d'arrivée a été retardée de plus de 15 minutes et *0* signifie tous les autres cas). Pour renommer la colonne de **ArrDel15** à *is_delay*, utilisez la méthode `rename`.\n",
        "\n",
        "**Astuce** : vous pouvez utiliser la fonction `rename` dans pandas ([documentation pandas.DataFrame.rename](https://pandas.pydata.org/pandas-docs/stable/reference/api/pandas.DataFrame.rename.html)).\n",
        "\n",
        "Par exemple :\n",
        "```\n",
        "data.rename(columns={'col1':'column1'}, inplace=True)\n",
        "```"
      ]
    },
    {
      "cell_type": "code",
      "execution_count": null,
      "metadata": {
        "id": "jcMV7F7Hb_8P"
      },
      "outputs": [],
      "source": [
        "data.rename(columns=<CODE>, inplace=True) # Enter your code here"
      ]
    },
    {
      "cell_type": "markdown",
      "metadata": {
        "id": "RZpuPHPPb_8P"
      },
      "source": [
        "Recherchez les valeurs nulles dans les colonnes. Vous pouvez utiliser la fonction `isnull()` ([documentation pandas.isnull](https://pandas.pydata.org/pandas-docs/version/0.17.0/generated/pandas.isnull.html)).\n",
        "\n",
        "**Astuce** : `isnull()` détecte si la valeur particulière est nulle ou non. Elle renvoie un booléen (*True* ou *False*) à sa place. Pour additionner le nombre de colonnes, utilisez la fonction `sum(axis=0)` (par exemple, `df.isnull().sum(axis=0)`)."
      ]
    },
    {
      "cell_type": "code",
      "execution_count": null,
      "metadata": {
        "id": "i9EEn5BPb_8P"
      },
      "outputs": [],
      "source": [
        "# Entrez votre code ici"
      ]
    },
    {
      "cell_type": "markdown",
      "metadata": {
        "id": "jQhtBp4ob_8P"
      },
      "source": [
        "Les détails du retard d'arrivée et du temps d'antenne sont manquants pour 22 540 lignes sur 1 658 130, ce qui représente 1,3 %. Vous pouvez supprimer ou imputer ces lignes. La documentation ne mentionne aucune information sur les lignes manquantes."
      ]
    },
    {
      "cell_type": "code",
      "execution_count": null,
      "metadata": {
        "id": "zQE4BGMIb_8P"
      },
      "outputs": [],
      "source": [
        "# ## Supprimer les colonnes nulles\n",
        "data = data[~data.is_delay.isnull()]\n",
        "data.isnull().sum(axis = 0)"
      ]
    },
    {
      "cell_type": "markdown",
      "metadata": {
        "id": "jYw58U0qb_8P"
      },
      "source": [
        "Obtenez l'heure du jour au format 24 heures à partir de CRSDepTime."
      ]
    },
    {
      "cell_type": "code",
      "execution_count": null,
      "metadata": {
        "id": "B3wUltRfb_8P"
      },
      "outputs": [],
      "source": [
        "data['DepHourofDay'] = (data['CRSDepTime']//100)"
      ]
    },
    {
      "cell_type": "markdown",
      "metadata": {
        "id": "Z0Esw9CMb_8P"
      },
      "source": [
        "## **L'énoncé du problème ML**\n",
        "- Étant donné un ensemble de fonctionnalités, pouvez-vous prédire si un vol va être retardé de plus de 15 minutes ?\n",
        "- Étant donné que la variable cible ne prend qu'une valeur de *0* ou *1*, vous pouvez utiliser un algorithme de classification.\n",
        "\n",
        "Avant de commencer la modélisation, il est recommandé d'examiner la distribution des fonctionnalités, les corrélations et autres.\n",
        "- Cela vous donnera une idée de toute non-linéarité ou de tout modèle dans les données\n",
        "- Modèles linéaires : ajoutez des fonctionnalités de puissance, exponentielles ou d'interaction\n",
        "- Essayez un modèle non linéaire\n",
        "- Déséquilibre des données\n",
        "- Choisissez des mesures qui ne donneront pas de performances de modèle biaisées (précision par rapport à l'aire sous la courbe, ou AUC)\n",
        "- Utilisez des fonctions de perte pondérées ou personnalisées\n",
        "- Données manquantes\n",
        "- Effectuez une imputation basée sur des statistiques simples : moyenne, médiane, mode (variables numériques), classe fréquente (variables catégorielles)\n",
        "- Imputation basée sur le clustering (k-voisins les plus proches, ou KNN, pour prédire la valeur de la colonne)\n",
        "- Supprimer la colonne"
      ]
    },
    {
      "cell_type": "markdown",
      "metadata": {
        "id": "sZk8eJYnb_8Q"
      },
      "source": [
        "### Exploration des données\n",
        "\n",
        "Vérifiez les classes *délai* par rapport à *pas de délai*."
      ]
    },
    {
      "cell_type": "code",
      "execution_count": null,
      "metadata": {
        "id": "dtM1j8ELb_8Q"
      },
      "outputs": [],
      "source": [
        "(data.groupby('is_delay').size()/len(data) ).plot(kind='bar')# Enter your code here\n",
        "plt.ylabel('Frequency')\n",
        "plt.title('Distribution of classes')\n",
        "plt.show()"
      ]
    },
    {
      "cell_type": "markdown",
      "metadata": {
        "id": "N5AfSqV9b_8Q"
      },
      "source": [
        "**Question** : Que pouvez-vous déduire du graphique à barres concernant le rapport entre *délai* et *absence de délai* ?"
      ]
    },
    {
      "cell_type": "code",
      "execution_count": null,
      "metadata": {
        "id": "tftbImnwb_8Q"
      },
      "outputs": [],
      "source": [
        "# Entrez votre réponse ici"
      ]
    },
    {
      "cell_type": "markdown",
      "metadata": {
        "id": "suvgtj5ub_8Q"
      },
      "source": [
        "Exécutez les deux cellules suivantes et répondez aux questions."
      ]
    },
    {
      "cell_type": "code",
      "execution_count": null,
      "metadata": {
        "id": "RBseTdixb_8Q"
      },
      "outputs": [],
      "source": [
        "viz_columns = ['Month', 'DepHourofDay', 'DayOfWeek', 'Reporting_Airline', 'Origin', 'Dest']\n",
        "fig, axes = plt.subplots(3, 2, figsize=(20,20), squeeze=False)\n",
        "# fig.autofmt_xdate(rotation=90)\n",
        "\n",
        "for idx, column in enumerate(viz_columns):\n",
        "    ax = axes[idx//2, idx%2]\n",
        "    temp = data.groupby(column)['is_delay'].value_counts(normalize=True).rename('percentage').\\\n",
        "    mul(100).reset_index().sort_values(column)\n",
        "    sns.barplot(x=column, y=\"percentage\", hue=\"is_delay\", data=temp, ax=ax)\n",
        "    plt.ylabel('% delay/no-delay')\n",
        "\n",
        "\n",
        "plt.show()"
      ]
    },
    {
      "cell_type": "code",
      "execution_count": null,
      "metadata": {
        "id": "CzzYjLXob_8Q"
      },
      "outputs": [],
      "source": [
        "sns.lmplot( x=\"is_delay\", y=\"Distance\", data=data, fit_reg=False, hue='is_delay', legend=False)\n",
        "plt.legend(loc='center')\n",
        "plt.xlabel('is_delay')\n",
        "plt.ylabel('Distance')\n",
        "plt.show()"
      ]
    },
    {
      "cell_type": "markdown",
      "metadata": {
        "id": "NFWueY8eb_8Q"
      },
      "source": [
        "**Questions**\n",
        "\n",
        "À l'aide des données des graphiques précédents, répondez à ces questions :\n",
        "\n",
        "- Quels mois connaissent le plus de retards ?\n",
        "- À quelle heure de la journée connaît le plus de retards ?\n",
        "- Quel jour de la semaine connaît le plus de retards ?\n",
        "- Quelle compagnie aérienne connaît le plus de retards ?\n",
        "- Quels aéroports d'origine et de destination connaissent le plus de retards ?\n",
        "- La distance du vol est-elle un facteur dans les retards ?"
      ]
    },
    {
      "cell_type": "code",
      "execution_count": null,
      "metadata": {
        "id": "lSDtAOWTb_8Q"
      },
      "outputs": [],
      "source": [
        "# Entrez vos réponses ici"
      ]
    },
    {
      "cell_type": "markdown",
      "metadata": {
        "id": "oX6One-Ob_8Q"
      },
      "source": [
        "### Fonctionnalités\n",
        "\n",
        "Regardez toutes les colonnes et quels sont leurs types spécifiques."
      ]
    },
    {
      "cell_type": "code",
      "execution_count": null,
      "metadata": {
        "id": "ZwjyaA6ob_8Q"
      },
      "outputs": [],
      "source": [
        "data.columns"
      ]
    },
    {
      "cell_type": "code",
      "execution_count": null,
      "metadata": {
        "id": "NTCcGPC4b_8Q"
      },
      "outputs": [],
      "source": [
        "data.dtypes"
      ]
    },
    {
      "cell_type": "markdown",
      "metadata": {
        "id": "dVOPiFKPb_8Q"
      },
      "source": [
        "Filtrage des colonnes requises :\n",
        "- *Date* est redondant, car vous avez *Year*, *Quarter*, *Month*, *DayofMonth* et *DayOfWeek* pour décrire la date.\n",
        "- Utilisez les codes *Origin* et *Dest* au lieu de *OriginState* et *DestState*.\n",
        "- Étant donné que vous classez uniquement si le vol est retardé ou non, vous n'avez pas besoin de *TotalDelayMinutes*, *DepDelayMinutes* et *ArrDelayMinutes*.\n",
        "\n",
        "Traitez *DepHourofDay* comme une variable catégorielle, car elle n'a aucune relation quantitative avec la cible.\n",
        "- Si vous deviez effectuer un codage one-hot de cette variable, cela donnerait 23 colonnes supplémentaires.\n",
        "- D'autres alternatives à la gestion des variables catégorielles incluent le codage par hachage, le codage par moyenne régularisée et la segmentation des valeurs, entre autres.\n",
        "- Dans ce cas, vous n'avez besoin que de diviser en compartiments.\n",
        "\n",
        "Pour changer le type de colonne en catégorie, utilisez la fonction `astype` ([documentation pandas.DataFrame.astype](https://pandas.pydata.org/pandas-docs/stable/reference/api/pandas.DataFrame.astype.html))."
      ]
    },
    {
      "cell_type": "code",
      "execution_count": null,
      "metadata": {
        "id": "hK-gKNYpb_8Q"
      },
      "outputs": [],
      "source": [
        "data_orig = data.copy()\n",
        "data = data[[ 'is_delay', 'Quarter', 'Month', 'DayofMonth', 'DayOfWeek',\n",
        "       'Reporting_Airline', 'Origin', 'Dest','Distance','DepHourofDay']]\n",
        "categorical_columns  = ['Quarter', 'Month', 'DayofMonth', 'DayOfWeek',\n",
        "       'Reporting_Airline', 'Origin', 'Dest', 'DepHourofDay']\n",
        "for c in categorical_columns:\n",
        "    data[c] = data[c].astype('category')"
      ]
    },
    {
      "cell_type": "markdown",
      "metadata": {
        "id": "Q-kgwhF1b_8Q"
      },
      "source": [
        "Pour utiliser l'encodage one-hot, utilisez la fonction `get_dummies` dans pandas pour les colonnes catégorielles que vous avez sélectionnées. Ensuite, vous pouvez concaténer ces entités générées à votre jeu de données d'origine en utilisant la fonction `concat` dans pandas. Pour encoder des variables catégorielles, vous pouvez également utiliser un *encodage factice* en utilisant un mot-clé `drop_first=True`. Pour plus d'informations sur l'encodage factice, voir [Variable factice (statistiques)](https://en.wikiversity.org/wiki/Dummy_variable_(statistics)).\n",
        "\n",
        "Par exemple :\n",
        "```\n",
        "pd.get_dummies(df[['column1','columns2']], drop_first=True)\n",
        "```"
      ]
    },
    {
      "cell_type": "code",
      "execution_count": null,
      "metadata": {
        "id": "CzDmZVuFb_8Q"
      },
      "outputs": [],
      "source": [
        "data_dummies = pd.get_dummies(<CODE>, drop_first=True) # Enter your code here\n",
        "data_dummies = data_dummies.replace({True: 1, False: 0})\n",
        "data = pd.concat([<CODE>, <CODE>], axis = 1)\n",
        "data.drop(categorical_columns,axis=1, inplace=True)"
      ]
    },
    {
      "cell_type": "markdown",
      "metadata": {
        "id": "R2rK87Lgb_8Q"
      },
      "source": [
        "Vérifiez la longueur de l'ensemble de données et les nouvelles colonnes.\n",
        "\n",
        "**Astuce** : utilisez les propriétés `shape` et `columns`."
      ]
    },
    {
      "cell_type": "code",
      "execution_count": null,
      "metadata": {
        "id": "VGF_gqKQb_8Q"
      },
      "outputs": [],
      "source": [
        "# Entrez votre code ici"
      ]
    },
    {
      "cell_type": "code",
      "execution_count": null,
      "metadata": {
        "id": "XbqujrKSb_8Q"
      },
      "outputs": [],
      "source": [
        "# Entrez votre code ici"
      ]
    },
    {
      "cell_type": "markdown",
      "metadata": {
        "id": "TcydxKatb_8Q"
      },
      "source": [
        "Vous êtes maintenant prêt à entraîner le modèle. Avant de fractionner les données, renommez la colonne **is_delay** en *target*.\n",
        "\n",
        "**Astuce** : vous pouvez utiliser la fonction `rename` dans pandas ([documentation pandas.DataFrame.rename](https://pandas.pydata.org/pandas-docs/stable/reference/api/pandas.DataFrame.rename.html))."
      ]
    },
    {
      "cell_type": "code",
      "execution_count": null,
      "metadata": {
        "id": "rBT_wjrWb_8Q"
      },
      "outputs": [],
      "source": [
        "data.rename(columns = {<CODE>:<CODE>}, inplace=True )# Enter your code here"
      ]
    },
    {
      "cell_type": "markdown",
      "metadata": {
        "id": "-VFQyv0Rb_8Q"
      },
      "source": [
        "## <span style=\"color:red\"> Fin de l'étape 2 </span>\n",
        "\n",
        "Enregistrez le fichier de projet sur votre ordinateur local. Suivez ces étapes :\n",
        "\n",
        "1. Dans l'explorateur de fichiers à gauche, cliquez avec le bouton droit sur le bloc-notes sur lequel vous travaillez.\n",
        "\n",
        "2. Choisissez **Télécharger** et enregistrez le fichier localement.\n",
        "\n",
        "Cette action télécharge le bloc-notes actuel dans le dossier de téléchargement par défaut de votre ordinateur."
      ]
    },
    {
      "cell_type": "markdown",
      "metadata": {
        "id": "82ydIwnub_8Q"
      },
      "source": [
        "# Étape 3 : formation et évaluation du modèle\n",
        "\n",
        "Vous devez inclure certaines étapes préliminaires lorsque vous convertissez l'ensemble de données d'un DataFrame vers un format qu'un algorithme d'apprentissage automatique peut utiliser. Pour Amazon SageMaker, vous devez effectuer ces étapes :\n",
        "\n",
        "1. Divisez les données en `train_data`, `validation_data` et `test_data` à l'aide de `sklearn.model_selection.train_test_split`.\n",
        "\n",
        "2. Convertissez l'ensemble de données dans un format de fichier approprié que la tâche de formation Amazon SageMaker peut utiliser. Il peut s'agir d'un fichier CSV ou d'un enregistrement protobuf. Pour plus d'informations, consultez [Formats de données courants pour la formation](https://docs.aws.amazon.com/sagemaker/latest/dg/cdf-training.html).\n",
        "\n",
        "3. Téléchargez les données dans votre compartiment S3. Si vous n'en avez pas encore créé, consultez [Créer un bucket](https://docs.aws.amazon.com/AmazonS3/latest/gsg/CreatingABucket.html).\n",
        "\n",
        "Utilisez les cellules suivantes pour effectuer ces étapes. Insérez et supprimez des cellules si nécessaire.\n",
        "\n",
        "#### <span style=\"color: blue;\">Présentation du projet : dans votre présentation de projet, notez les décisions clés que vous avez prises au cours de cette phase.</span>"
      ]
    },
    {
      "cell_type": "markdown",
      "metadata": {
        "id": "fZZ3mO4ub_8Q"
      },
      "source": [
        "### Séparation des trains et des tests"
      ]
    },
    {
      "cell_type": "code",
      "execution_count": null,
      "metadata": {
        "id": "J2fTlyj-b_8Q"
      },
      "outputs": [],
      "source": [
        "from sklearn.model_selection import train_test_split\n",
        "def split_data(data):\n",
        "    train, test_and_validate = train_test_split(data, test_size=0.2, random_state=42, stratify=data['target'])\n",
        "    test, validate = train_test_split(test_and_validate, test_size=0.5, random_state=42, stratify=test_and_validate['target'])\n",
        "    return train, validate, test"
      ]
    },
    {
      "cell_type": "code",
      "execution_count": null,
      "metadata": {
        "id": "th2YamZyb_8Q"
      },
      "outputs": [],
      "source": [
        "train, validate, test = split_data(data)\n",
        "print(train['target'].value_counts())\n",
        "print(test['target'].value_counts())\n",
        "print(validate['target'].value_counts())"
      ]
    },
    {
      "cell_type": "markdown",
      "metadata": {
        "id": "1zuio2PIb_8Q"
      },
      "source": [
        "**Exemple de réponse**\n",
        "```\n",
        "0,0 1033570\n",
        "1,0 274902\n",
        "Nom : cible, type de données : int64\n",
        "0,0 129076\n",
        "1,0 34483\n",
        "Nom : cible, type de données : int64\n",
        "0,0 129612\n",
        "1,0 33947\n",
        "Nom : cible, type de données : int64\n",
        "```"
      ]
    },
    {
      "cell_type": "markdown",
      "metadata": {
        "id": "KUGQn7cMb_8R"
      },
      "source": [
        "### Modèle de classification de base"
      ]
    },
    {
      "cell_type": "code",
      "execution_count": null,
      "metadata": {
        "id": "8eDQ6Mzcb_8R"
      },
      "outputs": [],
      "source": [
        "import sagemaker\n",
        "from sagemaker.serializers import CSVSerializer\n",
        "from sagemaker.amazon.amazon_estimator import RecordSet\n",
        "import boto3\n",
        "\n",
        "# Instanciez l'objet estimateur LinearLearner avec 1 ml.m4.xlarge\n",
        "classifier_estimator = sagemaker.LinearLearner(role=sagemaker.get_execution_role(),\n",
        "                                               instance_count=<CODE>,\n",
        "                                               instance_type=<CODE>,\n",
        "                                               predictor_type=<CODE>,\n",
        "                                               binary_classifier_model_selection_criteria=<CODE>)"
      ]
    },
    {
      "cell_type": "markdown",
      "metadata": {
        "id": "6QhUKmI9b_8R"
      },
      "source": [
        "### Exemple de code\n",
        "```\n",
        "num_classes = len(pd.unique(train_labels))\n",
        "classifier_estimator = sagemaker.LinearLearner(role=sagemaker.get_execution_role(),\n",
        "instance_count=1,\n",
        "instance_type='ml.m4.xlarge',\n",
        "predictor_type='binary_classifier',\n",
        "binary_classifier_model_selection_criteria = 'cross_entropy_loss')\n",
        "\n",
        "```"
      ]
    },
    {
      "cell_type": "markdown",
      "metadata": {
        "id": "oJLURBi0b_8R"
      },
      "source": [
        "L'apprenant linéaire accepte les données de formation dans les types de contenu protobuf ou CSV. Il accepte également les demandes d'inférence dans les types de contenu protobuf, CSV ou JavaScript Object Notation (JSON). Les données de formation ont des fonctionnalités et des étiquettes de vérité fondamentale, mais les données d'une demande d'inférence n'ont que des fonctionnalités.\n",
        "\n",
        "Dans un pipeline de production, AWS recommande de convertir les données au format protobuf d'Amazon SageMaker et de les stocker dans Amazon S3. Pour être opérationnel rapidement, AWS fournit l'opération `record_set` pour convertir et télécharger l'ensemble de données lorsqu'il est suffisamment petit pour tenir dans la mémoire locale. Il accepte les tableaux NumPy comme ceux que vous avez déjà, vous l'utiliserez donc pour cette étape. L'objet `RecordSet` suivra l'emplacement Amazon S3 temporaire de vos données. Créez des enregistrements de formation, de validation et de test à l'aide de la fonction `estimator.record_set`. Ensuite, démarrez votre tâche de formation à l'aide de la fonction `estimator.fit`."
      ]
    },
    {
      "cell_type": "code",
      "execution_count": null,
      "metadata": {
        "id": "gybjCMKib_8R"
      },
      "outputs": [],
      "source": [
        "# ## Créer des enregistrements de train, de validation et de test\n",
        "train_records = classifier_estimator.record_set(train.values[:, 1:].astype(np.float32), train.values[:, 0].astype(np.float32), channel='train')\n",
        "val_records = classifier_estimator.record_set(validate.values[:, 1:].astype(np.float32), validate.values[:, 0].astype(np.float32), channel='validation')\n",
        "test_records = classifier_estimator.record_set(test.values[:, 1:].astype(np.float32), test.values[:, 0].astype(np.float32), channel='test')"
      ]
    },
    {
      "cell_type": "markdown",
      "metadata": {
        "id": "fykmzLmJb_8R"
      },
      "source": [
        "Entraînez maintenant votre modèle sur l'ensemble de données que vous venez de télécharger.\n",
        "\n",
        "### Exemple de code\n",
        "```\n",
        "linear.fit([train_records,val_records,test_records])\n",
        "```"
      ]
    },
    {
      "cell_type": "code",
      "execution_count": null,
      "metadata": {
        "id": "cqL7P9jZb_8R"
      },
      "outputs": [],
      "source": [
        "# ## Ajuster le classificateur\n",
        "# Entrez votre code ici"
      ]
    },
    {
      "cell_type": "markdown",
      "metadata": {
        "id": "DNgqmPa1b_8R"
      },
      "source": [
        "## Évaluation du modèle\n",
        "Dans cette section, vous allez évaluer votre modèle formé."
      ]
    },
    {
      "cell_type": "markdown",
      "metadata": {
        "id": "TiZURivCb_8R"
      },
      "source": [
        "Tout d’abord, examinez les métriques de la tâche de formation :"
      ]
    },
    {
      "cell_type": "code",
      "execution_count": null,
      "metadata": {
        "id": "67WNnGLub_8R"
      },
      "outputs": [],
      "source": [
        "sagemaker.analytics.TrainingJobAnalytics(classifier_estimator._current_job_name,\n",
        "                                         metric_names = ['test:objective_loss',\n",
        "                                                         'test:binary_f_beta',\n",
        "                                                         'test:precision',\n",
        "                                                         'test:recall']\n",
        "                                        ).dataframe()"
      ]
    },
    {
      "cell_type": "markdown",
      "metadata": {
        "id": "Ulj14M-mb_8R"
      },
      "source": [
        "Ensuite, configurez certaines fonctions qui vous aideront à charger les données de test dans Amazon S3 et à effectuer une prédiction à l'aide de la fonction de prédiction par lots. L'utilisation de la prédiction par lots contribuera à réduire les coûts, car les instances ne s'exécuteront que lorsque des prédictions seront effectuées sur les données de test fournies.\n",
        "\n",
        "**Remarque :** remplacez `<LabBucketName>` par le nom du compartiment de laboratoire créé lors de la configuration du laboratoire."
      ]
    },
    {
      "cell_type": "code",
      "execution_count": null,
      "metadata": {
        "id": "f05SEyTcb_8R"
      },
      "outputs": [],
      "source": [
        "import io\n",
        "# bucket='<NomLabBucket>'\n",
        "prefix='flight-linear'\n",
        "train_file='flight_train.csv'\n",
        "test_file='flight_test.csv'\n",
        "validate_file='flight_validate.csv'\n",
        "whole_file='flight.csv'\n",
        "s3_resource = boto3.Session().resource('s3')\n",
        "\n",
        "def upload_s3_csv(filename, folder, dataframe):\n",
        "    csv_buffer = io.StringIO()\n",
        "    dataframe.to_csv(csv_buffer, header=False, index=False )\n",
        "    s3_resource.Bucket(bucket).Object(os.path.join(prefix, folder, filename)).put(Body=csv_buffer.getvalue())"
      ]
    },
    {
      "cell_type": "code",
      "execution_count": null,
      "metadata": {
        "id": "O2fTuI9hb_8R"
      },
      "outputs": [],
      "source": [
        "def batch_linear_predict(test_data, estimator):\n",
        "    batch_X = test_data.iloc[:,1:];\n",
        "    batch_X_file='batch-in.csv'\n",
        "    upload_s3_csv(batch_X_file, 'batch-in', batch_X)\n",
        "\n",
        "    batch_output = \"s3://{}/{}/batch-out/\".format(bucket,prefix)\n",
        "    batch_input = \"s3://{}/{}/batch-in/{}\".format(bucket,prefix,batch_X_file)\n",
        "\n",
        "    classifier_transformer = estimator.transformer(instance_count=1,\n",
        "                                           instance_type='ml.m4.xlarge',\n",
        "                                           strategy='MultiRecord',\n",
        "                                           assemble_with='Line',\n",
        "                                           output_path=batch_output)\n",
        "\n",
        "    classifier_transformer.transform(data=batch_input,\n",
        "                             data_type='S3Prefix',\n",
        "                             content_type='text/csv',\n",
        "                             split_type='Line')\n",
        "\n",
        "    classifier_transformer.wait()\n",
        "\n",
        "    s3 = boto3.client('s3')\n",
        "    obj = s3.get_object(Bucket=bucket, Key=\"{}/batch-out/{}\".format(prefix,'batch-in.csv.out'))\n",
        "    target_predicted_df = pd.read_json(io.BytesIO(obj['Body'].read()),orient=\"records\",lines=True)\n",
        "    return test_data.iloc[:,0], target_predicted_df.iloc[:,0]"
      ]
    },
    {
      "cell_type": "markdown",
      "metadata": {
        "id": "Nuwt6eZ3b_8R"
      },
      "source": [
        "Pour exécuter les prédictions sur l'ensemble de données de test, exécutez la fonction `batch_linear_predict` (qui a été définie précédemment) sur votre ensemble de données de test."
      ]
    },
    {
      "cell_type": "code",
      "execution_count": null,
      "metadata": {
        "id": "IPm5Y3PCb_8R"
      },
      "outputs": [],
      "source": [
        "test_labels, target_predicted = batch_linear_predict(test, classifier_estimator)"
      ]
    },
    {
      "cell_type": "markdown",
      "metadata": {
        "id": "NNLXAJQkb_8R"
      },
      "source": [
        "Pour afficher un graphique de la matrice de confusion et diverses mesures de notation, créez quelques fonctions :"
      ]
    },
    {
      "cell_type": "code",
      "execution_count": null,
      "metadata": {
        "id": "YFY6-NcXb_8R"
      },
      "outputs": [],
      "source": [
        "from sklearn.metrics import confusion_matrix\n",
        "\n",
        "def plot_confusion_matrix(test_labels, target_predicted):\n",
        "    matrix = confusion_matrix(test_labels, target_predicted)\n",
        "    df_confusion = pd.DataFrame(matrix)\n",
        "    colormap = sns.color_palette(\"BrBG\", 10)\n",
        "    sns.heatmap(df_confusion, annot=True, fmt='.2f', cbar=None, cmap=colormap)\n",
        "    plt.title(\"Confusion Matrix\")\n",
        "    plt.tight_layout()\n",
        "    plt.ylabel(\"True Class\")\n",
        "    plt.xlabel(\"Predicted Class\")\n",
        "    plt.show()\n",
        ""
      ]
    },
    {
      "cell_type": "code",
      "execution_count": null,
      "metadata": {
        "id": "KWxicK-xb_8R"
      },
      "outputs": [],
      "source": [
        "from sklearn import metrics\n",
        "\n",
        "def plot_roc(test_labels, target_predicted):\n",
        "    TN, FP, FN, TP = confusion_matrix(test_labels, target_predicted).ravel()\n",
        "# Sensibilité, taux de réussite, rappel ou taux de vrais positifs\n",
        "    Sensitivity  = float(TP)/(TP+FN)*100\n",
        "# Spécificité ou taux de vrais négatifs\n",
        "    Specificity  = float(TN)/(TN+FP)*100\n",
        "# Précision ou valeur prédictive positive\n",
        "    Precision = float(TP)/(TP+FP)*100\n",
        "# Valeur prédictive négative\n",
        "    NPV = float(TN)/(TN+FN)*100\n",
        "# Taux de faux positifs ou de chute de résultats\n",
        "    FPR = float(FP)/(FP+TN)*100\n",
        "# Taux de faux négatifs\n",
        "    FNR = float(FN)/(TP+FN)*100\n",
        "# Taux de fausses découvertes\n",
        "    FDR = float(FP)/(TP+FP)*100\n",
        "# Précision globale\n",
        "    ACC = float(TP+TN)/(TP+FP+FN+TN)*100\n",
        "\n",
        "    print(\"Sensitivity or TPR: \", Sensitivity, \"%\")\n",
        "    print( \"Specificity or TNR: \",Specificity, \"%\")\n",
        "    print(\"Precision: \",Precision, \"%\")\n",
        "    print(\"Negative Predictive Value: \",NPV, \"%\")\n",
        "    print( \"False Positive Rate: \",FPR,\"%\")\n",
        "    print(\"False Negative Rate: \",FNR, \"%\")\n",
        "    print(\"False Discovery Rate: \",FDR, \"%\" )\n",
        "    print(\"Accuracy: \",ACC, \"%\")\n",
        "\n",
        "    test_labels = test.iloc[:,0];\n",
        "    print(\"Validation AUC\", metrics.roc_auc_score(test_labels, target_predicted) )\n",
        "\n",
        "    fpr, tpr, thresholds = metrics.roc_curve(test_labels, target_predicted)\n",
        "    roc_auc = metrics.auc(fpr, tpr)\n",
        "\n",
        "    plt.figure()\n",
        "    plt.plot(fpr, tpr, label='ROC curve (area = %0.2f)' % (roc_auc))\n",
        "    plt.plot([0, 1], [0, 1], 'k--')\n",
        "    plt.xlim([0.0, 1.0])\n",
        "    plt.ylim([0.0, 1.05])\n",
        "    plt.xlabel('False Positive Rate')\n",
        "    plt.ylabel('True Positive Rate')\n",
        "    plt.title('Receiver operating characteristic')\n",
        "    plt.legend(loc=\"lower right\")\n",
        "\n",
        "# créer l'axe des seuils (scores)\n",
        "    ax2 = plt.gca().twinx()\n",
        "    ax2.plot(fpr, thresholds, markeredgecolor='r',linestyle='dashed', color='r')\n",
        "    ax2.set_ylabel('Threshold',color='r')\n",
        "    ax2.set_ylim([thresholds[-1],thresholds[0]])\n",
        "    ax2.set_xlim([fpr[0],fpr[-1]])\n",
        "\n",
        "    print(plt.figure())"
      ]
    },
    {
      "cell_type": "markdown",
      "metadata": {
        "id": "rOnfRCHZb_8R"
      },
      "source": [
        "Pour tracer la matrice de confusion, appelez la fonction `plot_confusion_matrix` sur les données `test_labels` et `target_predicted` de votre tâche par lots :"
      ]
    },
    {
      "cell_type": "code",
      "execution_count": null,
      "metadata": {
        "id": "hKPeUWrWb_8R"
      },
      "outputs": [],
      "source": [
        "# Entrez votre code ici"
      ]
    },
    {
      "cell_type": "markdown",
      "metadata": {
        "id": "1B8Cu0DWb_8R"
      },
      "source": [
        "### Questions clés à prendre en compte :\n",
        "\n",
        "1. Comment les performances de votre modèle sur l'ensemble de test se comparent-elles à ses performances sur l'ensemble d'entraînement ? Que pouvez-vous déduire de cette comparaison ?\n",
        "2. Existe-t-il des différences évidentes entre les résultats de mesures telles que l'exactitude, la précision et le rappel ? Si oui, pourquoi constatez-vous ces différences ?\n",
        "3. Compte tenu de la situation et des objectifs de votre entreprise, quelle mesure (ou quelles mesures) est la plus importante à prendre en compte ? Pourquoi ?\n",
        "4. D'un point de vue commercial, le résultat de la mesure (ou des mesures) que vous considérez comme la plus importante est-il suffisant pour ce dont vous avez besoin ? Si ce n'est pas le cas, quels sont les éléments que vous pourriez modifier dans votre prochaine itération ? (Cela se produira dans la section sur l'ingénierie des fonctionnalités, qui est la suivante.)\n",
        "\n",
        "Utilisez les cellules suivantes pour répondre à ces questions (et à d'autres). Insérez et supprimez des cellules si nécessaire.\n",
        "\n",
        "#### <span style=\"color: blue;\">Présentation du projet : dans votre présentation du projet, notez vos réponses à ces questions (et à d'autres questions similaires auxquelles vous pourriez répondre) dans cette section. Enregistrez les détails clés et les décisions que vous avez prises."
      ]
    },
    {
      "cell_type": "markdown",
      "metadata": {
        "id": "l55Fn_7ab_8R"
      },
      "source": [
        "**Question** : Que pouvez-vous résumer à partir de la matrice de confusion ?"
      ]
    },
    {
      "cell_type": "code",
      "execution_count": null,
      "metadata": {
        "id": "588uQYo4b_8R"
      },
      "outputs": [],
      "source": [
        "# Entrez votre réponse ici"
      ]
    },
    {
      "cell_type": "markdown",
      "metadata": {
        "id": "x2mGEA3Fb_8R"
      },
      "source": [
        "## <span style=\"color:red\"> Fin de l'étape 3 </span>\n",
        "\n",
        "Enregistrez le fichier de projet sur votre ordinateur local. Suivez ces étapes :\n",
        "\n",
        "1. Dans l'explorateur de fichiers à gauche, cliquez avec le bouton droit sur le bloc-notes sur lequel vous travaillez.\n",
        "\n",
        "2. Sélectionnez **Télécharger** et enregistrez le fichier localement.\n",
        "\n",
        "Cette action télécharge le bloc-notes actuel dans le dossier de téléchargement par défaut de votre ordinateur."
      ]
    },
    {
      "cell_type": "markdown",
      "metadata": {
        "id": "jDBiQCzub_8R"
      },
      "source": [
        "# Itération II"
      ]
    },
    {
      "cell_type": "markdown",
      "metadata": {
        "id": "_RWNMwysb_8R"
      },
      "source": [
        "# Étape 4 : Ingénierie des fonctionnalités\n",
        "\n",
        "Vous avez maintenant effectué une itération de formation et d'évaluation de votre modèle. Étant donné que le premier résultat que vous avez obtenu pour votre modèle n'était probablement pas suffisant pour résoudre votre problème métier, que pourriez-vous modifier dans vos données pour éventuellement améliorer les performances du modèle ?\n",
        "\n",
        "### Questions clés à prendre en compte :\n",
        "\n",
        "1. Comment l'équilibre de vos deux classes principales (*délai* et *pas de délai*) pourrait-il avoir un impact sur les performances du modèle ?\n",
        "2. Avez-vous des fonctionnalités corrélées ?\n",
        "3. À ce stade, pourriez-vous effectuer des techniques de réduction des fonctionnalités qui pourraient avoir un impact positif sur les performances du modèle ?\n",
        "4. Pouvez-vous envisager d'ajouter d'autres données ou ensembles de données ?\n",
        "5. Après avoir effectué une ingénierie des fonctionnalités, comment les performances de votre modèle se comparent-elles à la première itération ?\n",
        "\n",
        "Utilisez les cellules suivantes pour effectuer des techniques d'ingénierie des fonctionnalités spécifiques qui, selon vous, pourraient améliorer les performances de votre modèle (utilisez les questions précédentes comme guide). Insérez et supprimez des cellules si nécessaire.\n",
        "\n",
        "#### <span style=\"color: blue;\">Présentation du projet : dans votre présentation du projet, enregistrez vos décisions clés et les méthodes que vous utilisez dans cette section. Incluez également toutes les nouvelles mesures de performance que vous obtenez après avoir réévalué votre modèle.</span>\n",
        "\n",
        "Avant de commencer, réfléchissez à la raison pour laquelle la précision et le rappel sont d'environ 80 % et l'exactitude de 99 %."
      ]
    },
    {
      "cell_type": "markdown",
      "metadata": {
        "id": "5FtWUrGlb_8S"
      },
      "source": [
        "Ajoutez d'autres fonctionnalités :\n",
        "\n",
        "1. Vacances\n",
        "2. Météo"
      ]
    },
    {
      "cell_type": "markdown",
      "metadata": {
        "id": "MaANH1z7b_8S"
      },
      "source": [
        "Comme la liste des jours fériés de 2014 à 2018 est connue, vous pouvez créer une variable indicatrice **is_holiday** pour les marquer.\n",
        "\n",
        "L'hypothèse est que les retards d'avion pourraient être plus élevés pendant les jours fériés par rapport aux autres jours. Ajoutez une variable booléenne `is_holiday` qui inclut les jours fériés des années 2014-2018."
      ]
    },
    {
      "cell_type": "code",
      "execution_count": null,
      "metadata": {
        "id": "X5ZXwtR0b_8S"
      },
      "outputs": [],
      "source": [
        "# Source : http://www.calendarpedia.com/holidays/f%C3%A9ri%C3%A9s-federaux-2014.html\n",
        "\n",
        "holidays_14 = ['2014-01-01',  '2014-01-20', '2014-02-17', '2014-05-26', '2014-07-04', '2014-09-01', '2014-10-13', '2014-11-11', '2014-11-27', '2014-12-25' ]\n",
        "holidays_15 = ['2015-01-01',  '2015-01-19', '2015-02-16', '2015-05-25', '2015-06-03', '2015-07-04', '2015-09-07', '2015-10-12', '2015-11-11', '2015-11-26', '2015-12-25']\n",
        "holidays_16 = ['2016-01-01',  '2016-01-18', '2016-02-15', '2016-05-30', '2016-07-04', '2016-09-05', '2016-10-10', '2016-11-11', '2016-11-24', '2016-12-25', '2016-12-26']\n",
        "holidays_17 = ['2017-01-02', '2017-01-16', '2017-02-20', '2017-05-29' , '2017-07-04', '2017-09-04' ,'2017-10-09', '2017-11-10', '2017-11-23', '2017-12-25']\n",
        "holidays_18 = ['2018-01-01', '2018-01-15', '2018-02-19', '2018-05-28' , '2018-07-04', '2018-09-03' ,'2018-10-08', '2018-11-12','2018-11-22', '2018-12-25']\n",
        "holidays = holidays_14+ holidays_15+ holidays_16 + holidays_17+ holidays_18\n",
        "\n",
        "# ## Ajouter une variable indicatrice pour les jours fériés\n",
        "data_orig['is_holiday'] = # Enter your code here"
      ]
    },
    {
      "cell_type": "markdown",
      "metadata": {
        "id": "aAdXF7EFb_8S"
      },
      "source": [
        "Les données météorologiques ont été extraites de https://www.ncei.noaa.gov/access/services/data/v1?dataset=daily-summaries&stations=USW00023174,USW00012960,USW00003017,USW00094846,USW00013874,USW00023234,USW00003927,USW00023183,USW00013881&dataTypes=AWND,PRCP,SNOW,SNWD,TAVG,TMIN,TMAX&startDate=2014-01-01&endDate=2018-12-31.\n",
        "<br>\n",
        "\n",
        "Cet ensemble de données contient des informations sur la vitesse du vent, les précipitations, la neige et la température pour les villes par code d'aéroport.\n",
        "\n",
        "**Question** : Le mauvais temps dû à la pluie, aux vents violents ou à la neige peut-il entraîner des retards d'avion ? Vous allez maintenant vérifier."
      ]
    },
    {
      "cell_type": "code",
      "execution_count": null,
      "metadata": {
        "id": "Z5fIV0Wrb_8S"
      },
      "outputs": [],
      "source": [
        "!aws s3 cp s3://aws-tc-largeobjects/CUR-TF-200-ACMLFO-1/flight_delay_project/data2/daily-summaries.csv /home/ec2-user/SageMaker/project/data/\n",
        "# !wget 'https://www.ncei.noaa.gov/access/services/data/v1?dataset=daily-summaries&stations=USW00023174,USW00012960,USW00003017,USW00094846,USW00013874,USW00023234,USW00003927,USW00023183,USW00013881&dataTypes=AWND,PRCP,SNOW,SNWD,TAVG,TMIN,TMAX&startDate=2014-01-01&endDate=2018-12-31' -O /home/ec2-user/SageMaker/project/data/daily-summaries.csv"
      ]
    },
    {
      "cell_type": "markdown",
      "metadata": {
        "id": "1xJCcmQ-b_8S"
      },
      "source": [
        "Importez les données météorologiques préparées pour les codes d'aéroport dans l'ensemble de données. Utilisez les stations et aéroports suivants pour l'analyse. Créez une nouvelle colonne appelée *aéroport* qui associe la station météo au nom de l'aéroport."
      ]
    },
    {
      "cell_type": "code",
      "execution_count": null,
      "metadata": {
        "id": "8Vg-Dlbob_8S"
      },
      "outputs": [],
      "source": [
        "weather = pd.read_csv('/home/ec2-user/SageMaker/project/data/daily-summaries.csv')\n",
        "station = ['USW00023174','USW00012960','USW00003017','USW00094846','USW00013874','USW00023234','USW00003927','USW00023183','USW00013881']\n",
        "airports = ['LAX', 'IAH', 'DEN', 'ORD', 'ATL', 'SFO', 'DFW', 'PHX', 'CLT']\n",
        "\n",
        "# ## Cartographier les stations météorologiques selon le code de l'aéroport\n",
        "station_map = {s:a for s,a in zip(station, airports)}\n",
        "weather['airport'] = weather['STATION'].map(station_map)"
      ]
    },
    {
      "cell_type": "markdown",
      "metadata": {
        "id": "HDh60Xdfb_8S"
      },
      "source": [
        "À partir de la colonne **DATE**, créez une autre colonne appelée *MOIS*."
      ]
    },
    {
      "cell_type": "code",
      "execution_count": null,
      "metadata": {
        "id": "nMC4Q1DOb_8S"
      },
      "outputs": [],
      "source": [
        "weather['MONTH'] = weather['DATE'].apply(lambda x: x.split('-')[1])\n",
        "weather.head()"
      ]
    },
    {
      "cell_type": "markdown",
      "metadata": {
        "id": "TLi_Q-K3b_8S"
      },
      "source": [
        "### Exemple de sortie\n",
        "```\n",
        "  STATION DATE AWND PRCP NEIGE SNWD TAVG TMAX TMIN aéroport MOIS\n",
        "0 USW00023174 01/01/2014 16 0 NaN NaN 131,0 178,0 78,0 LAX 01\n",
        "1 USW00023174 02/01/2014 22 0 NaN NaN 159,0 256,0 100,0 LAX 01\n",
        "2 USW00023174 03/01/2014 17 0 NaN NaN 140,0 178,0 83,0 LAX 01\n",
        "3 USW00023174 04/01/2014 18 0 NaN NaN 136,0 183,0 100,0 LAX 01\n",
        "4 USW00023174 05/01/2014 18 0 NaN NaN 151,0 244,0 83,0 LAX 01\n",
        "```"
      ]
    },
    {
      "cell_type": "markdown",
      "metadata": {
        "id": "bhruYSxLb_8S"
      },
      "source": [
        "Analysez et gérez les colonnes **SNOW** et **SNWD** pour les valeurs manquantes en utilisant `fillna()`. Pour vérifier les valeurs manquantes pour toutes les colonnes, utilisez la fonction `isna()`."
      ]
    },
    {
      "cell_type": "code",
      "execution_count": null,
      "metadata": {
        "id": "NsNwAqDHb_8S"
      },
      "outputs": [],
      "source": [
        "weather.SNOW.fillna(0, inplace=True)\n",
        "weather.SNWD.fillna(0, inplace=True)\n",
        "weather.isna().sum()"
      ]
    },
    {
      "cell_type": "markdown",
      "metadata": {
        "id": "XlXucJK7b_8S"
      },
      "source": [
        "**Question** : Imprimez l'index des lignes qui ont des valeurs manquantes pour *TAVG*, *TMAX*, *TMIN*.\n",
        "\n",
        "**Astuce** : Pour trouver les lignes manquantes, utilisez la fonction `isna()`. Ensuite, pour obtenir l'index, utilisez la liste sur la variable *idx*."
      ]
    },
    {
      "cell_type": "code",
      "execution_count": null,
      "metadata": {
        "id": "JoVQHzrSb_8S"
      },
      "outputs": [],
      "source": [
        "idx = np.array([i for i in range(len(weather))])\n",
        "TAVG_idx = idx[weather.TAVG.isna()]\n",
        "TMAX_idx = # Enter your code here\n",
        "TMIN_idx = # Enter your code here\n",
        "TAVG_idx"
      ]
    },
    {
      "cell_type": "markdown",
      "metadata": {
        "id": "e73Fjv1Ob_8S"
      },
      "source": [
        "### Exemple de sortie\n",
        "\n",
        "```\n",
        "array([ 3956, 3957, 3958, 3959, 3960, 3961, 3962, 3963, 3964,\n",
        "3965, 3966, 3967, 3968, 3969, 3970, 3971, 3972, 3973,\n",
        "3974, 3975, 3976, 3977, 3978, 3979, 3980, 3981, 3982,\n",
        "3983, 3984, 3985, 4017, 4018, 4019, 4020, 4021, 4022,\n",
        "4023,  4024, 4025, 4026, 4027, 4028, 4029, 4030, 4031,\n",
        "        4032, 4033, 4034, 4035, 4036, 4037, 4038, 4039, 4040,\n",
        "        4041, 4042, 4043, 4044, 4045, 4046, 4047, 13420])\n",
        "```"
      ]
    },
    {
      "cell_type": "markdown",
      "metadata": {
        "id": "sQ7U_Et3b_8S"
      },
      "source": [
        "Vous pouvez remplacer les valeurs *TAVG*, *TMAX* et *TMIN* manquantes par la valeur moyenne d'une gare ou d'un aéroport particulier. Étant donné que des lignes consécutives de *TAVG_idx* manquent, il ne serait pas possible de les remplacer par une valeur précédente. Remplacez-les plutôt par la moyenne. Utilisez la fonction `groupby` pour agréger les variables avec une valeur moyenne.\n",
        "\n",
        "**Astuce :** regroupez par `MONTH` et `STATION`."
      ]
    },
    {
      "cell_type": "code",
      "execution_count": null,
      "metadata": {
        "id": "fB5nvQTLb_8S"
      },
      "outputs": [],
      "source": [
        "weather_impute = weather.groupby([<CODE>]).agg({'TAVG':'mean','TMAX':'mean', 'TMIN':'mean' }).reset_index()# Enter your code here\n",
        "weather_impute.head(2)"
      ]
    },
    {
      "cell_type": "markdown",
      "metadata": {
        "id": "S1DEik8kb_8S"
      },
      "source": [
        "Fusionner les données moyennes avec les données météorologiques."
      ]
    },
    {
      "cell_type": "code",
      "execution_count": null,
      "metadata": {
        "id": "nYntHtB7b_8S"
      },
      "outputs": [],
      "source": [
        "\n",
        "weather = pd.merge(weather, weather_impute,  how='left', left_on=['MONTH','STATION'], right_on = ['MONTH','STATION'])\\\n",
        ".rename(columns = {'TAVG_y':'TAVG_AVG',\n",
        "                   'TMAX_y':'TMAX_AVG',\n",
        "                   'TMIN_y':'TMIN_AVG',\n",
        "                   'TAVG_x':'TAVG',\n",
        "                   'TMAX_x':'TMAX',\n",
        "                   'TMIN_x':'TMIN'})"
      ]
    },
    {
      "cell_type": "markdown",
      "metadata": {
        "id": "NdObSTtSb_8S"
      },
      "source": [
        "Vérifiez à nouveau les valeurs manquantes."
      ]
    },
    {
      "cell_type": "code",
      "execution_count": null,
      "metadata": {
        "id": "_YEZ57yIb_8S"
      },
      "outputs": [],
      "source": [
        "weather.TAVG[TAVG_idx] = weather.TAVG_AVG[TAVG_idx]\n",
        "weather.TMAX[TMAX_idx] = weather.TMAX_AVG[TMAX_idx]\n",
        "weather.TMIN[TMIN_idx] = weather.TMIN_AVG[TMIN_idx]\n",
        "weather.isna().sum()"
      ]
    },
    {
      "cell_type": "markdown",
      "metadata": {
        "id": "scppOmf9b_8S"
      },
      "source": [
        "Supprimez `STATION,MONTH,TAVG_AVG,TMAX_AVG,TMIN_AVG,TMAX,TMIN,SNWD` de l'ensemble de données."
      ]
    },
    {
      "cell_type": "code",
      "execution_count": null,
      "metadata": {
        "id": "j-09tvx2b_8S"
      },
      "outputs": [],
      "source": [
        "weather.drop(columns=['STATION','MONTH','TAVG_AVG', 'TMAX_AVG', 'TMIN_AVG', 'TMAX' ,'TMIN', 'SNWD'],inplace=True)"
      ]
    },
    {
      "cell_type": "markdown",
      "metadata": {
        "id": "BjFlcDeKb_8S"
      },
      "source": [
        "Ajoutez les conditions météorologiques d’origine et de destination à l’ensemble de données."
      ]
    },
    {
      "cell_type": "code",
      "execution_count": null,
      "metadata": {
        "id": "5Ht2qvT6b_8S"
      },
      "outputs": [],
      "source": [
        "# ## Ajouter les conditions météorologiques d'origine\n",
        "data_orig = pd.merge(data_orig, weather,  how='left', left_on=['FlightDate','Origin'], right_on = ['DATE','airport'])\\\n",
        ".rename(columns = {'AWND':'AWND_O','PRCP':'PRCP_O', 'TAVG':'TAVG_O', 'SNOW': 'SNOW_O'})\\\n",
        ".drop(columns=['DATE','airport'])\n",
        "\n",
        "# ## Ajouter les conditions météorologiques de destination\n",
        "data_orig = pd.merge(data_orig, weather,  how='left', left_on=['FlightDate','Dest'], right_on = ['DATE','airport'])\\\n",
        ".rename(columns = {'AWND':'AWND_D','PRCP':'PRCP_D', 'TAVG':'TAVG_D', 'SNOW': 'SNOW_D'})\\\n",
        ".drop(columns=['DATE','airport'])"
      ]
    },
    {
      "cell_type": "markdown",
      "metadata": {
        "id": "-dLGwTHIb_8S"
      },
      "source": [
        "**Remarque ** : il est toujours recommandé de vérifier les valeurs nulles ou les valeurs NA après les jointures."
      ]
    },
    {
      "cell_type": "code",
      "execution_count": null,
      "metadata": {
        "id": "R3R_OPg-b_8S"
      },
      "outputs": [],
      "source": [
        "sum(data.isna().any())"
      ]
    },
    {
      "cell_type": "code",
      "execution_count": null,
      "metadata": {
        "id": "EwxfqRuWb_8S"
      },
      "outputs": [],
      "source": [
        "data_orig.columns"
      ]
    },
    {
      "cell_type": "markdown",
      "metadata": {
        "id": "30VEVvBhb_8S"
      },
      "source": [
        "Convertissez les données catégorielles en données numériques en utilisant le codage one-hot."
      ]
    },
    {
      "cell_type": "code",
      "execution_count": null,
      "metadata": {
        "id": "8GhXGgq2b_8T"
      },
      "outputs": [],
      "source": [
        "data = data_orig.copy()\n",
        "data = data[['is_delay', 'Year', 'Quarter', 'Month', 'DayofMonth', 'DayOfWeek',\n",
        "       'Reporting_Airline', 'Origin', 'Dest','Distance','DepHourofDay','is_holiday', 'AWND_O', 'PRCP_O',\n",
        "       'TAVG_O', 'AWND_D', 'PRCP_D', 'TAVG_D', 'SNOW_O', 'SNOW_D']]\n",
        "\n",
        "\n",
        "categorical_columns  = ['Year', 'Quarter', 'Month', 'DayofMonth', 'DayOfWeek',\n",
        "       'Reporting_Airline', 'Origin', 'Dest', 'is_holiday']\n",
        "for c in categorical_columns:\n",
        "    data[c] = data[c].astype('category')"
      ]
    },
    {
      "cell_type": "code",
      "execution_count": null,
      "metadata": {
        "id": "4NSM_JGAb_8T"
      },
      "outputs": [],
      "source": [
        "data_dummies = pd.get_dummies(data[['Year', 'Quarter', 'Month', 'DayofMonth', 'DayOfWeek', 'Reporting_Airline', 'Origin', 'Dest', 'is_holiday']], drop_first=True)\n",
        "data_dummies = data_dummies.replace({True: 1, False: 0})\n",
        "data = pd.concat([data, data_dummies], axis = 1)\n",
        "data.drop(categorical_columns,axis=1, inplace=True)"
      ]
    },
    {
      "cell_type": "markdown",
      "metadata": {
        "id": "pohJX7jeb_8T"
      },
      "source": [
        "Vérifiez les nouvelles colonnes."
      ]
    },
    {
      "cell_type": "code",
      "execution_count": null,
      "metadata": {
        "id": "19M-vwxBb_8T"
      },
      "outputs": [],
      "source": [
        "data.shape"
      ]
    },
    {
      "cell_type": "code",
      "execution_count": null,
      "metadata": {
        "id": "L5tIbn4Ab_8T"
      },
      "outputs": [],
      "source": [
        "data.columns"
      ]
    },
    {
      "cell_type": "markdown",
      "metadata": {
        "id": "CX0d18eLb_8T"
      },
      "source": [
        "### Exemple de sortie\n",
        "\n",
        "```\n",
        "Index(['Distance', 'DepHourofDay', 'is_delay', 'AWND_O', 'PRCP_O', 'TAVG_O',\n",
        "'AWND_D', 'PRCP_D', 'TAVG_D', 'SNOW_O', 'SNOW_D', 'Year_2015',\n",
        "'Year_2016', 'Year_2017', 'Year_2018', 'Quarter_2', 'Quarter_3',\n",
        "'Quarter_4', 'Month_2', 'Month_3', 'Month_4', 'Month_5', 'Month_6',\n",
        "'Month_7', 'Month_8', 'Month_9', 'Mois_10', 'Mois_11', 'Mois_12',\n",
        "'JourduMois_2', 'JourduMois_3', 'JourduMois_4', 'JourduMois_5',\n",
        "'JourduMois_6', 'JourduMois_7', 'JourduMois_8', 'JourduMois_9',\n",
        "'JourduMois_10', 'JourduMois_11', 'JourduMois_12', 'JourduMois_13',\n",
        "'JourduMois_14', 'JourduMois_15', 'JourduMois_16', 'JourduMois_17',\n",
        "'JourduMois_18', 'JourduMois_19', 'JourduMois_20', 'JourduMois_21',\n",
        "       'JourduMois_22', 'JourduMois_23', 'JourduMois_24', 'JourduMois_25',\n",
        "       'JourduMois_26', 'JourduMois_27', 'JourduMois_28', 'JourduMois_29',\n",
        "       'JourduMois_30', 'JourduMois_31', 'Jour de la Semaine_2', 'Jour de la Semaine_3',\n",
        "       « Jour de la semaine_4 », « Jour de la semaine_5 », « Jour de la semaine_6 », « Jour de la semaine_7 »,\n",
        "       'Reporting_Airline_DL', 'Reporting_Airline_OO', 'Reporting_Airline_UA',\n",
        "       'Reporting_Airline_WN', 'Origin_CLT', 'Origin_DEN', 'Origine_DFW',\n",
        "'Origine_IAH', 'Origine_LAX', 'Origine_ORD', 'Origine_PHX', 'Origine_SFO',\n",
        "'Dest_CLT', 'Dest_DEN', 'Dest_DFW', 'Dest_IAH', 'Dest_LAX', 'Dest_ORD',\n",
        "'Dest_PHX', 'Dest_SFO', 'is_holiday_1'],\n",
        "dtype='object')\n",
        "```"
      ]
    },
    {
      "cell_type": "markdown",
      "metadata": {
        "id": "lczmwnnwb_8T"
      },
      "source": [
        "Renommez à nouveau la colonne **is_delay** en *target*. Utilisez le même code que celui que vous avez utilisé précédemment."
      ]
    },
    {
      "cell_type": "code",
      "execution_count": null,
      "metadata": {
        "id": "0zGUTMHEb_8T"
      },
      "outputs": [],
      "source": [
        "data.rename(columns = {<CODE>:<CODE>}, inplace=True )# Enter your code here"
      ]
    },
    {
      "cell_type": "markdown",
      "metadata": {
        "id": "GssIiMM3b_8T"
      },
      "source": [
        "Créez à nouveau les ensembles d'entraînement.\n",
        "\n",
        "**Astuce :** utilisez la fonction `split_data` que vous avez définie (et utilisée) précédemment."
      ]
    },
    {
      "cell_type": "code",
      "execution_count": null,
      "metadata": {
        "id": "Wo51CBK1b_8T"
      },
      "outputs": [],
      "source": [
        "# Entrez votre code ici"
      ]
    },
    {
      "cell_type": "markdown",
      "metadata": {
        "id": "KH0102_ob_8T"
      },
      "source": [
        "### Nouveau classificateur de base\n",
        "\n",
        "Voyons maintenant si ces nouvelles fonctionnalités ajoutent un pouvoir prédictif au modèle."
      ]
    },
    {
      "cell_type": "code",
      "execution_count": null,
      "metadata": {
        "id": "ZUxsce86b_8T"
      },
      "outputs": [],
      "source": [
        "# Instancier l'objet estimateur LinearLearner\n",
        "classifier_estimator2 = # Enter your code here"
      ]
    },
    {
      "cell_type": "markdown",
      "metadata": {
        "id": "MDKQM3uyb_8T"
      },
      "source": [
        "### Exemple de code\n",
        "\n",
        "```\n",
        "num_classes = len(pd.unique(train_labels))\n",
        "classifier_estimator2 = sagemaker.LinearLearner(role=sagemaker.get_execution_role(),\n",
        "instance_count=1,\n",
        "instance_type='ml.m4.xlarge',\n",
        "predictor_type='binary_classifier',\n",
        "binary_classifier_model_selection_criteria = 'cross_entropy_loss')\n",
        "```"
      ]
    },
    {
      "cell_type": "code",
      "execution_count": null,
      "metadata": {
        "id": "7GCjetG7b_8T"
      },
      "outputs": [],
      "source": [
        "train_records = classifier_estimator2.record_set(train.values[:, 1:].astype(np.float32), train.values[:, 0].astype(np.float32), channel='train')\n",
        "val_records = classifier_estimator2.record_set(validate.values[:, 1:].astype(np.float32), validate.values[:, 0].astype(np.float32), channel='validation')\n",
        "test_records = classifier_estimator2.record_set(test.values[:, 1:].astype(np.float32), test.values[:, 0].astype(np.float32), channel='test')"
      ]
    },
    {
      "cell_type": "markdown",
      "metadata": {
        "id": "AZFqLJZsb_8T"
      },
      "source": [
        "Entraînez votre modèle en utilisant les trois ensembles de données que vous venez de créer."
      ]
    },
    {
      "cell_type": "code",
      "execution_count": null,
      "metadata": {
        "id": "0n_kLD9Sb_8T"
      },
      "outputs": [],
      "source": [
        "# Entrez votre code ici"
      ]
    },
    {
      "cell_type": "markdown",
      "metadata": {
        "id": "uJmSTveXb_8T"
      },
      "source": [
        "Effectuez une prédiction par lots en utilisant le modèle nouvellement formé."
      ]
    },
    {
      "cell_type": "code",
      "execution_count": null,
      "metadata": {
        "id": "zhinRzaMb_8T"
      },
      "outputs": [],
      "source": [
        "# Entrez votre code ici"
      ]
    },
    {
      "cell_type": "markdown",
      "metadata": {
        "id": "stVUdf6mb_8T"
      },
      "source": [
        "Tracer une matrice de confusion."
      ]
    },
    {
      "cell_type": "code",
      "execution_count": null,
      "metadata": {
        "id": "fpzuC7Nxb_8T"
      },
      "outputs": [],
      "source": [
        "# Entrez votre code ici"
      ]
    },
    {
      "cell_type": "markdown",
      "metadata": {
        "id": "et5rwa-Ab_8T"
      },
      "source": [
        "Le modèle linéaire ne présente qu'une légère amélioration des performances. Essayez un modèle d'ensemble basé sur un arbre, appelé *XGBoost*, avec Amazon SageMaker."
      ]
    },
    {
      "cell_type": "markdown",
      "metadata": {
        "id": "ZCcVtQNkb_8T"
      },
      "source": [
        "### Essayez le modèle XGBoost"
      ]
    },
    {
      "cell_type": "markdown",
      "metadata": {
        "id": "_qq0oZpOb_8T"
      },
      "source": [
        "Procédez comme suit :\n",
        "\n",
        "1. Utilisez les variables de l'ensemble d'entraînement et enregistrez-les sous forme de fichiers CSV : train.csv, validation.csv et test.csv.\n",
        "2. Stockez le nom du compartiment dans la variable. Le nom du compartiment Amazon S3 est fourni à gauche des instructions du laboratoire.\n",
        "a. `bucket = <LabBucketName>`\n",
        "b. `prefix = 'flight-xgb'`\n",
        "3. Utilisez le kit AWS SDK pour Python (Boto3) pour charger le modèle dans le compartiment."
      ]
    },
    {
      "cell_type": "code",
      "execution_count": null,
      "metadata": {
        "id": "9e-xOEWvb_8T"
      },
      "outputs": [],
      "source": [
        "bucket='c124417a3052650l8410971t1w16638019766-flightbucket-vr3vropvznlv'\n",
        "prefix='flight-xgb'\n",
        "train_file='flight_train.csv'\n",
        "test_file='flight_test.csv'\n",
        "validate_file='flight_validate.csv'\n",
        "whole_file='flight.csv'\n",
        "s3_resource = boto3.Session().resource('s3')\n",
        "\n",
        "def upload_s3_csv(filename, folder, dataframe):\n",
        "    csv_buffer = io.StringIO()\n",
        "    dataframe.to_csv(csv_buffer, header=False, index=False )\n",
        "    s3_resource.Bucket(bucket).Object(os.path.join(prefix, folder, filename)).put(Body=csv_buffer.getvalue())\n",
        "\n",
        "upload_s3_csv(train_file, 'train', train)\n",
        "upload_s3_csv(test_file, 'test', test)\n",
        "upload_s3_csv(validate_file, 'validate', validate)"
      ]
    },
    {
      "cell_type": "markdown",
      "metadata": {
        "id": "zAJjIb5mb_8T"
      },
      "source": [
        "Utilisez la fonction `sagemaker.inputs.TrainingInput` pour créer un `record_set` pour les ensembles de données de formation et de validation."
      ]
    },
    {
      "cell_type": "code",
      "execution_count": null,
      "metadata": {
        "id": "z8OC8Q5vb_8T"
      },
      "outputs": [],
      "source": [
        "train_channel = sagemaker.inputs.TrainingInput(\n",
        "    \"s3://{}/{}/train/\".format(bucket,prefix,train_file),\n",
        "    content_type='text/csv')\n",
        "\n",
        "validate_channel = sagemaker.inputs.TrainingInput(\n",
        "    \"s3://{}/{}/validate/\".format(bucket,prefix,validate_file),\n",
        "    content_type='text/csv')\n",
        "\n",
        "data_channels = {'train': train_channel, 'validation': validate_channel}"
      ]
    },
    {
      "cell_type": "code",
      "execution_count": null,
      "metadata": {
        "id": "GJb6PMUTb_8T"
      },
      "outputs": [],
      "source": [
        "from sagemaker.image_uris import retrieve\n",
        "container = retrieve('xgboost',boto3.Session().region_name,'1.0-1')"
      ]
    },
    {
      "cell_type": "code",
      "execution_count": null,
      "metadata": {
        "id": "1A7IHxCGb_8T"
      },
      "outputs": [],
      "source": [
        "sess = sagemaker.Session()\n",
        "s3_output_location=\"s3://{}/{}/output/\".format(bucket,prefix)\n",
        "\n",
        "xgb = sagemaker.estimator.Estimator(container,\n",
        "                                    role = sagemaker.get_execution_role(),\n",
        "                                    instance_count=1,\n",
        "                                    instance_type=instance_type,\n",
        "                                    output_path=s3_output_location,\n",
        "                                    sagemaker_session=sess)\n",
        "xgb.set_hyperparameters(max_depth=5,\n",
        "                        eta=0.2,\n",
        "                        gamma=4,\n",
        "                        min_child_weight=6,\n",
        "                        subsample=0.8,\n",
        "                        silent=0,\n",
        "                        objective='binary:logistic',\n",
        "                        eval_metric = \"auc\",\n",
        "                        num_round=100)\n",
        "\n",
        "xgb.fit(inputs=data_channels)"
      ]
    },
    {
      "cell_type": "markdown",
      "metadata": {
        "id": "4VhLYmWvb_8T"
      },
      "source": [
        "Utilisez le transformateur par lots pour votre nouveau modèle et évaluez le modèle sur l’ensemble de données de test."
      ]
    },
    {
      "cell_type": "code",
      "execution_count": null,
      "metadata": {
        "id": "wWfJv1Htb_8U"
      },
      "outputs": [],
      "source": [
        "batch_X = test.iloc[:,1:];\n",
        "batch_X_file='batch-in.csv'\n",
        "upload_s3_csv(batch_X_file, 'batch-in', batch_X)"
      ]
    },
    {
      "cell_type": "code",
      "execution_count": null,
      "metadata": {
        "id": "9dfm3KEJb_8U"
      },
      "outputs": [],
      "source": [
        "batch_output = \"s3://{}/{}/batch-out/\".format(bucket,prefix)\n",
        "batch_input = \"s3://{}/{}/batch-in/{}\".format(bucket,prefix,batch_X_file)\n",
        "\n",
        "xgb_transformer = xgb.transformer(instance_count=1,\n",
        "                                       instance_type=instance_type,\n",
        "                                       strategy='MultiRecord',\n",
        "                                       assemble_with='Line',\n",
        "                                       output_path=batch_output)\n",
        "\n",
        "xgb_transformer.transform(data=batch_input,\n",
        "                         data_type='S3Prefix',\n",
        "                         content_type='text/csv',\n",
        "                         split_type='Line')\n",
        "xgb_transformer.wait()"
      ]
    },
    {
      "cell_type": "markdown",
      "metadata": {
        "id": "6X8oMNlsb_8U"
      },
      "source": [
        "Obtenez la cible prévue et les étiquettes de test."
      ]
    },
    {
      "cell_type": "code",
      "execution_count": null,
      "metadata": {
        "id": "yz8X3X-gb_8U"
      },
      "outputs": [],
      "source": [
        "s3 = boto3.client('s3')\n",
        "obj = s3.get_object(Bucket=bucket, Key=\"{}/batch-out/{}\".format(prefix,'batch-in.csv.out'))\n",
        "target_predicted = pd.read_csv(io.BytesIO(obj['Body'].read()),sep=',',names=['target'])\n",
        "test_labels = test.iloc[:,0]"
      ]
    },
    {
      "cell_type": "markdown",
      "metadata": {
        "id": "L8LyyS4bb_8U"
      },
      "source": [
        "Calculez les valeurs prédites en fonction du seuil défini.\n",
        "\n",
        "**Remarque :** la cible prédite sera un score, qui doit être converti en classe binaire."
      ]
    },
    {
      "cell_type": "code",
      "execution_count": null,
      "metadata": {
        "id": "hj7NCd_Eb_8U"
      },
      "outputs": [],
      "source": [
        "print(target_predicted.head())\n",
        "\n",
        "def binary_convert(x):\n",
        "    threshold = 0.55\n",
        "    if x > threshold:\n",
        "        return 1\n",
        "    else:\n",
        "        return 0\n",
        "\n",
        "target_predicted['target'] = target_predicted['target'].apply(binary_convert)\n",
        "\n",
        "test_labels = test.iloc[:,0]\n",
        "\n",
        "print(target_predicted.head())"
      ]
    },
    {
      "cell_type": "markdown",
      "metadata": {
        "id": "z0BL7TrAb_8U"
      },
      "source": [
        "Tracez une matrice de confusion pour vos « target_predicted » et « test_labels »."
      ]
    },
    {
      "cell_type": "code",
      "execution_count": null,
      "metadata": {
        "id": "kENzt201b_8U"
      },
      "outputs": [],
      "source": [
        "# Entrez votre code ici"
      ]
    },
    {
      "cell_type": "markdown",
      "metadata": {
        "id": "bSTbb-HHb_8U"
      },
      "source": [
        "### Essayez différents seuils"
      ]
    },
    {
      "cell_type": "markdown",
      "metadata": {
        "id": "gRWSMgqZb_8U"
      },
      "source": [
        "**Question** : En fonction de la façon dont le modèle a géré l’ensemble de tests, que pouvez-vous conclure ?"
      ]
    },
    {
      "cell_type": "code",
      "execution_count": null,
      "metadata": {
        "id": "hhkgz4dCb_8U"
      },
      "outputs": [],
      "source": [
        "# Entrez votre réponse ici"
      ]
    },
    {
      "cell_type": "markdown",
      "metadata": {
        "id": "LmIRr-N9b_8U"
      },
      "source": [
        "### Optimisation des hyperparamètres (HPO)"
      ]
    },
    {
      "cell_type": "code",
      "execution_count": null,
      "metadata": {
        "id": "G5VKr0xwb_8U"
      },
      "outputs": [],
      "source": [
        "from sagemaker.tuner import IntegerParameter, CategoricalParameter, ContinuousParameter, HyperparameterTuner\n",
        "\n",
        "# ## Vous pouvez lancer plusieurs instances pour effectuer une optimisation des hyperparamètres en parallèle\n",
        "\n",
        "xgb = sagemaker.estimator.Estimator(container,\n",
        "                                    role=sagemaker.get_execution_role(),\n",
        "                                    instance_count= 1, # make sure you have a limit set for these instances\n",
        "                                    instance_type=instance_type,\n",
        "                                    output_path='s3://{}/{}/output'.format(bucket, prefix),\n",
        "                                    sagemaker_session=sess)\n",
        "\n",
        "xgb.set_hyperparameters(eval_metric='auc',\n",
        "                        objective='binary:logistic',\n",
        "                        num_round=100,\n",
        "                        rate_drop=0.3,\n",
        "                        tweedie_variance_power=1.4)\n",
        "\n",
        "hyperparameter_ranges = {'alpha': ContinuousParameter(0, 1000, scaling_type='Linear'),\n",
        "                         'eta': ContinuousParameter(0.1, 0.5, scaling_type='Linear'),\n",
        "                         'min_child_weight': ContinuousParameter(3, 10, scaling_type='Linear'),\n",
        "                         'subsample': ContinuousParameter(0.5, 1),\n",
        "                         'num_round': IntegerParameter(10,150)}\n",
        "\n",
        "objective_metric_name = 'validation:auc'\n",
        "\n",
        "tuner = HyperparameterTuner(xgb,\n",
        "                            objective_metric_name,\n",
        "                            hyperparameter_ranges,\n",
        "                            max_jobs=10, # Set this to 10 or above depending upon budget and available time.\n",
        "                            max_parallel_jobs=1)"
      ]
    },
    {
      "cell_type": "code",
      "execution_count": null,
      "metadata": {
        "id": "mdsYQ6XJb_8U"
      },
      "outputs": [],
      "source": [
        "tuner.fit(inputs=data_channels)\n",
        "tuner.wait()"
      ]
    },
    {
      "cell_type": "markdown",
      "metadata": {
        "id": "vj7RChaDb_8U"
      },
      "source": [
        "<i class=\"fas fa-exclamation-triangle\" style=\"color:red\"></i> Attendez que la tâche de formation soit terminée. Cela peut prendre 25 à 30 minutes.\n",
        "\n",
        "**Pour surveiller les tâches d'optimisation des hyperparamètres :**\n",
        "\n",
        "1. Dans la console de gestion AWS, dans le menu **Services**, choisissez **Amazon SageMaker**.\n",
        "2. Choisissez **Formation > Tâches de réglage des hyperparamètres**.\n",
        "3. Vous pouvez vérifier l'état de chaque tâche de réglage des hyperparamètres, sa valeur de métrique objective et ses journaux."
      ]
    },
    {
      "cell_type": "markdown",
      "metadata": {
        "id": "KqqvUJNqb_8U"
      },
      "source": [
        "Vérifiez que le travail a été effectué avec succès."
      ]
    },
    {
      "cell_type": "code",
      "execution_count": null,
      "metadata": {
        "id": "GKH5uJe2b_8U"
      },
      "outputs": [],
      "source": [
        "boto3.client('sagemaker').describe_hyper_parameter_tuning_job(\n",
        "    HyperParameterTuningJobName=tuner.latest_tuning_job.job_name)['HyperParameterTuningJobStatus']"
      ]
    },
    {
      "cell_type": "markdown",
      "metadata": {
        "id": "AKyJf2ygb_8U"
      },
      "source": [
        "La tâche de réglage des hyperparamètres disposera d'un modèle qui a fonctionné le mieux. Vous pouvez obtenir les informations sur ce modèle à partir de la tâche de réglage."
      ]
    },
    {
      "cell_type": "code",
      "execution_count": null,
      "metadata": {
        "id": "qTH8SPJib_8U"
      },
      "outputs": [],
      "source": [
        "sage_client = boto3.Session().client('sagemaker')\n",
        "tuning_job_name = tuner.latest_tuning_job.job_name\n",
        "print(f'tuning job name:{tuning_job_name}')\n",
        "tuning_job_result = sage_client.describe_hyper_parameter_tuning_job(HyperParameterTuningJobName=tuning_job_name)\n",
        "best_training_job = tuning_job_result['BestTrainingJob']\n",
        "best_training_job_name = best_training_job['TrainingJobName']\n",
        "print(f\"best training job: {best_training_job_name}\")\n",
        "\n",
        "best_estimator = tuner.best_estimator()\n",
        "\n",
        "tuner_df = sagemaker.HyperparameterTuningJobAnalytics(tuning_job_name).dataframe()\n",
        "tuner_df.head()"
      ]
    },
    {
      "cell_type": "markdown",
      "metadata": {
        "id": "aJzIGGKKb_8U"
      },
      "source": [
        "Utilisez l'estimateur « best_estimator » et entraînez-le en utilisant les données.\n",
        "\n",
        "**Astuce :** Consultez la fonction d'ajustement de l'estimateur XGBoost précédente."
      ]
    },
    {
      "cell_type": "code",
      "execution_count": null,
      "metadata": {
        "id": "diZ_YYUDb_8U"
      },
      "outputs": [],
      "source": [
        "# Entrez votre code ici'"
      ]
    },
    {
      "cell_type": "markdown",
      "metadata": {
        "id": "UNHPO3bgb_8U"
      },
      "source": [
        "Utilisez le transformateur par lots pour votre nouveau modèle et évaluez le modèle sur l’ensemble de données de test."
      ]
    },
    {
      "cell_type": "code",
      "execution_count": null,
      "metadata": {
        "id": "xa3jQld7b_8U"
      },
      "outputs": [],
      "source": [
        "batch_output = \"s3://{}/{}/batch-out/\".format(bucket,prefix)\n",
        "batch_input = \"s3://{}/{}/batch-in/{}\".format(bucket,prefix,batch_X_file)\n",
        "\n",
        "xgb_transformer = best_estimator.transformer(instance_count=1,\n",
        "                                       instance_type=instance_type,\n",
        "                                       strategy='MultiRecord',\n",
        "                                       assemble_with='Line',\n",
        "                                       output_path=batch_output)\n",
        "\n",
        "xgb_transformer.transform(data=batch_input,\n",
        "                         data_type='S3Prefix',\n",
        "                         content_type='text/csv',\n",
        "                         split_type='Line')\n",
        "xgb_transformer.wait()"
      ]
    },
    {
      "cell_type": "code",
      "execution_count": null,
      "metadata": {
        "id": "ZMxkf5lsb_8U"
      },
      "outputs": [],
      "source": [
        "s3 = boto3.client('s3')\n",
        "obj = s3.get_object(Bucket=bucket, Key=\"{}/batch-out/{}\".format(prefix,'batch-in.csv.out'))\n",
        "target_predicted = pd.read_csv(io.BytesIO(obj['Body'].read()),sep=',',names=['target'])\n",
        "test_labels = test.iloc[:,0]"
      ]
    },
    {
      "cell_type": "markdown",
      "metadata": {
        "id": "1bpe1JHvb_8U"
      },
      "source": [
        "Obtenez la cible prévue et les étiquettes de test."
      ]
    },
    {
      "cell_type": "code",
      "execution_count": null,
      "metadata": {
        "id": "EjfUeaWJb_8U"
      },
      "outputs": [],
      "source": [
        "print(target_predicted.head())\n",
        "\n",
        "def binary_convert(x):\n",
        "    threshold = 0.55\n",
        "    if x > threshold:\n",
        "        return 1\n",
        "    else:\n",
        "        return 0\n",
        "\n",
        "target_predicted['target'] = target_predicted['target'].apply(binary_convert)\n",
        "\n",
        "test_labels = test.iloc[:,0]\n",
        "\n",
        "print(target_predicted.head())"
      ]
    },
    {
      "cell_type": "markdown",
      "metadata": {
        "id": "BXesLyJyb_8U"
      },
      "source": [
        "Tracez une matrice de confusion pour vos « target_predicted » et « test_labels »."
      ]
    },
    {
      "cell_type": "code",
      "execution_count": null,
      "metadata": {
        "id": "tThfGWCDb_8U"
      },
      "outputs": [],
      "source": [
        "# Entrez votre code ici"
      ]
    },
    {
      "cell_type": "markdown",
      "metadata": {
        "id": "935W-UWVb_8V"
      },
      "source": [
        "**Question** : Essayez différents hyperparamètres et plages d'hyperparamètres. Ces modifications améliorent-elles le modèle ?"
      ]
    },
    {
      "cell_type": "markdown",
      "metadata": {
        "id": "jYJ8NrRzb_8V"
      },
      "source": [
        "## Conclusion\n",
        "\n",
        "Vous avez maintenant effectué au moins deux itérations dans la formation et l'évaluation de votre modèle. Il est temps de conclure ce projet et de réfléchir à :\n",
        "\n",
        "- Ce que vous avez appris\n",
        "- Quels types d'étapes vous pourriez suivre à l'avenir (en supposant que vous ayez plus de temps)\n",
        "\n",
        "Utilisez la cellule suivante pour répondre à certaines de ces questions et à d'autres questions pertinentes :\n",
        "\n",
        "1. Les performances de votre modèle répondent-elles à votre objectif commercial ? Si ce n'est pas le cas, quelles sont les choses que vous aimeriez faire différemment si vous aviez plus de temps pour les ajuster ?\n",
        "\n",
        "2. Dans quelle mesure votre modèle s'est-il amélioré à mesure que vous apportiez des modifications à votre ensemble de données, à vos fonctionnalités et à vos hyperparamètres ? Quels types de techniques avez-vous utilisées tout au long de ce projet et lesquelles ont apporté les plus grandes améliorations à votre modèle ?\n",
        "\n",
        "3. Quels ont été les plus grands défis que vous avez rencontrés tout au long de ce projet ?\n",
        "\n",
        "4. Avez-vous des questions sans réponse sur des aspects du pipeline qui n'avaient pas de sens pour vous ?\n",
        "\n",
        "5. Quelles ont été les trois choses les plus importantes que vous avez apprises sur l'apprentissage automatique en travaillant sur ce projet ?\n",
        "\n",
        "#### <span style=\"color: blue;\">Présentation du projet : veillez à résumer également vos réponses à ces questions dans votre présentation du projet. Rassemblez toutes vos notes pour votre présentation du projet et préparez-vous à présenter vos conclusions à la classe.</span>"
      ]
    },
    {
      "cell_type": "code",
      "execution_count": null,
      "metadata": {
        "id": "ByOgYgoRb_8V"
      },
      "outputs": [],
      "source": [
        "# Écrivez vos réponses ici"
      ]
    }
  ],
  "metadata": {
    "kernelspec": {
      "display_name": "conda_python3",
      "language": "python",
      "name": "conda_python3"
    },
    "language_info": {
      "codemirror_mode": {
        "name": "ipython",
        "version": 3
      },
      "file_extension": ".py",
      "mimetype": "text/x-python",
      "name": "python",
      "nbconvert_exporter": "python",
      "pygments_lexer": "ipython3",
      "version": "3.6.5"
    },
    "colab": {
      "provenance": [],
      "include_colab_link": true
    }
  },
  "nbformat": 4,
  "nbformat_minor": 0
}