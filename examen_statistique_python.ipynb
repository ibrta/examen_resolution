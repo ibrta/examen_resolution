{
  "nbformat": 4,
  "nbformat_minor": 0,
  "metadata": {
    "colab": {
      "provenance": [],
      "authorship_tag": "ABX9TyNwY8LLtIs9jeTjkURe7wSo",
      "include_colab_link": true
    },
    "kernelspec": {
      "name": "python3",
      "display_name": "Python 3"
    },
    "language_info": {
      "name": "python"
    }
  },
  "cells": [
    {
      "cell_type": "markdown",
      "metadata": {
        "id": "view-in-github",
        "colab_type": "text"
      },
      "source": [
        "<a href=\"https://colab.research.google.com/github/ibrta/examen_resolution/blob/main/examen_statistique_python.ipynb\" target=\"_parent\"><img src=\"https://colab.research.google.com/assets/colab-badge.svg\" alt=\"Open In Colab\"/></a>"
      ]
    },
    {
      "cell_type": "code",
      "execution_count": null,
      "metadata": {
        "colab": {
          "base_uri": "https://localhost:8080/"
        },
        "id": "E3ZsUFDiR-EP",
        "outputId": "b4e16f37-3fc6-4650-d6ac-60445af3e42d"
      },
      "outputs": [
        {
          "output_type": "stream",
          "name": "stdout",
          "text": [
            "Requirement already satisfied: numpy in /usr/local/lib/python3.10/dist-packages (1.26.4)\n",
            "Requirement already satisfied: pandas in /usr/local/lib/python3.10/dist-packages (2.2.2)\n",
            "Requirement already satisfied: python-dateutil>=2.8.2 in /usr/local/lib/python3.10/dist-packages (from pandas) (2.8.2)\n",
            "Requirement already satisfied: pytz>=2020.1 in /usr/local/lib/python3.10/dist-packages (from pandas) (2024.2)\n",
            "Requirement already satisfied: tzdata>=2022.7 in /usr/local/lib/python3.10/dist-packages (from pandas) (2024.2)\n",
            "Requirement already satisfied: six>=1.5 in /usr/local/lib/python3.10/dist-packages (from python-dateutil>=2.8.2->pandas) (1.16.0)\n"
          ]
        }
      ],
      "source": [
        "# Installation des bibliothèques\n",
        "!pip install numpy pandas\n"
      ]
    },
    {
      "cell_type": "code",
      "source": [
        "import numpy as np\n",
        "import pandas as pd"
      ],
      "metadata": {
        "id": "1V3xkInxSMOx"
      },
      "execution_count": null,
      "outputs": []
    },
    {
      "cell_type": "code",
      "source": [
        "# Création d'un DataFrame avec des âges d'élèves\n",
        "ages = pd.DataFrame({\"Age\": [8, 9, 10, 10, 11, 11, 12]})\n",
        "ages"
      ],
      "metadata": {
        "colab": {
          "base_uri": "https://localhost:8080/",
          "height": 269
        },
        "id": "rwXx3zdvSQms",
        "outputId": "bd601106-6bc8-4be1-e7c0-54a7a74016cc"
      },
      "execution_count": null,
      "outputs": [
        {
          "output_type": "execute_result",
          "data": {
            "text/plain": [
              "   Age\n",
              "0    8\n",
              "1    9\n",
              "2   10\n",
              "3   10\n",
              "4   11\n",
              "5   11\n",
              "6   12"
            ],
            "text/html": [
              "\n",
              "  <div id=\"df-e73f40e7-e1ea-43fb-893f-e1420d22f320\" class=\"colab-df-container\">\n",
              "    <div>\n",
              "<style scoped>\n",
              "    .dataframe tbody tr th:only-of-type {\n",
              "        vertical-align: middle;\n",
              "    }\n",
              "\n",
              "    .dataframe tbody tr th {\n",
              "        vertical-align: top;\n",
              "    }\n",
              "\n",
              "    .dataframe thead th {\n",
              "        text-align: right;\n",
              "    }\n",
              "</style>\n",
              "<table border=\"1\" class=\"dataframe\">\n",
              "  <thead>\n",
              "    <tr style=\"text-align: right;\">\n",
              "      <th></th>\n",
              "      <th>Age</th>\n",
              "    </tr>\n",
              "  </thead>\n",
              "  <tbody>\n",
              "    <tr>\n",
              "      <th>0</th>\n",
              "      <td>8</td>\n",
              "    </tr>\n",
              "    <tr>\n",
              "      <th>1</th>\n",
              "      <td>9</td>\n",
              "    </tr>\n",
              "    <tr>\n",
              "      <th>2</th>\n",
              "      <td>10</td>\n",
              "    </tr>\n",
              "    <tr>\n",
              "      <th>3</th>\n",
              "      <td>10</td>\n",
              "    </tr>\n",
              "    <tr>\n",
              "      <th>4</th>\n",
              "      <td>11</td>\n",
              "    </tr>\n",
              "    <tr>\n",
              "      <th>5</th>\n",
              "      <td>11</td>\n",
              "    </tr>\n",
              "    <tr>\n",
              "      <th>6</th>\n",
              "      <td>12</td>\n",
              "    </tr>\n",
              "  </tbody>\n",
              "</table>\n",
              "</div>\n",
              "    <div class=\"colab-df-buttons\">\n",
              "\n",
              "  <div class=\"colab-df-container\">\n",
              "    <button class=\"colab-df-convert\" onclick=\"convertToInteractive('df-e73f40e7-e1ea-43fb-893f-e1420d22f320')\"\n",
              "            title=\"Convert this dataframe to an interactive table.\"\n",
              "            style=\"display:none;\">\n",
              "\n",
              "  <svg xmlns=\"http://www.w3.org/2000/svg\" height=\"24px\" viewBox=\"0 -960 960 960\">\n",
              "    <path d=\"M120-120v-720h720v720H120Zm60-500h600v-160H180v160Zm220 220h160v-160H400v160Zm0 220h160v-160H400v160ZM180-400h160v-160H180v160Zm440 0h160v-160H620v160ZM180-180h160v-160H180v160Zm440 0h160v-160H620v160Z\"/>\n",
              "  </svg>\n",
              "    </button>\n",
              "\n",
              "  <style>\n",
              "    .colab-df-container {\n",
              "      display:flex;\n",
              "      gap: 12px;\n",
              "    }\n",
              "\n",
              "    .colab-df-convert {\n",
              "      background-color: #E8F0FE;\n",
              "      border: none;\n",
              "      border-radius: 50%;\n",
              "      cursor: pointer;\n",
              "      display: none;\n",
              "      fill: #1967D2;\n",
              "      height: 32px;\n",
              "      padding: 0 0 0 0;\n",
              "      width: 32px;\n",
              "    }\n",
              "\n",
              "    .colab-df-convert:hover {\n",
              "      background-color: #E2EBFA;\n",
              "      box-shadow: 0px 1px 2px rgba(60, 64, 67, 0.3), 0px 1px 3px 1px rgba(60, 64, 67, 0.15);\n",
              "      fill: #174EA6;\n",
              "    }\n",
              "\n",
              "    .colab-df-buttons div {\n",
              "      margin-bottom: 4px;\n",
              "    }\n",
              "\n",
              "    [theme=dark] .colab-df-convert {\n",
              "      background-color: #3B4455;\n",
              "      fill: #D2E3FC;\n",
              "    }\n",
              "\n",
              "    [theme=dark] .colab-df-convert:hover {\n",
              "      background-color: #434B5C;\n",
              "      box-shadow: 0px 1px 3px 1px rgba(0, 0, 0, 0.15);\n",
              "      filter: drop-shadow(0px 1px 2px rgba(0, 0, 0, 0.3));\n",
              "      fill: #FFFFFF;\n",
              "    }\n",
              "  </style>\n",
              "\n",
              "    <script>\n",
              "      const buttonEl =\n",
              "        document.querySelector('#df-e73f40e7-e1ea-43fb-893f-e1420d22f320 button.colab-df-convert');\n",
              "      buttonEl.style.display =\n",
              "        google.colab.kernel.accessAllowed ? 'block' : 'none';\n",
              "\n",
              "      async function convertToInteractive(key) {\n",
              "        const element = document.querySelector('#df-e73f40e7-e1ea-43fb-893f-e1420d22f320');\n",
              "        const dataTable =\n",
              "          await google.colab.kernel.invokeFunction('convertToInteractive',\n",
              "                                                    [key], {});\n",
              "        if (!dataTable) return;\n",
              "\n",
              "        const docLinkHtml = 'Like what you see? Visit the ' +\n",
              "          '<a target=\"_blank\" href=https://colab.research.google.com/notebooks/data_table.ipynb>data table notebook</a>'\n",
              "          + ' to learn more about interactive tables.';\n",
              "        element.innerHTML = '';\n",
              "        dataTable['output_type'] = 'display_data';\n",
              "        await google.colab.output.renderOutput(dataTable, element);\n",
              "        const docLink = document.createElement('div');\n",
              "        docLink.innerHTML = docLinkHtml;\n",
              "        element.appendChild(docLink);\n",
              "      }\n",
              "    </script>\n",
              "  </div>\n",
              "\n",
              "\n",
              "<div id=\"df-ea7fb026-8429-40ea-b318-84c29c11d48e\">\n",
              "  <button class=\"colab-df-quickchart\" onclick=\"quickchart('df-ea7fb026-8429-40ea-b318-84c29c11d48e')\"\n",
              "            title=\"Suggest charts\"\n",
              "            style=\"display:none;\">\n",
              "\n",
              "<svg xmlns=\"http://www.w3.org/2000/svg\" height=\"24px\"viewBox=\"0 0 24 24\"\n",
              "     width=\"24px\">\n",
              "    <g>\n",
              "        <path d=\"M19 3H5c-1.1 0-2 .9-2 2v14c0 1.1.9 2 2 2h14c1.1 0 2-.9 2-2V5c0-1.1-.9-2-2-2zM9 17H7v-7h2v7zm4 0h-2V7h2v10zm4 0h-2v-4h2v4z\"/>\n",
              "    </g>\n",
              "</svg>\n",
              "  </button>\n",
              "\n",
              "<style>\n",
              "  .colab-df-quickchart {\n",
              "      --bg-color: #E8F0FE;\n",
              "      --fill-color: #1967D2;\n",
              "      --hover-bg-color: #E2EBFA;\n",
              "      --hover-fill-color: #174EA6;\n",
              "      --disabled-fill-color: #AAA;\n",
              "      --disabled-bg-color: #DDD;\n",
              "  }\n",
              "\n",
              "  [theme=dark] .colab-df-quickchart {\n",
              "      --bg-color: #3B4455;\n",
              "      --fill-color: #D2E3FC;\n",
              "      --hover-bg-color: #434B5C;\n",
              "      --hover-fill-color: #FFFFFF;\n",
              "      --disabled-bg-color: #3B4455;\n",
              "      --disabled-fill-color: #666;\n",
              "  }\n",
              "\n",
              "  .colab-df-quickchart {\n",
              "    background-color: var(--bg-color);\n",
              "    border: none;\n",
              "    border-radius: 50%;\n",
              "    cursor: pointer;\n",
              "    display: none;\n",
              "    fill: var(--fill-color);\n",
              "    height: 32px;\n",
              "    padding: 0;\n",
              "    width: 32px;\n",
              "  }\n",
              "\n",
              "  .colab-df-quickchart:hover {\n",
              "    background-color: var(--hover-bg-color);\n",
              "    box-shadow: 0 1px 2px rgba(60, 64, 67, 0.3), 0 1px 3px 1px rgba(60, 64, 67, 0.15);\n",
              "    fill: var(--button-hover-fill-color);\n",
              "  }\n",
              "\n",
              "  .colab-df-quickchart-complete:disabled,\n",
              "  .colab-df-quickchart-complete:disabled:hover {\n",
              "    background-color: var(--disabled-bg-color);\n",
              "    fill: var(--disabled-fill-color);\n",
              "    box-shadow: none;\n",
              "  }\n",
              "\n",
              "  .colab-df-spinner {\n",
              "    border: 2px solid var(--fill-color);\n",
              "    border-color: transparent;\n",
              "    border-bottom-color: var(--fill-color);\n",
              "    animation:\n",
              "      spin 1s steps(1) infinite;\n",
              "  }\n",
              "\n",
              "  @keyframes spin {\n",
              "    0% {\n",
              "      border-color: transparent;\n",
              "      border-bottom-color: var(--fill-color);\n",
              "      border-left-color: var(--fill-color);\n",
              "    }\n",
              "    20% {\n",
              "      border-color: transparent;\n",
              "      border-left-color: var(--fill-color);\n",
              "      border-top-color: var(--fill-color);\n",
              "    }\n",
              "    30% {\n",
              "      border-color: transparent;\n",
              "      border-left-color: var(--fill-color);\n",
              "      border-top-color: var(--fill-color);\n",
              "      border-right-color: var(--fill-color);\n",
              "    }\n",
              "    40% {\n",
              "      border-color: transparent;\n",
              "      border-right-color: var(--fill-color);\n",
              "      border-top-color: var(--fill-color);\n",
              "    }\n",
              "    60% {\n",
              "      border-color: transparent;\n",
              "      border-right-color: var(--fill-color);\n",
              "    }\n",
              "    80% {\n",
              "      border-color: transparent;\n",
              "      border-right-color: var(--fill-color);\n",
              "      border-bottom-color: var(--fill-color);\n",
              "    }\n",
              "    90% {\n",
              "      border-color: transparent;\n",
              "      border-bottom-color: var(--fill-color);\n",
              "    }\n",
              "  }\n",
              "</style>\n",
              "\n",
              "  <script>\n",
              "    async function quickchart(key) {\n",
              "      const quickchartButtonEl =\n",
              "        document.querySelector('#' + key + ' button');\n",
              "      quickchartButtonEl.disabled = true;  // To prevent multiple clicks.\n",
              "      quickchartButtonEl.classList.add('colab-df-spinner');\n",
              "      try {\n",
              "        const charts = await google.colab.kernel.invokeFunction(\n",
              "            'suggestCharts', [key], {});\n",
              "      } catch (error) {\n",
              "        console.error('Error during call to suggestCharts:', error);\n",
              "      }\n",
              "      quickchartButtonEl.classList.remove('colab-df-spinner');\n",
              "      quickchartButtonEl.classList.add('colab-df-quickchart-complete');\n",
              "    }\n",
              "    (() => {\n",
              "      let quickchartButtonEl =\n",
              "        document.querySelector('#df-ea7fb026-8429-40ea-b318-84c29c11d48e button');\n",
              "      quickchartButtonEl.style.display =\n",
              "        google.colab.kernel.accessAllowed ? 'block' : 'none';\n",
              "    })();\n",
              "  </script>\n",
              "</div>\n",
              "\n",
              "  <div id=\"id_c4ad965c-6cfa-4fb9-b17a-d4ecda26c8c5\">\n",
              "    <style>\n",
              "      .colab-df-generate {\n",
              "        background-color: #E8F0FE;\n",
              "        border: none;\n",
              "        border-radius: 50%;\n",
              "        cursor: pointer;\n",
              "        display: none;\n",
              "        fill: #1967D2;\n",
              "        height: 32px;\n",
              "        padding: 0 0 0 0;\n",
              "        width: 32px;\n",
              "      }\n",
              "\n",
              "      .colab-df-generate:hover {\n",
              "        background-color: #E2EBFA;\n",
              "        box-shadow: 0px 1px 2px rgba(60, 64, 67, 0.3), 0px 1px 3px 1px rgba(60, 64, 67, 0.15);\n",
              "        fill: #174EA6;\n",
              "      }\n",
              "\n",
              "      [theme=dark] .colab-df-generate {\n",
              "        background-color: #3B4455;\n",
              "        fill: #D2E3FC;\n",
              "      }\n",
              "\n",
              "      [theme=dark] .colab-df-generate:hover {\n",
              "        background-color: #434B5C;\n",
              "        box-shadow: 0px 1px 3px 1px rgba(0, 0, 0, 0.15);\n",
              "        filter: drop-shadow(0px 1px 2px rgba(0, 0, 0, 0.3));\n",
              "        fill: #FFFFFF;\n",
              "      }\n",
              "    </style>\n",
              "    <button class=\"colab-df-generate\" onclick=\"generateWithVariable('ages')\"\n",
              "            title=\"Generate code using this dataframe.\"\n",
              "            style=\"display:none;\">\n",
              "\n",
              "  <svg xmlns=\"http://www.w3.org/2000/svg\" height=\"24px\"viewBox=\"0 0 24 24\"\n",
              "       width=\"24px\">\n",
              "    <path d=\"M7,19H8.4L18.45,9,17,7.55,7,17.6ZM5,21V16.75L18.45,3.32a2,2,0,0,1,2.83,0l1.4,1.43a1.91,1.91,0,0,1,.58,1.4,1.91,1.91,0,0,1-.58,1.4L9.25,21ZM18.45,9,17,7.55Zm-12,3A5.31,5.31,0,0,0,4.9,8.1,5.31,5.31,0,0,0,1,6.5,5.31,5.31,0,0,0,4.9,4.9,5.31,5.31,0,0,0,6.5,1,5.31,5.31,0,0,0,8.1,4.9,5.31,5.31,0,0,0,12,6.5,5.46,5.46,0,0,0,6.5,12Z\"/>\n",
              "  </svg>\n",
              "    </button>\n",
              "    <script>\n",
              "      (() => {\n",
              "      const buttonEl =\n",
              "        document.querySelector('#id_c4ad965c-6cfa-4fb9-b17a-d4ecda26c8c5 button.colab-df-generate');\n",
              "      buttonEl.style.display =\n",
              "        google.colab.kernel.accessAllowed ? 'block' : 'none';\n",
              "\n",
              "      buttonEl.onclick = () => {\n",
              "        google.colab.notebook.generateWithVariable('ages');\n",
              "      }\n",
              "      })();\n",
              "    </script>\n",
              "  </div>\n",
              "\n",
              "    </div>\n",
              "  </div>\n"
            ],
            "application/vnd.google.colaboratory.intrinsic+json": {
              "type": "dataframe",
              "variable_name": "ages",
              "summary": "{\n  \"name\": \"ages\",\n  \"rows\": 7,\n  \"fields\": [\n    {\n      \"column\": \"Age\",\n      \"properties\": {\n        \"dtype\": \"number\",\n        \"std\": 1,\n        \"min\": 8,\n        \"max\": 12,\n        \"num_unique_values\": 5,\n        \"samples\": [\n          9,\n          12,\n          10\n        ],\n        \"semantic_type\": \"\",\n        \"description\": \"\"\n      }\n    }\n  ]\n}"
            }
          },
          "metadata": {},
          "execution_count": 3
        }
      ]
    },
    {
      "cell_type": "code",
      "source": [
        "# Calcul de la moyenne des âges\n",
        "mean_age = ages[\"Age\"].mean()\n",
        "print(\"Moyenne:\", mean_age)"
      ],
      "metadata": {
        "colab": {
          "base_uri": "https://localhost:8080/"
        },
        "id": "zTeDRTUKSY93",
        "outputId": "e9b273a8-e770-46ce-f052-8f0299e7f51b"
      },
      "execution_count": null,
      "outputs": [
        {
          "output_type": "stream",
          "name": "stdout",
          "text": [
            "Moyenne: 10.142857142857142\n"
          ]
        }
      ]
    },
    {
      "cell_type": "code",
      "source": [
        "# Calcul du mode des âges\n",
        "mode_age = ages[\"Age\"].mode()[0]\n",
        "print(\"Mode:\", mode_age)"
      ],
      "metadata": {
        "colab": {
          "base_uri": "https://localhost:8080/"
        },
        "id": "iwC4iPNTSejY",
        "outputId": "5b27bfdf-f589-4250-dcac-ca3b7bc68c50"
      },
      "execution_count": null,
      "outputs": [
        {
          "output_type": "stream",
          "name": "stdout",
          "text": [
            "Mode: 10\n"
          ]
        }
      ]
    },
    {
      "cell_type": "code",
      "source": [
        "# Remplacez les valeurs par votre propre liste de tailles\n",
        "heights = pd.DataFrame({\"Height\": [150, 160, 170, 160, 155, 150, 165, 170, 160]})\n",
        "\n",
        "# Calcul de la moyenne, médiane, et mode des tailles\n",
        "mean_height = heights[\"Height\"].mean()\n",
        "median_height = heights[\"Height\"].median()\n",
        "mode_height = heights[\"Height\"].mode()[0]\n",
        "\n",
        "print(\"Moyenne des tailles:\", mean_height)\n",
        "print(\"Médiane des tailles:\", median_height)\n",
        "print(\"Mode des tailles:\", mode_height)"
      ],
      "metadata": {
        "colab": {
          "base_uri": "https://localhost:8080/"
        },
        "id": "G_6rfbKSSnmx",
        "outputId": "2cc22c9f-8d2a-4ec1-8662-8b3f6807a5c1"
      },
      "execution_count": null,
      "outputs": [
        {
          "output_type": "stream",
          "name": "stdout",
          "text": [
            "Moyenne des tailles: 160.0\n",
            "Médiane des tailles: 160.0\n",
            "Mode des tailles: 160\n"
          ]
        }
      ]
    },
    {
      "cell_type": "code",
      "source": [
        "# Calcul de l'étendue des âges\n",
        "range_age = ages[\"Age\"].max() - ages[\"Age\"].min()\n",
        "print(\"Étendue:\", range_age)"
      ],
      "metadata": {
        "colab": {
          "base_uri": "https://localhost:8080/"
        },
        "id": "GfxBSBDbUobS",
        "outputId": "5508dde5-f40e-44bb-c617-ea00c33b0df8"
      },
      "execution_count": null,
      "outputs": [
        {
          "output_type": "stream",
          "name": "stdout",
          "text": [
            "Étendue: 4\n"
          ]
        }
      ]
    },
    {
      "cell_type": "markdown",
      "source": [
        "exercice 2"
      ],
      "metadata": {
        "id": "m_I1JDkOVEqW"
      }
    },
    {
      "cell_type": "code",
      "source": [
        "import pandas as pd\n",
        "\n",
        "# Création d'une liste de notes d'examen (de 0 à 20)\n",
        "notes = pd.Series([12, 15, 8, 20, 16, 7, 18, 13, 9, 11])\n",
        "\n",
        "# Calcul de l'étendue\n",
        "etendue = notes.max() - notes.min()\n",
        "\n",
        "print(\"Liste des notes:\", notes.tolist())\n",
        "print(\"Note la plus basse:\", notes.min())\n",
        "print(\"Note la plus haute:\", notes.max())\n",
        "print(\"Étendue des notes:\", etendue)"
      ],
      "metadata": {
        "colab": {
          "base_uri": "https://localhost:8080/"
        },
        "id": "PvBhNMzLU2Vc",
        "outputId": "5704b4b3-6ec0-453c-b137-b2a6aeb539a1"
      },
      "execution_count": null,
      "outputs": [
        {
          "output_type": "stream",
          "name": "stdout",
          "text": [
            "Liste des notes: [12, 15, 8, 20, 16, 7, 18, 13, 9, 11]\n",
            "Note la plus basse: 7\n",
            "Note la plus haute: 20\n",
            "Étendue des notes: 13\n"
          ]
        }
      ]
    },
    {
      "cell_type": "code",
      "source": [
        "# Calcul de la variance des âges\n",
        "variance_age = ages[\"Age\"].var()\n",
        "print(\"Variance:\", variance_age)"
      ],
      "metadata": {
        "colab": {
          "base_uri": "https://localhost:8080/"
        },
        "id": "M_xZAhJwVHXu",
        "outputId": "f294b877-a485-48ff-8940-4d51dbb936d6"
      },
      "execution_count": null,
      "outputs": [
        {
          "output_type": "stream",
          "name": "stdout",
          "text": [
            "Variance: 1.8095238095238095\n"
          ]
        }
      ]
    },
    {
      "cell_type": "code",
      "source": [
        "# Calcul de l'écart-type des âges\n",
        "std_dev_age = ages[\"Age\"].std()\n",
        "print(\"Écart-type:\", std_dev_age)"
      ],
      "metadata": {
        "colab": {
          "base_uri": "https://localhost:8080/"
        },
        "id": "q_Imy0ELVukz",
        "outputId": "514b70de-9f02-43c2-ccae-ad14df8cdcab"
      },
      "execution_count": null,
      "outputs": [
        {
          "output_type": "stream",
          "name": "stdout",
          "text": [
            "Écart-type: 1.3451854182690985\n"
          ]
        }
      ]
    },
    {
      "cell_type": "markdown",
      "source": [
        "exercice 3"
      ],
      "metadata": {
        "id": "arMJ2CaMV5lo"
      }
    },
    {
      "cell_type": "code",
      "source": [
        "import pandas as pd\n",
        "import numpy as np\n",
        "\n",
        "# Création d'une liste de revenus mensuels (en euros)\n",
        "revenus = pd.Series([2500, 3200, 1800, 4500, 2800, 3000, 3500, 2200, 4000, 2700])\n",
        "\n",
        "# Calcul de la moyenne\n",
        "moyenne = revenus.mean()\n",
        "\n",
        "# Calcul de la variance\n",
        "variance = revenus.var()\n",
        "\n",
        "# Calcul de l'écart-type\n",
        "ecart_type = revenus.std()\n",
        "\n",
        "print(\"Liste des revenus mensuels:\", revenus.tolist())\n",
        "print(\"Revenu moyen:\", round(moyenne, 2), \"€\")\n",
        "print(\"Variance des revenus:\", round(variance, 2), \"€²\")\n",
        "print(\"Écart-type des revenus:\", round(ecart_type, 2), \"€\")\n",
        "\n",
        "# Visualisation de la dispersion\n",
        "print(\"\\nDispersion des revenus par rapport à la moyenne:\")\n",
        "for revenu in revenus:\n",
        "    difference = revenu - moyenne\n",
        "    print(f\"Revenu: {revenu} €, Différence par rapport à la moyenne: {round(difference, 2)} €\")"
      ],
      "metadata": {
        "colab": {
          "base_uri": "https://localhost:8080/"
        },
        "id": "m3wskcxIV8BY",
        "outputId": "e441efee-a2aa-47a1-b0c1-295ace6229ee"
      },
      "execution_count": null,
      "outputs": [
        {
          "output_type": "stream",
          "name": "stdout",
          "text": [
            "Liste des revenus mensuels: [2500, 3200, 1800, 4500, 2800, 3000, 3500, 2200, 4000, 2700]\n",
            "Revenu moyen: 3020.0 €\n",
            "Variance des revenus: 666222.22 €²\n",
            "Écart-type des revenus: 816.22 €\n",
            "\n",
            "Dispersion des revenus par rapport à la moyenne:\n",
            "Revenu: 2500 €, Différence par rapport à la moyenne: -520.0 €\n",
            "Revenu: 3200 €, Différence par rapport à la moyenne: 180.0 €\n",
            "Revenu: 1800 €, Différence par rapport à la moyenne: -1220.0 €\n",
            "Revenu: 4500 €, Différence par rapport à la moyenne: 1480.0 €\n",
            "Revenu: 2800 €, Différence par rapport à la moyenne: -220.0 €\n",
            "Revenu: 3000 €, Différence par rapport à la moyenne: -20.0 €\n",
            "Revenu: 3500 €, Différence par rapport à la moyenne: 480.0 €\n",
            "Revenu: 2200 €, Différence par rapport à la moyenne: -820.0 €\n",
            "Revenu: 4000 €, Différence par rapport à la moyenne: 980.0 €\n",
            "Revenu: 2700 €, Différence par rapport à la moyenne: -320.0 €\n"
          ]
        }
      ]
    },
    {
      "cell_type": "code",
      "source": [
        "import matplotlib.pyplot as plt\n",
        "\n",
        "# Création d'un diagramme à barres\n",
        "ages[\"Age\"].value_counts().plot(kind='bar', title=\"Répartition des Âges\")\n",
        "plt.xlabel(\"Âge\")\n",
        "plt.ylabel(\"Fréquence\")\n",
        "plt.show()"
      ],
      "metadata": {
        "colab": {
          "base_uri": "https://localhost:8080/",
          "height": 480
        },
        "id": "jvUBMBl2WNXn",
        "outputId": "2b742006-9b68-4944-e4a0-e9ffdb326b87"
      },
      "execution_count": null,
      "outputs": [
        {
          "output_type": "display_data",
          "data": {
            "text/plain": [
              "<Figure size 640x480 with 1 Axes>"
            ],
            "image/png": "[encoded data removed]"
          },
          "metadata": {}
        }
      ]
    },
    {
      "cell_type": "markdown",
      "source": [
        "exercice 4"
      ],
      "metadata": {
        "id": "Kp8uv9rsXRJY"
      }
    },
    {
      "cell_type": "code",
      "source": [
        "import pandas as pd\n",
        "import matplotlib.pyplot as plt\n",
        "\n",
        "# Création d'une liste des matières préférées\n",
        "matieres_preferees = ['Mathématiques', 'Histoire', 'Sciences', 'Littérature', 'Art',\n",
        "                      'Sport', 'Mathématiques', 'Sciences', 'Littérature', 'Histoire',\n",
        "                      'Sciences', 'Art', 'Mathématiques', 'Sport', 'Littérature']\n",
        "\n",
        "# Création d'un DataFrame à partir de la liste\n",
        "df = pd.DataFrame({'Matière': matieres_preferees})\n",
        "\n",
        "# Compter les occurrences de chaque matière\n",
        "compte_matieres = df['Matière'].value_counts()\n",
        "\n",
        "# Créer le diagramme à barres\n",
        "plt.figure(figsize=(10, 6))\n",
        "compte_matieres.plot(kind='bar')\n",
        "\n",
        "# Personnalisation du graphique\n",
        "plt.title('Matières Préférées des Amis', fontsize=16)\n",
        "plt.xlabel('Matières', fontsize=12)\n",
        "plt.ylabel('Nombre de Préférences', fontsize=12)\n",
        "plt.xticks(rotation=45, ha='right')\n",
        "\n",
        "# Ajouter les valeurs sur chaque barre\n",
        "for i, v in enumerate(compte_matieres):\n",
        "    plt.text(i, v, str(v), ha='center', va='bottom')\n",
        "\n",
        "# Ajuster le layout et afficher le graphique\n",
        "plt.tight_layout()\n",
        "plt.show()"
      ],
      "metadata": {
        "colab": {
          "base_uri": "https://localhost:8080/",
          "height": 500
        },
        "id": "2YnEbuvHXUZL",
        "outputId": "ef388b15-4da7-4636-8aff-17f3a8efb5c1"
      },
      "execution_count": null,
      "outputs": [
        {
          "output_type": "display_data",
          "data": {
            "text/plain": [
              "<Figure size 1000x600 with 1 Axes>"
            ],
            "image/png": "[encoded data removed]"
          },
          "metadata": {}
        }
      ]
    },
    {
      "cell_type": "code",
      "source": [
        "# Liste de notes\n",
        "notes = pd.Series([8, 9, 10, 10, 11, 12, 12, 10])\n",
        "\n",
        "# Probabilité d'obtenir un 10\n",
        "prob_10 = (notes == 10).mean()\n",
        "print(\"Probabilité d'obtenir un 10:\", prob_10)"
      ],
      "metadata": {
        "colab": {
          "base_uri": "https://localhost:8080/"
        },
        "id": "fNi4YQEfXfGv",
        "outputId": "67f9f5bb-fe28-445f-9eda-7e7097436d34"
      },
      "execution_count": null,
      "outputs": [
        {
          "output_type": "stream",
          "name": "stdout",
          "text": [
            "Probabilité d'obtenir un 10: 0.375\n"
          ]
        }
      ]
    },
    {
      "cell_type": "code",
      "source": [
        "import pandas as pd\n",
        "\n",
        "# Création d'une liste des couleurs préférées\n",
        "couleurs_preferees = ['bleu', 'rouge', 'vert', 'bleu', 'jaune', 'violet', 'bleu',\n",
        "                      'orange', 'vert', 'bleu', 'rouge', 'bleu', 'jaune', 'bleu',\n",
        "                      'violet', 'vert', 'bleu', 'rouge', 'bleu', 'orange']\n",
        "\n",
        "# Création d'un DataFrame à partir de la liste\n",
        "df = pd.DataFrame({'Couleur': couleurs_preferees})\n",
        "\n",
        "# Compter le nombre total de personnes\n",
        "total_personnes = len(df)\n",
        "\n",
        "# Compter le nombre de personnes préférant le bleu\n",
        "nombre_bleu = df['Couleur'].value_counts()['bleu']\n",
        "\n",
        "# Calculer la probabilité\n",
        "probabilite_bleu = nombre_bleu / total_personnes\n",
        "\n",
        "# Afficher les résultats\n",
        "print(f\"Nombre total de personnes : {total_personnes}\")\n",
        "print(f\"Nombre de personnes préférant le bleu : {nombre_bleu}\")\n",
        "print(f\"Probabilité que la couleur préférée soit bleue : {probabilite_bleu:.2f}\")\n",
        "print(f\"Pourcentage de préférence pour le bleu : {probabilite_bleu * 100:.2f}%\")\n",
        "\n",
        "# Afficher la distribution complète des couleurs\n",
        "distribution_couleurs = df['Couleur'].value_counts()\n",
        "print(\"\\nDistribution complète des couleurs préférées :\")\n",
        "print(distribution_couleurs)\n",
        "\n",
        "# Calculer et afficher les probabilités pour chaque couleur\n",
        "probabilites = distribution_couleurs / total_personnes\n",
        "print(\"\\nProbabilités pour chaque couleur :\")\n",
        "for couleur, prob in probabilites.items():\n",
        "    print(f\"{couleur}: {prob:.2f} ({prob * 100:.2f}%)\")"
      ],
      "metadata": {
        "colab": {
          "base_uri": "https://localhost:8080/"
        },
        "id": "oJlbiB42XzZd",
        "outputId": "516a3a6a-620f-40a6-8ccb-ca75cad68e1d"
      },
      "execution_count": null,
      "outputs": [
        {
          "output_type": "stream",
          "name": "stdout",
          "text": [
            "Nombre total de personnes : 20\n",
            "Nombre de personnes préférant le bleu : 8\n",
            "Probabilité que la couleur préférée soit bleue : 0.40\n",
            "Pourcentage de préférence pour le bleu : 40.00%\n",
            "\n",
            "Distribution complète des couleurs préférées :\n",
            "Couleur\n",
            "bleu      8\n",
            "rouge     3\n",
            "vert      3\n",
            "jaune     2\n",
            "violet    2\n",
            "orange    2\n",
            "Name: count, dtype: int64\n",
            "\n",
            "Probabilités pour chaque couleur :\n",
            "bleu: 0.40 (40.00%)\n",
            "rouge: 0.15 (15.00%)\n",
            "vert: 0.15 (15.00%)\n",
            "jaune: 0.10 (10.00%)\n",
            "violet: 0.10 (10.00%)\n",
            "orange: 0.10 (10.00%)\n"
          ]
        }
      ]
    },
    {
      "cell_type": "code",
      "source": [
        "# Calcul des quartiles\n",
        "q1 = ages[\"Age\"].quantile(0.25)\n",
        "q2 = ages[\"Age\"].quantile(0.5)  # Médiane\n",
        "q3 = ages[\"Age\"].quantile(0.75)\n",
        "\n",
        "# Calcul de l'écart interquartile\n",
        "iqr = q3 - q1\n",
        "\n",
        "print(\"Q1:\", q1, \" | Médiane (Q2):\", q2, \" | Q3:\", q3)\n",
        "print(\"Écart interquartile:\", iqr)"
      ],
      "metadata": {
        "colab": {
          "base_uri": "https://localhost:8080/"
        },
        "id": "k1kxzMmMX2wm",
        "outputId": "d9485722-c64d-42e3-cebf-d8613211be14"
      },
      "execution_count": null,
      "outputs": [
        {
          "output_type": "stream",
          "name": "stdout",
          "text": [
            "Q1: 9.5  | Médiane (Q2): 10.0  | Q3: 11.0\n",
            "Écart interquartile: 1.5\n"
          ]
        }
      ]
    },
    {
      "cell_type": "markdown",
      "source": [
        "exercice 5"
      ],
      "metadata": {
        "id": "vyEjF14KYuDz"
      }
    },
    {
      "cell_type": "code",
      "source": [
        "import pandas as pd\n",
        "import numpy as np\n",
        "\n",
        "# Création d'une liste de dépenses hebdomadaires (en euros)\n",
        "depenses = [120, 85, 200, 150, 300, 95, 180, 250, 210, 130, 175, 90, 140, 160, 110]\n",
        "\n",
        "# Conversion en Series pandas\n",
        "depenses_series = pd.Series(depenses)\n",
        "\n",
        "# Calcul des quartiles\n",
        "Q1 = depenses_series.quantile(0.25)\n",
        "mediane = depenses_series.median()\n",
        "Q3 = depenses_series.quantile(0.75)\n",
        "\n",
        "# Calcul de l'écart interquartile\n",
        "IQR = Q3 - Q1\n",
        "\n",
        "# Affichage des résultats\n",
        "print(\"Liste des dépenses hebdomadaires :\", depenses)\n",
        "print(f\"\\nPremier quartile (Q1) : {Q1:.2f} €\")\n",
        "print(f\"Médiane : {mediane:.2f} €\")\n",
        "print(f\"Troisième quartile (Q3) : {Q3:.2f} €\")\n",
        "print(f\"Écart interquartile (IQR) : {IQR:.2f} €\")\n",
        "\n",
        "# Calcul des limites pour les valeurs aberrantes\n",
        "limite_inferieure = Q1 - 1.5 * IQR\n",
        "limite_superieure = Q3 + 1.5 * IQR\n",
        "\n",
        "print(f\"\\nLimite inférieure pour les valeurs aberrantes : {limite_inferieure:.2f} €\")\n",
        "print(f\"Limite supérieure pour les valeurs aberrantes : {limite_superieure:.2f} €\")\n",
        "\n",
        "# Identification des valeurs aberrantes\n",
        "valeurs_aberrantes = depenses_series[(depenses_series < limite_inferieure) | (depenses_series > limite_superieure)]\n",
        "print(\"\\nValeurs aberrantes :\", valeurs_aberrantes.tolist())\n",
        "\n",
        "# Création d'un boxplot pour visualiser la distribution\n",
        "import matplotlib.pyplot as plt\n",
        "\n",
        "plt.figure(figsize=(10, 6))\n",
        "plt.boxplot(depenses, vert=False)\n",
        "plt.title(\"Distribution des Dépenses Hebdomadaires\")\n",
        "plt.xlabel(\"Dépenses (€)\")\n",
        "plt.show()"
      ],
      "metadata": {
        "colab": {
          "base_uri": "https://localhost:8080/",
          "height": 779
        },
        "id": "q8ZWagNoYwb3",
        "outputId": "b2c3df4a-334b-4654-8aff-0a412dc487e0"
      },
      "execution_count": null,
      "outputs": [
        {
          "output_type": "stream",
          "name": "stdout",
          "text": [
            "Liste des dépenses hebdomadaires : [120, 85, 200, 150, 300, 95, 180, 250, 210, 130, 175, 90, 140, 160, 110]\n",
            "\n",
            "Premier quartile (Q1) : 115.00 €\n",
            "Médiane : 150.00 €\n",
            "Troisième quartile (Q3) : 190.00 €\n",
            "Écart interquartile (IQR) : 75.00 €\n",
            "\n",
            "Limite inférieure pour les valeurs aberrantes : 2.50 €\n",
            "Limite supérieure pour les valeurs aberrantes : 302.50 €\n",
            "\n",
            "Valeurs aberrantes : []\n"
          ]
        },
        {
          "output_type": "display_data",
          "data": {
            "text/plain": [
              "<Figure size 1000x600 with 1 Axes>"
            ],
            "image/png": "[encoded data removed]"
          },
          "metadata": {}
        }
      ]
    },
    {
      "cell_type": "code",
      "source": [
        "# Création d'un DataFrame avec taille et poids\n",
        "data = pd.DataFrame({\n",
        "    \"Taille\": [150, 160, 170, 180, 190],\n",
        "    \"Poids\": [55, 60, 65, 70, 75]\n",
        "})\n",
        "\n",
        "# Calcul de la corrélation\n",
        "correlation = data.corr().iloc[0, 1]\n",
        "print(\"Corrélation entre Taille et Poids:\", correlation)"
      ],
      "metadata": {
        "colab": {
          "base_uri": "https://localhost:8080/"
        },
        "id": "uLDZy7zZaorF",
        "outputId": "6dbac973-3f68-4bb2-e5d0-1ebe30ba7b04"
      },
      "execution_count": null,
      "outputs": [
        {
          "output_type": "stream",
          "name": "stdout",
          "text": [
            "Corrélation entre Taille et Poids: 1.0\n"
          ]
        }
      ]
    },
    {
      "cell_type": "markdown",
      "source": [
        "exercice7"
      ],
      "metadata": {
        "id": "RyajXISObiaD"
      }
    },
    {
      "cell_type": "code",
      "source": [
        "import pandas as pd\n",
        "import matplotlib.pyplot as plt\n",
        "import seaborn as sns\n",
        "\n",
        "# Création des listes pour les heures d'étude et les notes d'examens\n",
        "heures_etude = [2, 3, 1, 4, 5, 2.5, 3.5, 4.5, 3, 6, 2, 4, 5, 3, 1.5]\n",
        "notes_examens = [65, 70, 60, 80, 85, 68, 75, 82, 72, 90, 62, 78, 88, 74, 58]\n",
        "\n",
        "# Création d'un DataFrame\n",
        "df = pd.DataFrame({\n",
        "    'Heures d\\'étude': heures_etude,\n",
        "    'Notes d\\'examens': notes_examens\n",
        "})\n",
        "\n",
        "# Calcul de la corrélation\n",
        "correlation = df['Heures d\\'étude'].corr(df['Notes d\\'examens'])\n",
        "\n",
        "print(\"Données :\")\n",
        "print(df)\n",
        "print(f\"\\nCorrélation entre les heures d'étude et les notes d'examens : {correlation:.2f}\")\n",
        "\n",
        "# Interprétation de la corrélation\n",
        "if correlation > 0.7:\n",
        "    interpretation = \"forte corrélation positive\"\n",
        "elif correlation > 0.5:\n",
        "    interpretation = \"corrélation positive modérée\"\n",
        "elif correlation > 0.3:\n",
        "    interpretation = \"faible corrélation positive\"\n",
        "elif correlation > -0.3:\n",
        "    interpretation = \"peu ou pas de corrélation\"\n",
        "elif correlation > -0.5:\n",
        "    interpretation = \"faible corrélation négative\"\n",
        "elif correlation > -0.7:\n",
        "    interpretation = \"corrélation négative modérée\"\n",
        "else:\n",
        "    interpretation = \"forte corrélation négative\"\n",
        "\n",
        "print(f\"Interprétation : Il y a une {interpretation} entre les heures d'étude et les notes d'examens.\")\n",
        "\n",
        "# Création d'un nuage de points\n",
        "plt.figure(figsize=(10, 6))\n",
        "sns.scatterplot(x='Heures d\\'étude', y='Notes d\\'examens', data=df)\n",
        "plt.title('Relation entre les Heures d\\'Étude et les Notes d\\'Examens')\n",
        "plt.xlabel('Heures d\\'Étude')\n",
        "plt.ylabel('Notes d\\'Examens')\n",
        "\n",
        "# Ajout de la ligne de régression\n",
        "sns.regplot(x='Heures d\\'étude', y='Notes d\\'examens', data=df, scatter=False, color='red')\n",
        "\n",
        "plt.show()"
      ],
      "metadata": {
        "colab": {
          "base_uri": "https://localhost:8080/",
          "height": 921
        },
        "id": "PCiiJdSKa83S",
        "outputId": "66df36af-36c2-440c-9ced-081d0e4d87bd"
      },
      "execution_count": null,
      "outputs": [
        {
          "output_type": "stream",
          "name": "stdout",
          "text": [
            "Données :\n",
            "    Heures d'étude  Notes d'examens\n",
            "0              2.0               65\n",
            "1              3.0               70\n",
            "2              1.0               60\n",
            "3              4.0               80\n",
            "4              5.0               85\n",
            "5              2.5               68\n",
            "6              3.5               75\n",
            "7              4.5               82\n",
            "8              3.0               72\n",
            "9              6.0               90\n",
            "10             2.0               62\n",
            "11             4.0               78\n",
            "12             5.0               88\n",
            "13             3.0               74\n",
            "14             1.5               58\n",
            "\n",
            "Corrélation entre les heures d'étude et les notes d'examens : 0.98\n",
            "Interprétation : Il y a une forte corrélation positive entre les heures d'étude et les notes d'examens.\n"
          ]
        },
        {
          "output_type": "display_data",
          "data": {
            "text/plain": [
              "<Figure size 1000x600 with 1 Axes>"
            ],
            "image/png": "[encoded data removed]"
          },
          "metadata": {}
        }
      ]
    }
  ]
}