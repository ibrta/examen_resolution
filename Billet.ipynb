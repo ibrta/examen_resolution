{
  "nbformat": 4,
  "nbformat_minor": 0,
  "metadata": {
    "colab": {
      "provenance": [],
      "authorship_tag": "ABX9TyNIlN0tV4X1KGZlvmTYn/kf",
      "include_colab_link": true
    },
    "kernelspec": {
      "name": "python3",
      "display_name": "Python 3"
    },
    "language_info": {
      "name": "python"
    }
  },
  "cells": [
    {
      "cell_type": "markdown",
      "metadata": {
        "id": "view-in-github",
        "colab_type": "text"
      },
      "source": [
        "<a href=\"https://colab.research.google.com/github/ibrta/examen_resolution/blob/main/Billet.ipynb\" target=\"_parent\"><img src=\"https://colab.research.google.com/assets/colab-badge.svg\" alt=\"Open In Colab\"/></a>"
      ]
    },
    {
      "cell_type": "markdown",
      "source": [
        "\n",
        "Code HTML INDEX\n",
        "\n",
        "\n"
      ],
      "metadata": {
        "id": "uG-JpRXzMgrb"
      }
    },
    {
      "cell_type": "code",
      "source": [
        "<!DOCTYPE html>\n",
        "<html lang=\"fr\">\n",
        "<head>\n",
        "    <meta charset=\"UTF-8\">\n",
        "    <title>Réservation de Billet</title>\n",
        "    <link rel=\"stylesheet\" href=\"Billet.css\">\n",
        "</head>\n",
        "<body>\n",
        "    <form id=\"billetForm\">\n",
        "        <fieldset>\n",
        "            <legend>Billet</legend>\n",
        "            <table>\n",
        "                <tr>\n",
        "                    <td><label for=\"depart\">Ville de départ :</label></td>\n",
        "                    <td>\n",
        "                        <select id=\"depart\" name=\"depart\">\n",
        "                            <option value=\"Tunis\">Tunis</option>\n",
        "                            <option value=\"Paris\">Paris</option>\n",
        "                        </select>\n",
        "                    </td>\n",
        "                    <td><label for=\"destination\">Ville de destination :</label></td>\n",
        "                    <td>\n",
        "                        <select id=\"destination\" name=\"destination\">\n",
        "                            <option value=\"Tunis\">Tunis</option>\n",
        "                            <option value=\"Paris\">Paris</option>\n",
        "                        </select>\n",
        "                    </td>\n",
        "                </tr>\n",
        "                <tr>\n",
        "                    <td><label for=\"adultes\"><span class=\"passager\">Adulte :</span></label></td>\n",
        "                    <td>\n",
        "                        <select id=\"adultes\" name=\"adultes\">\n",
        "                            <option value=\"1\">1</option>\n",
        "                            <option value=\"2\">2</option>\n",
        "                            <option value=\"3\">3</option>\n",
        "                        </select>\n",
        "                    </td>\n",
        "                    <td><label for=\"enfants\"><span class=\"passager\">Enfants (-12ans) :</span></label></td>\n",
        "                    <td>\n",
        "                        <select id=\"enfants\" name=\"enfants\">\n",
        "                            <option value=\"0\">0</option>\n",
        "                            <option value=\"1\">1</option>\n",
        "                            <option value=\"3\">3</option>\n",
        "                        </select>\n",
        "                    </td>\n",
        "                    <td><label for=\"bebes\"><span class=\"passager\">Bébés (-2ans) :</span></label></td>\n",
        "                    <td>\n",
        "                        <select id=\"bebes\" name=\"bebes\">\n",
        "                            <option value=\"0\">0</option>\n",
        "                            <option value=\"1\">1</option>\n",
        "                            <option value=\"3\">3</option>\n",
        "                        </select>\n",
        "                    </td>\n",
        "                </tr>\n",
        "                <tr>\n",
        "                    <td><button type=\"button\" onclick=\"calcul()\">Calculer</button></td>\n",
        "                    <td><input type=\"text\" id=\"prix\" name=\"prix\" size=\"10\" readonly></td>\n",
        "                </tr>\n",
        "                <tr>\n",
        "                    <td colspan=\"6\" id=\"messageErreur\"></td>\n",
        "                </tr>\n",
        "            </table>\n",
        "        </fieldset>\n",
        "    </form>\n",
        "\n",
        "    <script src=\"Billet.js\"></script>\n",
        "</body>\n",
        "</html>"
      ],
      "metadata": {
        "id": "SyBqigKoMgMm"
      },
      "execution_count": null,
      "outputs": []
    },
    {
      "cell_type": "markdown",
      "source": [
        "Billet.css"
      ],
      "metadata": {
        "id": "jkoI9wB0MtyZ"
      }
    },
    {
      "cell_type": "code",
      "source": [
        "fieldset {\n",
        "    width: 60%;\n",
        "    margin: 0 auto;\n",
        "    border: 2px solid purple;\n",
        "    padding: 20px;\n",
        "}\n",
        "\n",
        "legend {\n",
        "    font-size: 18px;\n",
        "    color: orange;\n",
        "    font-weight: bold;\n",
        "}\n",
        "\n",
        "table {\n",
        "    width: 100%;\n",
        "}\n",
        "\n",
        "td {\n",
        "    padding: 5px;\n",
        "}\n",
        "\n",
        "label[for=\"depart\"], label[for=\"destination\"] {\n",
        "    text-decoration: underline;\n",
        "    font-weight: bold;\n",
        "}\n",
        "\n",
        ".passager {\n",
        "    color: pink;\n",
        "    font-style: italic;\n",
        "}\n",
        "\n",
        "button {\n",
        "    margin-right: 10px;\n",
        "}\n",
        "\n",
        "#messageErreur {\n",
        "    color: red;\n",
        "    font-weight: bold;\n",
        "    text-align: center;\n",
        "}"
      ],
      "metadata": {
        "id": "kFx-lkcZM9_i"
      },
      "execution_count": null,
      "outputs": []
    },
    {
      "cell_type": "markdown",
      "source": [
        "Billet.js\n"
      ],
      "metadata": {
        "id": "q4fqa2fyNCD2"
      }
    },
    {
      "cell_type": "code",
      "source": [
        "function calcul() {\n",
        "    // Récupération des valeurs\n",
        "    let depart = document.getElementById(\"depart\").value;\n",
        "    let destination = document.getElementById(\"destination\").value;\n",
        "    let adultes = parseInt(document.getElementById(\"adultes\").value);\n",
        "    let enfants = parseInt(document.getElementById(\"enfants\").value);\n",
        "    let bebes = parseInt(document.getElementById(\"bebes\").value);\n",
        "\n",
        "    // Réinitialisation du message d'erreur\n",
        "    document.getElementById(\"messageErreur\").innerHTML = \"\";\n",
        "\n",
        "    // Vérification des villes\n",
        "    if (depart === destination) {\n",
        "        document.getElementById(\"messageErreur\").innerHTML = \"La ville de départ et la ville de destination doivent être différentes.\";\n",
        "        document.getElementById(\"prix\").value = \"\";\n",
        "        return;\n",
        "    }\n",
        "\n",
        "    // Détermination du prix de base\n",
        "    let prixBase;\n",
        "    if (depart === \"Tunis\" && destination === \"Paris\") {\n",
        "        prixBase = 582;\n",
        "    } else if (depart === \"Paris\" && destination === \"Tunis\") {\n",
        "        prixBase = 436;\n",
        "    } else {\n",
        "        document.getElementById(\"messageErreur\").innerHTML = \"Trajet non reconnu.\";\n",
        "        document.getElementById(\"prix\").value = \"\";\n",
        "        return;\n",
        "    }\n",
        "\n",
        "    // Calcul du prix total\n",
        "    let p1 = adultes * prixBase;\n",
        "    let p2 = enfants * prixBase * 0.5;\n",
        "    let p3 = bebes * prixBase * 0.3;\n",
        "    let prixTotal = p1 + p2 + p3;\n",
        "\n",
        "    // Affichage du résultat\n",
        "    document.getElementById(\"prix\").value = prixTotal.toFixed(2) + \" $\";\n",
        "}"
      ],
      "metadata": {
        "id": "zLqNWqAfNQrk"
      },
      "execution_count": null,
      "outputs": []
    }
  ]
}