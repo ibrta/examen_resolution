{
  "nbformat": 4,
  "nbformat_minor": 0,
  "metadata": {
    "colab": {
      "provenance": [],
      "authorship_tag": "ABX9TyNSnRvBJQlWl+zVSTgiA6md",
      "include_colab_link": true
    },
    "kernelspec": {
      "name": "python3",
      "display_name": "Python 3"
    },
    "language_info": {
      "name": "python"
    }
  },
  "cells": [
    {
      "cell_type": "markdown",
      "metadata": {
        "id": "view-in-github",
        "colab_type": "text"
      },
      "source": [
        "<a href=\"https://colab.research.google.com/github/ibrta/examen_resolution/blob/main/question11_exament2_2.ipynb\" target=\"_parent\"><img src=\"https://colab.research.google.com/assets/colab-badge.svg\" alt=\"Open In Colab\"/></a>"
      ]
    },
    {
      "cell_type": "code",
      "execution_count": 4,
      "metadata": {
        "colab": {
          "base_uri": "https://localhost:8080/",
          "height": 251
        },
        "id": "ttQcaJzQBW4K",
        "outputId": "e9d118ff-ea19-4527-bc96-6cd5ead50e41"
      },
      "outputs": [
        {
          "output_type": "error",
          "ename": "NameError",
          "evalue": "name 'donn' is not defined",
          "traceback": [
            "\u001b[0;31m---------------------------------------------------------------------------\u001b[0m",
            "\u001b[0;31mNameError\u001b[0m                                 Traceback (most recent call last)",
            "\u001b[0;32m<ipython-input-4-d0a2dd929ccd>\u001b[0m in \u001b[0;36m<cell line: 16>\u001b[0;34m()\u001b[0m\n\u001b[1;32m     14\u001b[0m \u001b[0;34m\u001b[0m\u001b[0m\n\u001b[1;32m     15\u001b[0m \u001b[0;31m# Mélangez les données aléatoirement\u001b[0m\u001b[0;34m\u001b[0m\u001b[0;34m\u001b[0m\u001b[0m\n\u001b[0;32m---> 16\u001b[0;31m \u001b[0mnbr_tot_ech\u001b[0m \u001b[0;34m=\u001b[0m \u001b[0mdonn\u001b[0m\u001b[0;34m.\u001b[0m\u001b[0mshape\u001b[0m\u001b[0;34m[\u001b[0m\u001b[0;36m0\u001b[0m\u001b[0;34m]\u001b[0m\u001b[0;34m\u001b[0m\u001b[0;34m\u001b[0m\u001b[0m\n\u001b[0m\u001b[1;32m     17\u001b[0m \u001b[0mind\u001b[0m \u001b[0;34m=\u001b[0m \u001b[0mnp\u001b[0m\u001b[0;34m.\u001b[0m\u001b[0marange\u001b[0m\u001b[0;34m(\u001b[0m\u001b[0mnbr_tot_ech\u001b[0m\u001b[0;34m)\u001b[0m\u001b[0;34m\u001b[0m\u001b[0;34m\u001b[0m\u001b[0m\n\u001b[1;32m     18\u001b[0m \u001b[0mnp\u001b[0m\u001b[0;34m.\u001b[0m\u001b[0mrandom\u001b[0m\u001b[0;34m.\u001b[0m\u001b[0mshuffle\u001b[0m\u001b[0;34m(\u001b[0m\u001b[0mind\u001b[0m\u001b[0;34m)\u001b[0m\u001b[0;34m\u001b[0m\u001b[0;34m\u001b[0m\u001b[0m\n",
            "\u001b[0;31mNameError\u001b[0m: name 'donn' is not defined"
          ]
        }
      ],
      "source": [
        "import numpy as np\n",
        "\n",
        "# Supposons que donn soit le jeu de données complet et etiq soit les étiquettes associées\n",
        "# donn.shape = (nbr_ech, nbr_car)\n",
        "# etiq.shape = (nbr_ech,)\n",
        "\n",
        "# Définissez les pourcentages pour chaque ensemble\n",
        "rat_ent = 0.8\n",
        "rat_val = 0.1\n",
        "rat_tst = 0.1\n",
        "\n",
        "# Vérifiez que les ratios sont corrects\n",
        "assert rat_ent + rat_val + rat_tst == 1.0, \"Les ratios doivent sommer à 1.0\"\n",
        "\n",
        "# Mélangez les données aléatoirement\n",
        "nbr_tot_ech = donn.shape[0]\n",
        "ind = np.arange(nbr_tot_ech)\n",
        "np.random.shuffle(ind)\n",
        "\n",
        "# Calculez le nombre de données pour chaque ensemble\n",
        "nbr_ent = int(rat_ent * nbr_tot_ech)\n",
        "nbr_val = int(rat_val * nbr_tot_ech)\n",
        "nbr_tst = nbr_tot_ech - nbr_ent - nbr_val  # Pour éviter les erreurs d'arrondi\n",
        "\n",
        "# Séparez les indices pour chaque ensemble\n",
        "ind_ent = ind[:nbr_ent]\n",
        "ind_val = ind[nbr_ent:nbr_ent + nbr_val]\n",
        "ind_tst = ind[nbr_ent + nbr_val:]\n",
        "\n",
        "# Utilisez les indices pour créer les ensembles d'entraînement, de validation et de test\n",
        "donn_ent = donn[ind_ent]\n",
        "etiq_ent = etiq[ind_ent]\n",
        "\n",
        "donn_val = donn[ind_val]\n",
        "etiq_val = etiq[ind_val]\n",
        "\n",
        "donn_tst = donn[ind_tst]\n",
        "etiq_tst = etiq[ind_tst]\n",
        "\n",
        "# Vérifiez les dimensions pour être sûr\n",
        "print(\"Forme des données d'entraînement:\", donn_ent.shape)\n",
        "print(\"Forme des données de validation:\", donn_val.shape)\n",
        "print(\"Forme des données de test:\", donn_tst.shape)"
      ]
    }
  ]
}