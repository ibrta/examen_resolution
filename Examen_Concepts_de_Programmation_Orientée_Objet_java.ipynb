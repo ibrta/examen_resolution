{
  "nbformat": 4,
  "nbformat_minor": 0,
  "metadata": {
    "colab": {
      "provenance": [],
      "authorship_tag": "ABX9TyNWEZYUo7Bm/ELTS5sGXDvq",
      "include_colab_link": true
    },
    "kernelspec": {
      "name": "python3",
      "display_name": "Python 3"
    },
    "language_info": {
      "name": "python"
    }
  },
  "cells": [
    {
      "cell_type": "markdown",
      "metadata": {
        "id": "view-in-github",
        "colab_type": "text"
      },
      "source": [
        "<a href=\"https://colab.research.google.com/github/ibrta/examen_resolution/blob/EXAMENS-PRATIQUES-EN-CLASSES/Examen_Concepts_de_Programmation_Orient%C3%A9e_Objet_java.ipynb\" target=\"_parent\"><img src=\"https://colab.research.google.com/assets/colab-badge.svg\" alt=\"Open In Colab\"/></a>"
      ]
    },
    {
      "cell_type": "markdown",
      "source": [
        "Partie 1 : Java\n",
        "Votre tâche :\n",
        "\n",
        "Créez un fichier Java et réalisez les étapes suivantes :\n",
        "\n",
        "1-Définissez une classe Person avec les attributs name et age.\n",
        "2-Implémentez un constructeur pour initialiser ces attributs.\n",
        "3-Ajoutez une méthode greet qui affiche un message de salutation incluant le nom de la personne.\n",
        "4-Redéfinissez la méthode toString pour retourner une représentation de l'objet sous forme de chaîne de caractères.\n",
        "5-Instanciez un objet de la classe Person avec votre nom et âge.\n",
        "6-Appelez la méthode greet et affichez l'objet.\n"
      ],
      "metadata": {
        "id": "NfvajO1p9af_"
      }
    },
    {
      "cell_type": "code",
      "source": [
        "%%writefile Person.java\n",
        "public class Person {\n",
        "    // Attributs de la classe\n",
        "    private String name;\n",
        "    private int age;\n",
        "\n",
        "    // Constructeur\n",
        "    public Person(String name, int age) {\n",
        "        this.name = name;\n",
        "        this.age = age;\n",
        "    }\n",
        "\n",
        "    // Méthode greet\n",
        "    public void greet() {\n",
        "        System.out.println(\"Bonjour, je m'appelle \" + name + \" !\");\n",
        "    }\n",
        "\n",
        "    // Redéfinition de la méthode toString\n",
        "    @Override\n",
        "    public String toString() {\n",
        "        return \"Person{name='\" + name + \"', age=\" + age + \"}\";\n",
        "    }\n",
        "\n",
        "    public static void main(String[] args) {\n",
        "        // Instanciation d'un objet Person\n",
        "        Person person = new Person(\"Tarek\", 40);\n",
        "\n",
        "        // Appel de la méthode greet\n",
        "        person.greet();\n",
        "\n",
        "        // Affichage de l'objet (appel implicite de toString)\n",
        "        System.out.println(person);\n",
        "    }\n",
        "}"
      ],
      "metadata": {
        "colab": {
          "base_uri": "https://localhost:8080/"
        },
        "id": "umNgQUni98sk",
        "outputId": "54434925-201e-4311-bb87-5a536d87fa0d"
      },
      "execution_count": 12,
      "outputs": [
        {
          "output_type": "stream",
          "name": "stdout",
          "text": [
            "Overwriting Person.java\n"
          ]
        }
      ]
    },
    {
      "cell_type": "code",
      "source": [
        "!javac Person.java\n",
        "!java Person"
      ],
      "metadata": {
        "colab": {
          "base_uri": "https://localhost:8080/"
        },
        "id": "g7V7OBZrA55K",
        "outputId": "8f978d35-cc4f-410b-e008-b46f60ca5441"
      },
      "execution_count": 13,
      "outputs": [
        {
          "output_type": "stream",
          "name": "stdout",
          "text": [
            "Bonjour, je m'appelle Tarek !\n",
            "Person{name='Tarek', age=40}\n"
          ]
        }
      ]
    }
  ]
}