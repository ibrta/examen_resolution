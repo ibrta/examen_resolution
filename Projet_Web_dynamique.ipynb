{
  "nbformat": 4,
  "nbformat_minor": 0,
  "metadata": {
    "colab": {
      "provenance": [],
      "authorship_tag": "ABX9TyNou5zxQ4b0XSb3aNV3Z8bP",
      "include_colab_link": true
    },
    "kernelspec": {
      "name": "python3",
      "display_name": "Python 3"
    },
    "language_info": {
      "name": "python"
    }
  },
  "cells": [
    {
      "cell_type": "markdown",
      "metadata": {
        "id": "view-in-github",
        "colab_type": "text"
      },
      "source": [
        "<a href=\"https://colab.research.google.com/github/ibrta/examen_resolution/blob/main/Projet_Web_dynamique.ipynb\" target=\"_parent\"><img src=\"https://colab.research.google.com/assets/colab-badge.svg\" alt=\"Open In Colab\"/></a>"
      ]
    },
    {
      "cell_type": "code",
      "execution_count": null,
      "metadata": {
        "id": "bzgou81ovGMK"
      },
      "outputs": [],
      "source": [
        "nano 1-setup_web_server.sh"
      ]
    },
    {
      "cell_type": "code",
      "source": [
        "#!/bin/bash\n",
        "\n",
        "# Mise à jour du système\n",
        "sudo yum update -y\n",
        "\n",
        "# Affichage de la version du noyau\n",
        "cat /proc/version\n",
        "\n",
        "# Installation des paquets nécessaires\n",
        "sudo yum install -y git httpd mariadb-server php\n",
        "\n",
        "# Configuration du serveur Apache\n",
        "sudo systemctl enable httpd\n",
        "sudo systemctl start httpd\n",
        "sudo systemctl status httpd\n",
        "\n",
        "# Configuration du serveur MariaDB\n",
        "sudo systemctl enable mariadb\n",
        "sudo systemctl start mariadb\n",
        "sudo systemctl status mariadb\n",
        "\n",
        "# Vérification des versions\n",
        "sudo httpd -v\n",
        "sudo mysql --version\n",
        "sudo php --version\n",
        "\n",
        "# Configuration des permissions et des liens symboliques\n",
        "sudo ln -s /var/www/ /home/ec2-user/environment\n",
        "sudo chown ec2-user:ec2-user /var/www/html\n",
        "\n",
        "# Création du fichier index.html initial\n",
        "cd /var/www/html\n",
        "echo \"<html>Hello from the café web server</html>\" > /var/www/html/index.html\n",
        "\n",
        "# Pause pour vérification du site web\n",
        "echo \"Ajout d'une pause de 1 minute pour consulter le site web ==> Adresse IP publique\"\n",
        "echo \"Début de la pause, testez svp\"\n",
        "sleep 60\n",
        "echo \"Pause terminée. Appuyez sur une touche pour continuer...\"\n",
        "read -n 1 -s -r -p \" \"\n",
        "echo \"Continuer le script\"\n",
        "\n",
        "# Nettoyage et clonage du projet MVC eCommerce\n",
        "sudo rm -rf index.html /var/www/html/*\n",
        "sudo git clone https://github.com/devopsgodhrehouma/mvc-ecommerce.git\n",
        "sudo mv /var/www/html/mvc-ecommerce/* /var/www/html/\n",
        "sudo rm -rf /var/www/html/mvc-ecommerce\n",
        "sudo systemctl restart httpd\n",
        "sudo chown ec2-user:ec2-user /var/www/html\n",
        "sudo chmod -R 755 /var/www/html\n",
        "\n",
        "# Pause pour vérification du site web\n",
        "echo \"Ajout d'une pause pour consulter le site web ==> Adresse IP publique\"\n",
        "echo \"Testez et ensuite, Appuyez sur une touche pour continuer...\"\n",
        "read -n 1 -s -r -p \" \"\n",
        "echo \"Continuer le script\"\n",
        "\n",
        "# Nettoyage et création des répertoires de projets\n",
        "sudo rm -rf /var/www/html/*\n",
        "echo \"<html>Hello from the café web server</html>\" > /var/www/html/index.html\n",
        "\n",
        "sudo mkdir /var/www/html/mvc-ecommerce\n",
        "sudo mkdir /var/www/html/netflix\n",
        "sudo mkdir /var/www/html/vcard\n",
        "\n",
        "# Clonage des projets depuis GitHub\n",
        "sudo git clone https://github.com/devopsgodhrehouma/mvc-ecommerce.git /var/www/html/mvc-ecommerce\n",
        "sudo git clone https://github.com/pro-prodipto/Netflix-Website-Project.git /var/www/html/netflix\n",
        "sudo git clone https://github.com/codewithsadee/vcard-personal-portfolio.git /var/www/html/vcard\n",
        "\n",
        "# Configuration des permissions des répertoires\n",
        "sudo chown -R ec2-user:ec2-user /var/www/html/mvc-ecommerce\n",
        "sudo chown -R ec2-user:ec2-user /var/www/html/netflix\n",
        "sudo chown -R ec2-user:ec2-user /var/www/html/vcard\n",
        "sudo chmod -R 755 /var/www/html/mvc-ecommerce\n",
        "sudo chmod -R 755 /var/www/html/netflix\n",
        "sudo chmod -R 755 /var/www/html/vcard\n",
        "sudo systemctl restart httpd\n",
        "\n",
        "# Pause à la fin pour tester les projets\n",
        "echo \"Ajout d'une pause pour tester les projets ==> Adresse IP publique\"\n",
        "echo \"Testez et ensuite, Appuyez sur une touche pour terminer...\"\n",
        "read -n 1 -s -r -p \" \"\n",
        "echo \"Fin du script.\"\n",
        "\n",
        "# Fin du script\n",
        "echo \"Script terminé.\""
      ],
      "metadata": {
        "id": "6TKii5u7vLD7"
      },
      "execution_count": null,
      "outputs": []
    },
    {
      "cell_type": "code",
      "source": [
        "chmod +x 1-setup_web_server.sh\n",
        "sh 1-setup_web_server.sh"
      ],
      "metadata": {
        "id": "pfmYtNccvSkC"
      },
      "execution_count": null,
      "outputs": []
    },
    {
      "cell_type": "code",
      "source": [],
      "metadata": {
        "id": "p3U0ZDOSvVnA"
      },
      "execution_count": null,
      "outputs": []
    },
    {
      "cell_type": "markdown",
      "source": [],
      "metadata": {
        "id": "pqdedvwyytOl"
      }
    }
  ]
}