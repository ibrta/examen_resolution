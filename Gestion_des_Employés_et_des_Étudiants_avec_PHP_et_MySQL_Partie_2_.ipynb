{
  "nbformat": 4,
  "nbformat_minor": 0,
  "metadata": {
    "colab": {
      "provenance": [],
      "authorship_tag": "ABX9TyPrCHU0lVkLROib2Dv309w7",
      "include_colab_link": true
    },
    "kernelspec": {
      "name": "python3",
      "display_name": "Python 3"
    },
    "language_info": {
      "name": "python"
    }
  },
  "cells": [
    {
      "cell_type": "markdown",
      "metadata": {
        "id": "view-in-github",
        "colab_type": "text"
      },
      "source": [
        "<a href=\"https://colab.research.google.com/github/ibrta/examen_resolution/blob/EXAMENS-PRATIQUES-EN-CLASSES/Gestion_des_Employ%C3%A9s_et_des_%C3%89tudiants_avec_PHP_et_MySQL_Partie_2_.ipynb\" target=\"_parent\"><img src=\"https://colab.research.google.com/assets/colab-badge.svg\" alt=\"Open In Colab\"/></a>"
      ]
    },
    {
      "cell_type": "markdown",
      "source": [
        "(3%) Qu'est-ce que MySQLi et pourquoi est-il utilisé en PHP ?"
      ],
      "metadata": {
        "id": "phEnlBg_2cf6"
      }
    },
    {
      "cell_type": "markdown",
      "source": [
        "MySQLi, ou MySQL Amélioré, est une extension de PHP qui facilite la communication avec des bases de données MySQL. Elle est conçue pour être plus performante et sécurisée que l'ancienne méthode de connexion. Voici quelques points clés :\n",
        "* Fonctionnalités avancées : MySQLi permet d'utiliser des requêtes préparées, ce qui aide à prévenir les attaques par injection SQL. Cela signifie que les données envoyées à la base de données sont traitées de manière sécurisée.\n",
        "* Support des transactions : Cette extension offre également la possibilité de gérer des transactions, ce qui permet d'effectuer plusieurs opérations de base de données en une seule fois, tout en garantissant que toutes réussissent ou échouent ensemble.\n",
        "* Interface orientée objet : MySQLi propose une interface qui peut être utilisée avec la programmation orientée objet, rendant le code plus clair et plus structuré.\n",
        "* Compatibilité : Elle est compatible avec les versions récentes de MySQL, ce qui en fait un choix idéal pour le développement d'applications web modernes."
      ],
      "metadata": {
        "id": "cXzUgKHL2SgC"
      }
    },
    {
      "cell_type": "markdown",
      "source": [
        "(3%) Énumérez et expliquez les paramètres nécessaires pour établir une connexion MySQLi."
      ],
      "metadata": {
        "id": "RsYxO_m42VHB"
      }
    },
    {
      "cell_type": "markdown",
      "source": [
        "Paramètres nécessaires pour établir une connexion MySQLi\n",
        "Pour établir une connexion MySQLi, il faut:\n",
        "Hôte (serveur): L'adresse du serveur MySQL (dans notre cas cest localhost et par defaut cest le port 8888, idealement ne pas changer la configuration du port)\n",
        "\n",
        "Nom d'utilisateur : Le nom d'utilisateur pour accéder à la base de données. (root)\n",
        "\n",
        "Mot de passe : Le mot de passe associé au nom d'utilisateur. (root pour mac)\n",
        "\n",
        "Nom de la base de données qu'on va utiliser, pas obligatoire pour se connecter mais c'est important de le savoir pour que une fois connecter on puisse travailler sur celle qui nous interesse.\n"
      ],
      "metadata": {
        "id": "iAV9dNeJ2mpG"
      }
    },
    {
      "cell_type": "markdown",
      "source": [
        "(3%) Écrivez une ligne de code PHP pour établir une connexion MySQLi à une base de données"
      ],
      "metadata": {
        "id": "BvPPN2om43jl"
      }
    },
    {
      "cell_type": "code",
      "source": [
        " <?php\n",
        "            $serveur = \"localhost\";\n",
        "            $utilisateur = \"root\";\n",
        "            $pwd = \"\";\n",
        "            $bd = \"gestion_employes\";\n",
        "\n",
        "            $conn = new mysqli($serveur, $utilisateur, $pwd, $bd);\n",
        "\n",
        "            if ($conn->connect_error) {\n",
        "                die(\"Connexion échouée : \" . $conn->connect_error);\n",
        "            }"
      ],
      "metadata": {
        "id": "QUDs9ZBq2z6i"
      },
      "execution_count": null,
      "outputs": []
    },
    {
      "cell_type": "markdown",
      "source": [
        "(3%)Expliquez la différence entre mysql_* et mysqli_. Pourquoi devriez-vous utiliser mysqli_ ?"
      ],
      "metadata": {
        "id": "P92mLy765yxl"
      }
    },
    {
      "cell_type": "markdown",
      "source": [
        "mysql est une version obsolete de mysqli. Elle ne permet pas l'utilisation de requêtes préparées, ce qui est essentiel pour sécuriser les applications contre les injections SQL.\n",
        "\n",
        "sur le plan des fonctionnalités:\n",
        "\n",
        "Requêtes préparées : Cela permet de séparer la logique de la requête des données, réduisant ainsi le risque d'injections SQL.\n",
        "\n",
        "Prise en charge des transactions : Mysqli permet de gérer des transactions, ce qui est crucial pour garantir l'intégrité des données.\n",
        "\n",
        "Interface orientée objet : Mysqli propose une interface orientée objet en plus de l'interface procédurale, offrant une plus grande flexibilité aux développeurs.\n",
        "\n",
        "sur le plan de la securité:\n",
        "\n",
        "mysql_ : En raison de l'absence de requêtes préparées et d'autres mécanismes de sécurité, cette extension est vulnérable aux attaques par injection SQL.\n",
        "\n",
        "mysqli_ : Avec son support pour les requêtes préparées et d'autres fonctionnalités de sécurité, mysqli est beaucoup plus sûr. Cela en fait un choix recommandé pour le développement d'applications web modernes.\n",
        "\n",
        "sur le plan de la compatibilité:\n",
        "\n",
        "mysql_ : Cette extension n'est plus maintenue et n'est pas compatible avec les versions récentes de MySQL.\n",
        "\n",
        "mysqli_ : Mysqli est conçu pour être compatible avec les versions récentes de MySQL, ce qui le rend adapté pour les projets actuels."
      ],
      "metadata": {
        "id": "i5p1Zk5l6Fi9"
      }
    },
    {
      "cell_type": "markdown",
      "source": [],
      "metadata": {
        "id": "xLTpneln2e2F"
      }
    },
    {
      "cell_type": "markdown",
      "source": [
        "(3%)Comment préparez-vous une requête d'insertion avec MySQLi ? Donnez un exemple de code."
      ],
      "metadata": {
        "id": "xcMP11RF86XN"
      }
    },
    {
      "cell_type": "code",
      "source": [
        "\n",
        "$stmt = $conn->prepare(\"INSERT INTO employes (nom, prenom, boutique) VALUES (?, ?, ?)\");"
      ],
      "metadata": {
        "id": "5cyXHJ8c8nn2"
      },
      "execution_count": null,
      "outputs": []
    },
    {
      "cell_type": "markdown",
      "source": [],
      "metadata": {
        "id": "uhynTp1C8-mJ"
      }
    },
    {
      "cell_type": "markdown",
      "source": [
        "(3%) Quelle est la différence entre query() et prepare() en MySQLi ? Dans quels cas utiliseriez-vous l'un plutôt que l'autre ?"
      ],
      "metadata": {
        "id": "RDLWQTMvDIjO"
      }
    },
    {
      "cell_type": "markdown",
      "source": [
        "La différence entre query() et prepare() en MySQLi réside principalement dans la manière dont elles traitent les requêtes SQL et leur sécurité.\n",
        "\n",
        "\n",
        "1. Méthode query()\n",
        "Utilisation : query() est utilisée pour exécuter directement une requête SQL. Elle est simple et rapide pour des requêtes statiques qui ne nécessitent pas de paramètres externes.\n",
        "Sécurité : Elle est plus vulnérable aux injections SQL, car les valeurs sont directement intégrées dans la requête.\n",
        "Performance : Chaque fois que vous exécutez une requête avec query(), elle est analysée et exécutée à chaque fois, ce qui peut être inefficace si vous devez exécuter la même requête plusieurs fois.\n",
        "\n",
        "\n",
        "2. Méthode prepare()\n",
        "Utilisation : prepare() est utilisée pour préparer une requête SQL avec des placeholders (?) à la place des valeurs. Cela permet de lier des variables aux paramètres lors de l'exécution.\n",
        "Sécurité : Elle offre une meilleure protection contre les injections SQL, car les valeurs sont liées séparément de la logique SQL.\n",
        "Performance : Une fois préparée, une requête peut être exécutée plusieurs fois avec des valeurs différentes sans avoir besoin d'être analysée à chaque fois, ce qui améliore l'efficacité dans le cas d'exécutions répétées.\n",
        "\n",
        "Quand utiliser l'un plutôt que l'autre\n",
        "Utilisez query() lorsque :\n",
        "Vous exécutez des requêtes simples sans paramètres externes.\n",
        "La performance n'est pas un problème crucial, comme pour des opérations ponctuelles.\n",
        "Utilisez prepare() lorsque :\n",
        "Vous devez exécuter des requêtes avec des paramètres (par exemple, lors de l'insertion ou de la sélection de données basées sur des entrées utilisateur).\n",
        "Vous prévoyez d'exécuter la même requête plusieurs fois avec différentes valeurs."
      ],
      "metadata": {
        "id": "tV0NBZWW9n75"
      }
    },
    {
      "cell_type": "markdown",
      "source": [
        "(3%) Comment récupérez-vous les résultats d'une requête SELECT avec MySQLi ? Fournissez un exemple de code."
      ],
      "metadata": {
        "id": "QfQ65vfY99Tt"
      }
    },
    {
      "cell_type": "code",
      "source": [
        "$sql = \"SELECT nom, prenom FROM employes\";\n",
        "$result = $conn->query($sql);\n",
        "# avec query()\n"
      ],
      "metadata": {
        "id": "oURZQoDh_HXH"
      },
      "execution_count": null,
      "outputs": []
    },
    {
      "cell_type": "code",
      "source": [
        "$stmt = $conn->prepare(\"SELECT nom, prenom FROM employes WHERE id = ?\");\n",
        "$id = 1; // Exemple d'ID à rechercher\n",
        "$stmt->bind_param(\"i\", $id); // Lier le paramètre\n",
        "\n",
        "// Exécuter la requête\n",
        "$stmt->execute();\n",
        "\n",
        "// Récupérer les résultats\n",
        "$result = $stmt->get_result();\n",
        "\n",
        "# avec prepare()"
      ],
      "metadata": {
        "id": "5gS6cWy6_Uc2"
      },
      "execution_count": null,
      "outputs": []
    },
    {
      "cell_type": "markdown",
      "source": [
        " (3%)Expliquez le rôle du fichier AjoutEmployee.php dans le projet MySQLi. Que fait-il et comment interagit-il avec la base de données ?"
      ],
      "metadata": {
        "id": "2EvgFXAv-SCZ"
      }
    },
    {
      "cell_type": "markdown",
      "source": [
        "Traitement des données du formulaire : Il récupère les données envoyées via la méthode POST, telles que le nom, le prénom et éventuellement d'autres informations comme la boutique.\n",
        "\n",
        "Connexion à la base de données : AjoutEmployee.php établit une connexion à la base de données MySQL en utilisant MySQLi. Cela implique l'utilisation des informations d'identification (serveur, utilisateur, mot de passe, nom de la base de données) pour se connecter.\n",
        "\n",
        "Préparation et exécution de la requête d'insertion :\n",
        "Une fois connecté, le fichier prépare une requête SQL d'insertion (INSERT INTO) pour ajouter un nouvel employé à la table appropriée dans la base de données.\n",
        "\n",
        "Gestion des erreurs :\n",
        "Après l'exécution de la requête, le fichier vérifie si l'insertion a réussi et gère les erreurs potentielles en fournissant des messages appropriés.\n",
        "\n",
        "Fermeture de la connexion :\n",
        "Enfin, le fichier ferme la connexion à la base de données pour libérer les ressources.\n",
        "\n"
      ],
      "metadata": {
        "id": "a1-lQBT9_3Lg"
      }
    },
    {
      "cell_type": "markdown",
      "source": [
        "(3%) Comment gérez-vous les erreurs avec MySQLi ? Donnez un exemple de code."
      ],
      "metadata": {
        "id": "8O8AsnS--DBP"
      }
    },
    {
      "cell_type": "code",
      "source": [
        "<?php\n",
        "#Configuration des paramètres de connexion\n",
        "$serveur = \"localhost\";\n",
        "$utilisateur = \"root\";\n",
        "$pwd = \"root\";\n",
        "$bd = \"gestion_employes\";\n",
        "\n",
        "#Établir la connexion à la base de données\n",
        "$conn = new mysqli($serveur, $utilisateur, $pwd, $bd);\n",
        "\n",
        "#Vérifier la connexion\n",
        "if ($conn->connect_error) {\n",
        "    die(\"Échec de la connexion : \" . $conn->connect_error);\n",
        "}\n",
        "\n",
        "#Préparer une requête d'insertion\n",
        "$stmt = $conn->prepare(\"INSERT INTO employes (nom, prenom) VALUES (?, ?)\");\n",
        "\n",
        "#Vérifier si la préparation a échoué\n",
        "if (!$stmt) {\n",
        "    die(\"Échec lors de la préparation : (\" . $conn->errno . \") \" . $conn->error);\n",
        "}\n",
        "\n",
        "#Lier les paramètres\n",
        "$nom = \"Dupont\";\n",
        "$prenom = \"Jean\";\n",
        "$stmt->bind_param(\"ss\", $nom, $prenom);\n",
        "\n",
        "#Exécuter la requête et vérifier le succès\n",
        "if (!$stmt->execute()) {\n",
        "    echo \"Erreur lors de l'exécution de la requête : (\" . $stmt->errno . \") \" . $stmt->error;\n",
        "} else {\n",
        "    echo \"Nouvel employé ajouté avec succès.\";\n",
        "}\n",
        "\n",
        "#Fermer la déclaration et la connexion\n",
        "$stmt->close();\n",
        "$conn->close();\n",
        "?>"
      ],
      "metadata": {
        "id": "4Ll6uAADDT1Z"
      },
      "execution_count": null,
      "outputs": []
    }
  ]
}