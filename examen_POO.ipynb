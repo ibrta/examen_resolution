{
  "nbformat": 4,
  "nbformat_minor": 0,
  "metadata": {
    "colab": {
      "provenance": [],
      "authorship_tag": "ABX9TyPoS/v6UFKoF5kLqz/gJZeV",
      "include_colab_link": true
    },
    "kernelspec": {
      "name": "python3",
      "display_name": "Python 3"
    },
    "language_info": {
      "name": "python"
    }
  },
  "cells": [
    {
      "cell_type": "markdown",
      "metadata": {
        "id": "view-in-github",
        "colab_type": "text"
      },
      "source": [
        "<a href=\"https://colab.research.google.com/github/ibrta/examen_resolution/blob/EXAMENS-PRATIQUES-EN-CLASSES/examen_POO.ipynb\" target=\"_parent\"><img src=\"https://colab.research.google.com/assets/colab-badge.svg\" alt=\"Open In Colab\"/></a>"
      ]
    },
    {
      "cell_type": "markdown",
      "source": [
        "Partie 2:\n",
        "1-  Définissez brièvement ce qu'est la programmation orientée objet.\n",
        "2 - C'est quoi l'héritage en orienté objet , donnez un exemple en python ou en java"
      ],
      "metadata": {
        "id": "ZurDMfsEKn2-"
      }
    },
    {
      "cell_type": "markdown",
      "source": [
        "La programmation orientée objet est une approche de programmation qui se concentre sur la création et l'interaction d'objets. Ces objets contiennent des données sous forme d'attributs et du code sous forme de méthodes. Les principaux concepts de la POO incluent :\n",
        "L'encapsulation : regroupement des données et des méthodes qui les manipulent.\n",
        "L'abstraction : simplification d'objets complexes en ne montrant que les détails essentiels.\n",
        "L'héritage : création de nouvelles classes basées sur des classes existantes.\n",
        "Le polymorphisme : capacité d'utiliser une interface commune pour des types différents.\n",
        "La POO permet de structurer les programmes de manière modulaire, réutilisable et plus facile à maintenir."
      ],
      "metadata": {
        "id": "9aT6yRKUKxnG"
      }
    },
    {
      "cell_type": "markdown",
      "source": [
        "L'héritage est un mécanisme fondamental en POO qui permet à une classe (appelée classe dérivée ou sous-classe) d'hériter des propriétés et méthodes d'une autre classe (appelée classe de base ou superclasse). Cela favorise la réutilisation du code et permet d'établir une hiérarchie entre les classes."
      ],
      "metadata": {
        "id": "wet39KhLLk6L"
      }
    },
    {
      "cell_type": "code",
      "source": [
        "class Animal:\n",
        "    def __init__(self, name):\n",
        "        self.name = name\n",
        "\n",
        "    def speak(self):\n",
        "        pass\n",
        "\n",
        "class Dog(Animal):\n",
        "    def speak(self):\n",
        "        return f\"{self.name} says Woof!\"\n",
        "\n",
        "class Cat(Animal):\n",
        "    def speak(self):\n",
        "        return f\"{self.name} says Meow!\"\n",
        "\n",
        "# Utilisation\n",
        "dog = Dog(\"Nixon\")\n",
        "cat = Cat(\"Gringo\")\n",
        "\n",
        "print(dog.speak())  # Output: Nixon says Woof!\n",
        "print(cat.speak())  # Output: Gringo says Meow!"
      ],
      "metadata": {
        "colab": {
          "base_uri": "https://localhost:8080/"
        },
        "id": "azUcwCpcLJHz",
        "outputId": "3cefae33-30bf-4c55-fbf7-b3f83c5377f8"
      },
      "execution_count": 1,
      "outputs": [
        {
          "output_type": "stream",
          "name": "stdout",
          "text": [
            "Nixon says Woof!\n",
            "Gringo says Meow!\n"
          ]
        }
      ]
    }
  ]
}